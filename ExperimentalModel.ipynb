{
 "cells": [
  {
   "cell_type": "markdown",
   "metadata": {},
   "source": [
    "## Import Libraries"
   ]
  },
  {
   "cell_type": "code",
   "execution_count": 1,
   "metadata": {
    "execution": {
     "iopub.execute_input": "2022-08-01T18:12:33.855305Z",
     "iopub.status.busy": "2022-08-01T18:12:33.854987Z",
     "iopub.status.idle": "2022-08-01T18:12:35.073506Z",
     "shell.execute_reply": "2022-08-01T18:12:35.072769Z",
     "shell.execute_reply.started": "2022-08-01T18:12:33.855223Z"
    },
    "trusted": true
   },
   "outputs": [],
   "source": [
    "import glob\n",
    "import os\n",
    "\n",
    "import pandas as pd\n",
    "import numpy as np\n",
    "from numpy import zeros, newaxis\n",
    "import cv2\n",
    "\n",
    "import matplotlib.pyplot as plt\n",
    "import seaborn\n",
    "import random\n",
    "from sklearn.preprocessing import StandardScaler\n",
    "\n",
    "\n",
    "random.seed(42)"
   ]
  },
  {
   "cell_type": "markdown",
   "metadata": {},
   "source": [
    "## Read Data"
   ]
  },
  {
   "cell_type": "code",
   "execution_count": 2,
   "metadata": {
    "execution": {
     "iopub.execute_input": "2022-08-01T18:12:39.366043Z",
     "iopub.status.busy": "2022-08-01T18:12:39.365367Z",
     "iopub.status.idle": "2022-08-01T18:12:39.478716Z",
     "shell.execute_reply": "2022-08-01T18:12:39.477939Z",
     "shell.execute_reply.started": "2022-08-01T18:12:39.366006Z"
    },
    "trusted": true
   },
   "outputs": [],
   "source": [
    "axial_image = 'MRNet-v1.0/train/axial/0000.npy'\n",
    "coronal_image = 'MRNet-v1.0/train/coronal/0000.npy'\n",
    "saggital_image = 'MRNet-v1.0/train/sagittal/0000.npy'\n",
    "\n",
    "\n",
    "img_array_axial = np.load(axial_image)\n",
    "img_array_coronal = np.load(coronal_image)\n",
    "img_array_sagittal = np.load(saggital_image)"
   ]
  },
  {
   "cell_type": "code",
   "execution_count": 3,
   "metadata": {
    "execution": {
     "iopub.execute_input": "2022-08-01T18:12:44.018551Z",
     "iopub.status.busy": "2022-08-01T18:12:44.018272Z",
     "iopub.status.idle": "2022-08-01T18:12:44.022791Z",
     "shell.execute_reply": "2022-08-01T18:12:44.022063Z",
     "shell.execute_reply.started": "2022-08-01T18:12:44.018517Z"
    },
    "trusted": true
   },
   "outputs": [],
   "source": [
    "abnormal_path_train =  'MRNet-v1.0/train-abnormal.csv'\n",
    "acl_path_train = 'MRNet-v1.0/train-acl.csv'\n",
    "meniscus_train =  'MRNet-v1.0/train-meniscus.csv'\n",
    "\n",
    "\n",
    "abnormal_path_valid =  'MRNet-v1.0/valid-abnormal.csv'\n",
    "acl_path_valid = 'MRNet-v1.0/valid-acl.csv'\n",
    "meniscus_valid =  'MRNet-v1.0/valid-meniscus.csv'\n"
   ]
  },
  {
   "cell_type": "code",
   "execution_count": 4,
   "metadata": {
    "execution": {
     "iopub.execute_input": "2022-08-01T18:12:47.238631Z",
     "iopub.status.busy": "2022-08-01T18:12:47.238075Z",
     "iopub.status.idle": "2022-08-01T18:12:47.246725Z",
     "shell.execute_reply": "2022-08-01T18:12:47.245741Z",
     "shell.execute_reply.started": "2022-08-01T18:12:47.238595Z"
    },
    "trusted": true
   },
   "outputs": [],
   "source": [
    "def load_labels(abnormal_path, acl_path, meniscus_path):\n",
    "    \n",
    "    df_labels_abnormal =  pd.read_csv(abnormal_path, names=['Image_Name', 'Abnormal_Label'])\n",
    "    df_labels_acl = pd.read_csv(acl_path, names=['Image_Name', 'Acl_Label'])\n",
    "    df_labels_meniscus = pd.read_csv(meniscus_path, names=['Image_Name', 'Meniscus_Label'])\n",
    "    \n",
    "    df_lables_combined = pd.merge(df_labels_abnormal, df_labels_acl, how = 'left', left_on=['Image_Name'], right_on=['Image_Name'])\n",
    "    df_lables_combined = pd.merge(df_lables_combined, df_labels_meniscus, how = 'left', left_on=['Image_Name'], right_on=['Image_Name'])\n",
    "    df_lables_combined['Image_Name'] = df_lables_combined['Image_Name'].astype(str)\n",
    "    df_lables_combined['Image_Name'] = df_lables_combined['Image_Name'].apply(lambda x: x.zfill(4))\n",
    "    \n",
    "    return df_lables_combined"
   ]
  },
  {
   "cell_type": "code",
   "execution_count": 5,
   "metadata": {
    "execution": {
     "iopub.execute_input": "2022-08-01T18:12:50.034805Z",
     "iopub.status.busy": "2022-08-01T18:12:50.034263Z",
     "iopub.status.idle": "2022-08-01T18:12:50.090029Z",
     "shell.execute_reply": "2022-08-01T18:12:50.08935Z",
     "shell.execute_reply.started": "2022-08-01T18:12:50.03477Z"
    },
    "trusted": true
   },
   "outputs": [
    {
     "data": {
      "text/plain": "     Image_Name  Abnormal_Label  Acl_Label  Meniscus_Label\n0          0000               1          0               0\n1          0001               1          1               1\n2          0002               1          0               0\n3          0003               1          0               1\n4          0004               1          0               0\n...         ...             ...        ...             ...\n1125       1125               1          0               1\n1126       1126               1          0               1\n1127       1127               0          0               0\n1128       1128               1          0               0\n1129       1129               1          1               0\n\n[1130 rows x 4 columns]",
      "text/html": "<div>\n<style scoped>\n    .dataframe tbody tr th:only-of-type {\n        vertical-align: middle;\n    }\n\n    .dataframe tbody tr th {\n        vertical-align: top;\n    }\n\n    .dataframe thead th {\n        text-align: right;\n    }\n</style>\n<table border=\"1\" class=\"dataframe\">\n  <thead>\n    <tr style=\"text-align: right;\">\n      <th></th>\n      <th>Image_Name</th>\n      <th>Abnormal_Label</th>\n      <th>Acl_Label</th>\n      <th>Meniscus_Label</th>\n    </tr>\n  </thead>\n  <tbody>\n    <tr>\n      <th>0</th>\n      <td>0000</td>\n      <td>1</td>\n      <td>0</td>\n      <td>0</td>\n    </tr>\n    <tr>\n      <th>1</th>\n      <td>0001</td>\n      <td>1</td>\n      <td>1</td>\n      <td>1</td>\n    </tr>\n    <tr>\n      <th>2</th>\n      <td>0002</td>\n      <td>1</td>\n      <td>0</td>\n      <td>0</td>\n    </tr>\n    <tr>\n      <th>3</th>\n      <td>0003</td>\n      <td>1</td>\n      <td>0</td>\n      <td>1</td>\n    </tr>\n    <tr>\n      <th>4</th>\n      <td>0004</td>\n      <td>1</td>\n      <td>0</td>\n      <td>0</td>\n    </tr>\n    <tr>\n      <th>...</th>\n      <td>...</td>\n      <td>...</td>\n      <td>...</td>\n      <td>...</td>\n    </tr>\n    <tr>\n      <th>1125</th>\n      <td>1125</td>\n      <td>1</td>\n      <td>0</td>\n      <td>1</td>\n    </tr>\n    <tr>\n      <th>1126</th>\n      <td>1126</td>\n      <td>1</td>\n      <td>0</td>\n      <td>1</td>\n    </tr>\n    <tr>\n      <th>1127</th>\n      <td>1127</td>\n      <td>0</td>\n      <td>0</td>\n      <td>0</td>\n    </tr>\n    <tr>\n      <th>1128</th>\n      <td>1128</td>\n      <td>1</td>\n      <td>0</td>\n      <td>0</td>\n    </tr>\n    <tr>\n      <th>1129</th>\n      <td>1129</td>\n      <td>1</td>\n      <td>1</td>\n      <td>0</td>\n    </tr>\n  </tbody>\n</table>\n<p>1130 rows × 4 columns</p>\n</div>"
     },
     "execution_count": 5,
     "metadata": {},
     "output_type": "execute_result"
    }
   ],
   "source": [
    "# Load Train Labels\n",
    "df_labels_train = load_labels(abnormal_path_train, acl_path_train, meniscus_train)\n",
    "df_labels_train"
   ]
  },
  {
   "cell_type": "code",
   "execution_count": 6,
   "metadata": {
    "execution": {
     "iopub.execute_input": "2022-08-01T18:12:50.382897Z",
     "iopub.status.busy": "2022-08-01T18:12:50.382436Z",
     "iopub.status.idle": "2022-08-01T18:12:50.414066Z",
     "shell.execute_reply": "2022-08-01T18:12:50.413384Z",
     "shell.execute_reply.started": "2022-08-01T18:12:50.382861Z"
    },
    "trusted": true
   },
   "outputs": [
    {
     "data": {
      "text/plain": "    Image_Name  Abnormal_Label  Acl_Label  Meniscus_Label\n0         1130               0          0               0\n1         1131               0          0               0\n2         1132               0          0               0\n3         1133               0          0               0\n4         1134               0          0               0\n..         ...             ...        ...             ...\n115       1245               1          1               1\n116       1246               1          1               1\n117       1247               1          0               1\n118       1248               1          1               1\n119       1249               1          0               1\n\n[120 rows x 4 columns]",
      "text/html": "<div>\n<style scoped>\n    .dataframe tbody tr th:only-of-type {\n        vertical-align: middle;\n    }\n\n    .dataframe tbody tr th {\n        vertical-align: top;\n    }\n\n    .dataframe thead th {\n        text-align: right;\n    }\n</style>\n<table border=\"1\" class=\"dataframe\">\n  <thead>\n    <tr style=\"text-align: right;\">\n      <th></th>\n      <th>Image_Name</th>\n      <th>Abnormal_Label</th>\n      <th>Acl_Label</th>\n      <th>Meniscus_Label</th>\n    </tr>\n  </thead>\n  <tbody>\n    <tr>\n      <th>0</th>\n      <td>1130</td>\n      <td>0</td>\n      <td>0</td>\n      <td>0</td>\n    </tr>\n    <tr>\n      <th>1</th>\n      <td>1131</td>\n      <td>0</td>\n      <td>0</td>\n      <td>0</td>\n    </tr>\n    <tr>\n      <th>2</th>\n      <td>1132</td>\n      <td>0</td>\n      <td>0</td>\n      <td>0</td>\n    </tr>\n    <tr>\n      <th>3</th>\n      <td>1133</td>\n      <td>0</td>\n      <td>0</td>\n      <td>0</td>\n    </tr>\n    <tr>\n      <th>4</th>\n      <td>1134</td>\n      <td>0</td>\n      <td>0</td>\n      <td>0</td>\n    </tr>\n    <tr>\n      <th>...</th>\n      <td>...</td>\n      <td>...</td>\n      <td>...</td>\n      <td>...</td>\n    </tr>\n    <tr>\n      <th>115</th>\n      <td>1245</td>\n      <td>1</td>\n      <td>1</td>\n      <td>1</td>\n    </tr>\n    <tr>\n      <th>116</th>\n      <td>1246</td>\n      <td>1</td>\n      <td>1</td>\n      <td>1</td>\n    </tr>\n    <tr>\n      <th>117</th>\n      <td>1247</td>\n      <td>1</td>\n      <td>0</td>\n      <td>1</td>\n    </tr>\n    <tr>\n      <th>118</th>\n      <td>1248</td>\n      <td>1</td>\n      <td>1</td>\n      <td>1</td>\n    </tr>\n    <tr>\n      <th>119</th>\n      <td>1249</td>\n      <td>1</td>\n      <td>0</td>\n      <td>1</td>\n    </tr>\n  </tbody>\n</table>\n<p>120 rows × 4 columns</p>\n</div>"
     },
     "execution_count": 6,
     "metadata": {},
     "output_type": "execute_result"
    }
   ],
   "source": [
    "# Load Valid Labels\n",
    "df_labels_valid = load_labels(abnormal_path_valid, acl_path_valid, meniscus_valid)\n",
    "df_labels_valid"
   ]
  },
  {
   "cell_type": "code",
   "execution_count": 7,
   "metadata": {
    "execution": {
     "iopub.execute_input": "2022-08-01T18:12:53.82328Z",
     "iopub.status.busy": "2022-08-01T18:12:53.822763Z",
     "iopub.status.idle": "2022-08-01T18:12:53.832668Z",
     "shell.execute_reply": "2022-08-01T18:12:53.831847Z",
     "shell.execute_reply.started": "2022-08-01T18:12:53.823245Z"
    },
    "trusted": true
   },
   "outputs": [
    {
     "data": {
      "text/plain": "['MRNet-v1.0\\\\train',\n 'MRNet-v1.0\\\\train-abnormal.csv',\n 'MRNet-v1.0\\\\train-acl.csv',\n 'MRNet-v1.0\\\\train-meniscus.csv',\n 'MRNet-v1.0\\\\valid',\n 'MRNet-v1.0\\\\valid-abnormal.csv',\n 'MRNet-v1.0\\\\valid-acl.csv',\n 'MRNet-v1.0\\\\valid-meniscus.csv']"
     },
     "execution_count": 7,
     "metadata": {},
     "output_type": "execute_result"
    }
   ],
   "source": [
    "glob.glob('MRNet-v1.0\\*')"
   ]
  },
  {
   "cell_type": "code",
   "execution_count": 8,
   "metadata": {
    "execution": {
     "iopub.execute_input": "2022-08-01T18:15:13.958225Z",
     "iopub.status.busy": "2022-08-01T18:15:13.957679Z",
     "iopub.status.idle": "2022-08-01T18:15:13.970992Z",
     "shell.execute_reply": "2022-08-01T18:15:13.970307Z",
     "shell.execute_reply.started": "2022-08-01T18:15:13.958189Z"
    },
    "trusted": true
   },
   "outputs": [
    {
     "name": "stdout",
     "output_type": "stream",
     "text": [
      "Total samples in data: 1130\n",
      "Loading Data From :    MRNet-v1.0\\train\\axial\n",
      "Loading Complete From :    MRNet-v1.0\\train\\axial\n",
      "\n",
      "\n",
      "\n",
      "Total samples in data: 1130\n",
      "Loading Data From :    MRNet-v1.0\\train\\coronal\n",
      "Loading Complete From :    MRNet-v1.0\\train\\coronal\n",
      "\n",
      "\n",
      "\n",
      "Total samples in data: 1130\n",
      "Loading Data From :    MRNet-v1.0\\train\\sagittal\n",
      "Loading Complete From :    MRNet-v1.0\\train\\sagittal\n",
      "\n",
      "\n",
      "\n"
     ]
    }
   ],
   "source": [
    "# Read Traning Data\n",
    "df_labels_train.pop(\"Image_Name\")\n",
    "def read_data(train_path, df_labels):\n",
    "    axial_images = []\n",
    "    coronal_images = []\n",
    "    sagittal_images = []\n",
    "    \n",
    "    # train_path = '/kaggle/input/mrnet-v1/MRNet-v1.0/train'\n",
    "    train_folders = glob.glob(train_path + '/*')\n",
    "    \n",
    "    for folder in train_folders:\n",
    "        train_data = glob.glob(folder + '/*.npy')\n",
    "        print('Total samples in data:', len(train_data))\n",
    "        print('Loading Data From :   ', folder)\n",
    "        \n",
    "        for i in train_data:\n",
    "#             print(i)\n",
    "            img_array = np.load(i)\n",
    "            start, end = (img_array.shape[0]/2)-8, (img_array.shape[0]/2)+8\n",
    "            image_tensor = img_array[int(start):int(end),:,:].reshape(256,256,16)\n",
    "            if 'axial' in i:\n",
    "                axial_images.append(image_tensor)\n",
    "            if 'coronal' in i:\n",
    "                coronal_images.append(image_tensor)\n",
    "            if 'sagittal' in i:\n",
    "                sagittal_images.append(image_tensor)\n",
    "        print('Loading Complete From :   ', folder)\n",
    "        print('\\n\\n')\n",
    "    return axial_images, coronal_images, sagittal_images\n",
    "\n",
    "train_path =  'MRNet-v1.0\\\\train'\n",
    "valid_path =  'MRNet-v1.0\\\\valid'\n",
    "\n",
    "axial_images_train, coronal_images_train, sagittal_images_train = read_data(train_path, df_labels_train)"
   ]
  },
  {
   "cell_type": "code",
   "execution_count": 9,
   "metadata": {},
   "outputs": [],
   "source": [
    "yTrain = df_labels_train.pop('Abnormal_Label')\n",
    "yTest = df_labels_valid.pop('Abnormal_Label')"
   ]
  },
  {
   "cell_type": "code",
   "execution_count": 10,
   "metadata": {
    "execution": {
     "iopub.execute_input": "2022-08-01T18:16:41.70741Z",
     "iopub.status.busy": "2022-08-01T18:16:41.706274Z",
     "iopub.status.idle": "2022-08-01T18:16:42.241847Z",
     "shell.execute_reply": "2022-08-01T18:16:42.241129Z",
     "shell.execute_reply.started": "2022-08-01T18:16:41.707373Z"
    },
    "trusted": true
   },
   "outputs": [
    {
     "name": "stdout",
     "output_type": "stream",
     "text": [
      "(1130, 256, 256, 16)\n",
      "(1130, 256, 256, 16)\n",
      "(1130, 256, 256, 16)\n"
     ]
    }
   ],
   "source": [
    "print(np.array(axial_images_train).shape)\n",
    "print(np.array(coronal_images_train).shape)\n",
    "print(np.array(sagittal_images_train).shape)"
   ]
  },
  {
   "cell_type": "markdown",
   "metadata": {},
   "source": [
    "## Modeling"
   ]
  },
  {
   "cell_type": "code",
   "execution_count": 12,
   "metadata": {
    "execution": {
     "iopub.execute_input": "2022-08-01T18:17:23.16607Z",
     "iopub.status.busy": "2022-08-01T18:17:23.1658Z",
     "iopub.status.idle": "2022-08-01T18:17:28.705067Z",
     "shell.execute_reply": "2022-08-01T18:17:28.703859Z",
     "shell.execute_reply.started": "2022-08-01T18:17:23.166039Z"
    },
    "trusted": true
   },
   "outputs": [],
   "source": [
    "from __future__ import print_function\n",
    "import tensorflow.keras\n",
    "from tensorflow.keras.models import Model, Sequential\n",
    "from tensorflow.keras.optimizers import *\n",
    "from tensorflow.keras.layers import *\n",
    "from tensorflow.keras.activations import *\n",
    "from tensorflow.keras.callbacks import *\n",
    "from tensorflow.keras.preprocessing.image import ImageDataGenerator\n",
    "from tensorflow.keras.regularizers import l2\n",
    "from tensorflow.keras import backend as K\n"
   ]
  },
  {
   "cell_type": "code",
   "execution_count": 24,
   "metadata": {
    "execution": {
     "iopub.execute_input": "2022-08-01T18:17:28.709841Z",
     "iopub.status.busy": "2022-08-01T18:17:28.709623Z",
     "iopub.status.idle": "2022-08-01T18:17:31.248823Z",
     "shell.execute_reply": "2022-08-01T18:17:31.248124Z",
     "shell.execute_reply.started": "2022-08-01T18:17:28.709811Z"
    },
    "trusted": true
   },
   "outputs": [
    {
     "name": "stdout",
     "output_type": "stream",
     "text": [
      "Model: \"model_1\"\n",
      "__________________________________________________________________________________________________\n",
      " Layer (type)                   Output Shape         Param #     Connected to                     \n",
      "==================================================================================================\n",
      " input_6 (InputLayer)           [(None, 256, 256, 1  0           []                               \n",
      "                                6)]                                                               \n",
      "                                                                                                  \n",
      " input_7 (InputLayer)           [(None, 256, 256, 1  0           []                               \n",
      "                                6)]                                                               \n",
      "                                                                                                  \n",
      " conv2d_10 (Conv2D)             (None, 252, 252, 15  6015        ['input_6[0][0]']                \n",
      "                                )                                                                 \n",
      "                                                                                                  \n",
      " conv2d_12 (Conv2D)             (None, 252, 252, 15  6015        ['input_7[0][0]']                \n",
      "                                )                                                                 \n",
      "                                                                                                  \n",
      " max_pooling2d_10 (MaxPooling2D  (None, 126, 126, 15  0          ['conv2d_10[0][0]']              \n",
      " )                              )                                                                 \n",
      "                                                                                                  \n",
      " max_pooling2d_12 (MaxPooling2D  (None, 126, 126, 15  0          ['conv2d_12[0][0]']              \n",
      " )                              )                                                                 \n",
      "                                                                                                  \n",
      " conv2d_11 (Conv2D)             (None, 122, 122, 16  6016        ['max_pooling2d_10[0][0]']       \n",
      "                                )                                                                 \n",
      "                                                                                                  \n",
      " conv2d_13 (Conv2D)             (None, 122, 122, 16  6016        ['max_pooling2d_12[0][0]']       \n",
      "                                )                                                                 \n",
      "                                                                                                  \n",
      " max_pooling2d_11 (MaxPooling2D  (None, 61, 61, 16)  0           ['conv2d_11[0][0]']              \n",
      " )                                                                                                \n",
      "                                                                                                  \n",
      " max_pooling2d_13 (MaxPooling2D  (None, 61, 61, 16)  0           ['conv2d_13[0][0]']              \n",
      " )                                                                                                \n",
      "                                                                                                  \n",
      " flatten_5 (Flatten)            (None, 59536)        0           ['max_pooling2d_11[0][0]']       \n",
      "                                                                                                  \n",
      " flatten_6 (Flatten)            (None, 59536)        0           ['max_pooling2d_13[0][0]']       \n",
      "                                                                                                  \n",
      " concatenate_1 (Concatenate)    (None, 119072)       0           ['flatten_5[0][0]',              \n",
      "                                                                  'flatten_6[0][0]']              \n",
      "                                                                                                  \n",
      " dense_3 (Dense)                (None, 100)          11907300    ['concatenate_1[0][0]']          \n",
      "                                                                                                  \n",
      " dense_4 (Dense)                (None, 50)           5050        ['dense_3[0][0]']                \n",
      "                                                                                                  \n",
      " input_8 (InputLayer)           [(None, 256, 256, 1  0           []                               \n",
      "                                6)]                                                               \n",
      "                                                                                                  \n",
      " dense_5 (Dense)                (None, 1)            51          ['dense_4[0][0]']                \n",
      "                                                                                                  \n",
      "==================================================================================================\n",
      "Total params: 11,936,463\n",
      "Trainable params: 11,936,463\n",
      "Non-trainable params: 0\n",
      "__________________________________________________________________________________________________\n",
      "None\n"
     ]
    }
   ],
   "source": [
    "# Three Input Model\n",
    "\n",
    "def model ():\n",
    "    visible1 = Input(shape=(256,256,16))\n",
    "    \n",
    "    conv11 = Conv2D( filters=15, kernel_size=(5,5), activation=\"relu\")(visible1)\n",
    "    pool11 = MaxPool2D(pool_size=(2,2),strides=(2,2))(conv11)\n",
    "    \n",
    "    conv12 = Conv2D( filters=16, kernel_size=(5,5), activation=\"relu\")(pool11)\n",
    "    pool12 = MaxPool2D(pool_size=(2,2),strides=(2,2))(conv12)\n",
    "\n",
    "    flat1 = Flatten()(pool12)\n",
    "    \n",
    "    return flat1, visible1\n",
    "model()\n",
    "\n",
    "# merge input models\n",
    "model_1, Visible_1 = model()\n",
    "model_2, Visible_2 = model()\n",
    "model_3, Visible_3 = model()\n",
    "\n",
    "merge = concatenate([model_1, model_2])\n",
    "\n",
    "hidden1 = Dense(100, activation='relu')(merge)\n",
    "hidden2 = Dense(50, activation='relu')(hidden1)\n",
    "output = Dense(1, activation='sigmoid')(hidden2)\n",
    "model = Model(inputs=[Visible_1, Visible_2, Visible_3], outputs=output)\n",
    "\n",
    "print(model.summary())"
   ]
  },
  {
   "cell_type": "code",
   "execution_count": 26,
   "metadata": {
    "execution": {
     "iopub.execute_input": "2022-08-01T18:17:44.19531Z",
     "iopub.status.busy": "2022-08-01T18:17:44.195045Z",
     "iopub.status.idle": "2022-08-01T18:18:10.873209Z",
     "shell.execute_reply": "2022-08-01T18:18:10.872365Z",
     "shell.execute_reply.started": "2022-08-01T18:17:44.19528Z"
    },
    "trusted": true
   },
   "outputs": [
    {
     "name": "stdout",
     "output_type": "stream",
     "text": [
      "Epoch 1/20\n",
      "29/29 [==============================] - 61s 2s/step - loss: 0.0237 - binary_accuracy: 1.0000 - val_loss: 0.6534 - val_binary_accuracy: 0.8274\n",
      "Epoch 2/20\n",
      "29/29 [==============================] - 54s 2s/step - loss: 0.0218 - binary_accuracy: 1.0000 - val_loss: 0.6322 - val_binary_accuracy: 0.8097\n",
      "Epoch 3/20\n",
      "29/29 [==============================] - 53s 2s/step - loss: 0.0202 - binary_accuracy: 1.0000 - val_loss: 0.6735 - val_binary_accuracy: 0.8319\n",
      "Epoch 4/20\n",
      "29/29 [==============================] - 53s 2s/step - loss: 0.0190 - binary_accuracy: 1.0000 - val_loss: 0.6525 - val_binary_accuracy: 0.8186\n",
      "Epoch 5/20\n",
      "29/29 [==============================] - 55s 2s/step - loss: 0.0175 - binary_accuracy: 1.0000 - val_loss: 0.6587 - val_binary_accuracy: 0.8319\n",
      "Epoch 6/20\n",
      "29/29 [==============================] - 53s 2s/step - loss: 0.0164 - binary_accuracy: 1.0000 - val_loss: 0.6685 - val_binary_accuracy: 0.8230\n",
      "Epoch 7/20\n",
      "29/29 [==============================] - 53s 2s/step - loss: 0.0155 - binary_accuracy: 1.0000 - val_loss: 0.6704 - val_binary_accuracy: 0.8319\n",
      "Epoch 8/20\n",
      "29/29 [==============================] - 54s 2s/step - loss: 0.0146 - binary_accuracy: 1.0000 - val_loss: 0.6782 - val_binary_accuracy: 0.8186\n",
      "Epoch 9/20\n",
      "29/29 [==============================] - 53s 2s/step - loss: 0.0138 - binary_accuracy: 1.0000 - val_loss: 0.6888 - val_binary_accuracy: 0.8274\n",
      "Epoch 10/20\n",
      "29/29 [==============================] - 53s 2s/step - loss: 0.0131 - binary_accuracy: 1.0000 - val_loss: 0.6720 - val_binary_accuracy: 0.8319\n",
      "Epoch 11/20\n",
      "29/29 [==============================] - 54s 2s/step - loss: 0.0123 - binary_accuracy: 1.0000 - val_loss: 0.6743 - val_binary_accuracy: 0.8274\n",
      "Epoch 12/20\n",
      "29/29 [==============================] - 53s 2s/step - loss: 0.0118 - binary_accuracy: 1.0000 - val_loss: 0.6853 - val_binary_accuracy: 0.8319\n",
      "Epoch 13/20\n",
      "29/29 [==============================] - 53s 2s/step - loss: 0.0112 - binary_accuracy: 1.0000 - val_loss: 0.6800 - val_binary_accuracy: 0.8319\n",
      "Epoch 14/20\n",
      "29/29 [==============================] - 53s 2s/step - loss: 0.0108 - binary_accuracy: 1.0000 - val_loss: 0.6903 - val_binary_accuracy: 0.8319\n",
      "Epoch 15/20\n",
      "29/29 [==============================] - 53s 2s/step - loss: 0.0103 - binary_accuracy: 1.0000 - val_loss: 0.6907 - val_binary_accuracy: 0.8363\n",
      "Epoch 16/20\n",
      "29/29 [==============================] - 53s 2s/step - loss: 0.0099 - binary_accuracy: 1.0000 - val_loss: 0.6917 - val_binary_accuracy: 0.8319\n",
      "Epoch 17/20\n",
      "29/29 [==============================] - 53s 2s/step - loss: 0.0094 - binary_accuracy: 1.0000 - val_loss: 0.6925 - val_binary_accuracy: 0.8407\n",
      "Epoch 18/20\n",
      "29/29 [==============================] - 53s 2s/step - loss: 0.0091 - binary_accuracy: 1.0000 - val_loss: 0.6991 - val_binary_accuracy: 0.8319\n",
      "Epoch 19/20\n",
      "29/29 [==============================] - 53s 2s/step - loss: 0.0087 - binary_accuracy: 1.0000 - val_loss: 0.6998 - val_binary_accuracy: 0.8319\n",
      "Epoch 20/20\n",
      "29/29 [==============================] - 52s 2s/step - loss: 0.0084 - binary_accuracy: 1.0000 - val_loss: 0.6923 - val_binary_accuracy: 0.8363\n"
     ]
    },
    {
     "data": {
      "text/plain": "<keras.callbacks.History at 0x203d19591f0>"
     },
     "execution_count": 26,
     "metadata": {},
     "output_type": "execute_result"
    }
   ],
   "source": [
    "lr = 0.00005\n",
    "momentum = 0.6\n",
    "epochs = 20\n",
    "model.compile(loss=tensorflow.keras.losses.binary_crossentropy,\n",
    "              optimizer=tensorflow.keras.optimizers.SGD( learning_rate = lr, momentum = momentum),metrics=[\"binary_accuracy\"])\n",
    "\n",
    "model.fit(x = [np.array(coronal_images_train), np.array(sagittal_images_train), np.array(axial_images_train)],\n",
    "          y = yTrain,\n",
    "          epochs=epochs,\n",
    "          batch_size=32,\n",
    "          validation_split=0.20)\n"
   ]
  },
  {
   "cell_type": "code",
   "execution_count": 27,
   "metadata": {},
   "outputs": [
    {
     "name": "stdout",
     "output_type": "stream",
     "text": [
      "[name: \"/device:CPU:0\"\n",
      "device_type: \"CPU\"\n",
      "memory_limit: 268435456\n",
      "locality {\n",
      "}\n",
      "incarnation: 11011857856274166967\n",
      "xla_global_id: -1\n",
      "]\n"
     ]
    }
   ],
   "source": [
    "from tensorflow.python.client import device_lib\n",
    "print(device_lib.list_local_devices())"
   ]
  },
  {
   "cell_type": "code",
   "execution_count": 28,
   "metadata": {
    "trusted": true
   },
   "outputs": [
    {
     "name": "stdout",
     "output_type": "stream",
     "text": [
      "You must install pydot (`pip install pydot`) and install graphviz (see instructions at https://graphviz.gitlab.io/download/) for plot_model to work.\n"
     ]
    }
   ],
   "source": [
    "from keras.utils.vis_utils import plot_model\n",
    "plot_model(model, to_file='model_architecture.png', show_shapes=True, show_layer_names=True)\n"
   ]
  },
  {
   "cell_type": "code",
   "execution_count": 29,
   "metadata": {
    "execution": {
     "iopub.execute_input": "2022-08-01T18:18:21.432219Z",
     "iopub.status.busy": "2022-08-01T18:18:21.431923Z",
     "iopub.status.idle": "2022-08-01T18:18:28.826244Z",
     "shell.execute_reply": "2022-08-01T18:18:28.825522Z",
     "shell.execute_reply.started": "2022-08-01T18:18:21.432189Z"
    },
    "trusted": true
   },
   "outputs": [
    {
     "name": "stdout",
     "output_type": "stream",
     "text": [
      "Total samples in data: 120\n",
      "Loading Data From :    MRNet-v1.0\\valid\\axial\n",
      "Loading Complete From :    MRNet-v1.0\\valid\\axial\n",
      "\n",
      "\n",
      "\n",
      "Total samples in data: 120\n",
      "Loading Data From :    MRNet-v1.0\\valid\\coronal\n",
      "Loading Complete From :    MRNet-v1.0\\valid\\coronal\n",
      "\n",
      "\n",
      "\n",
      "Total samples in data: 120\n",
      "Loading Data From :    MRNet-v1.0\\valid\\sagittal\n",
      "Loading Complete From :    MRNet-v1.0\\valid\\sagittal\n",
      "\n",
      "\n",
      "\n"
     ]
    }
   ],
   "source": [
    "axial_images_valid, coronal_images_valid, sagittal_images_valid = read_data(valid_path, df_labels_valid.astype('float32'))"
   ]
  },
  {
   "cell_type": "markdown",
   "metadata": {},
   "source": [
    "## Evaluate Model"
   ]
  },
  {
   "cell_type": "code",
   "execution_count": 31,
   "metadata": {
    "execution": {
     "iopub.execute_input": "2022-08-01T18:18:47.630231Z",
     "iopub.status.busy": "2022-08-01T18:18:47.629973Z",
     "iopub.status.idle": "2022-08-01T18:18:48.447761Z",
     "shell.execute_reply": "2022-08-01T18:18:48.446982Z",
     "shell.execute_reply.started": "2022-08-01T18:18:47.630201Z"
    },
    "trusted": true
   },
   "outputs": [
    {
     "name": "stdout",
     "output_type": "stream",
     "text": [
      "4/4 [==============================] - 1s 273ms/step\n"
     ]
    }
   ],
   "source": [
    "y_pred = model.predict([ np.array(coronal_images_valid), np.array(sagittal_images_valid), np.array(axial_images_valid)])"
   ]
  },
  {
   "cell_type": "code",
   "execution_count": 32,
   "metadata": {
    "execution": {
     "iopub.execute_input": "2022-08-01T18:18:48.449878Z",
     "iopub.status.busy": "2022-08-01T18:18:48.449631Z",
     "iopub.status.idle": "2022-08-01T18:18:48.461336Z",
     "shell.execute_reply": "2022-08-01T18:18:48.460532Z",
     "shell.execute_reply.started": "2022-08-01T18:18:48.449844Z"
    },
    "trusted": true
   },
   "outputs": [
    {
     "data": {
      "text/plain": "array([[0.49918014],\n       [0.9250235 ],\n       [0.49767265],\n       [0.15310729],\n       [0.8911452 ],\n       [0.9997275 ],\n       [0.9119148 ],\n       [0.99374586],\n       [0.82053685],\n       [0.790589  ],\n       [0.9996654 ],\n       [0.99996173],\n       [0.9591416 ],\n       [0.99999493],\n       [0.9999955 ],\n       [0.93521047],\n       [0.19040617],\n       [0.21184956],\n       [0.11607963],\n       [0.96539277],\n       [0.00330325],\n       [0.9996408 ],\n       [0.6646743 ],\n       [0.93198276],\n       [0.99534035],\n       [0.9965625 ],\n       [0.99559104],\n       [0.1512655 ],\n       [0.99999535],\n       [0.4579554 ],\n       [0.9863014 ],\n       [0.999305  ],\n       [0.9933658 ],\n       [0.99999166],\n       [0.42238578],\n       [0.28066435],\n       [0.99863803],\n       [0.5772969 ],\n       [0.62623787],\n       [0.9988505 ],\n       [0.9999759 ],\n       [0.9999968 ],\n       [0.90036285],\n       [0.9906236 ],\n       [0.9991785 ],\n       [0.9798644 ],\n       [0.9995564 ],\n       [0.99999994],\n       [0.9996502 ],\n       [0.99704593],\n       [0.9982092 ],\n       [0.9569799 ],\n       [0.998979  ],\n       [0.99997616],\n       [0.999171  ],\n       [0.99883693],\n       [0.9979089 ],\n       [0.9999957 ],\n       [0.99999917],\n       [0.96940494],\n       [0.9993008 ],\n       [0.999998  ],\n       [0.9685471 ],\n       [0.9494781 ],\n       [0.9999997 ],\n       [0.98839   ],\n       [0.99984026],\n       [0.30253297],\n       [0.72792184],\n       [0.99968576],\n       [0.24739827],\n       [0.99451846],\n       [0.99994755],\n       [0.9999563 ],\n       [0.9999214 ],\n       [0.9996903 ],\n       [0.99998206],\n       [0.99826807],\n       [0.53839797],\n       [0.9999076 ],\n       [0.99999917],\n       [0.997584  ],\n       [0.5717359 ],\n       [0.98483163],\n       [0.9999984 ],\n       [0.9981525 ],\n       [0.97932523],\n       [0.8095477 ],\n       [0.99927574],\n       [0.9972444 ],\n       [0.32111025],\n       [0.999893  ],\n       [0.9967854 ],\n       [0.99976534],\n       [0.99985397],\n       [0.9055565 ],\n       [0.9999924 ],\n       [0.9992973 ],\n       [0.965929  ],\n       [0.99985766],\n       [0.9966471 ],\n       [0.99993527],\n       [0.99982864],\n       [0.9998618 ],\n       [0.99999696],\n       [0.81134796],\n       [0.9646747 ],\n       [0.9936471 ],\n       [0.99993074],\n       [0.99999917],\n       [0.9999589 ],\n       [0.9728295 ],\n       [0.99724627],\n       [0.99990463],\n       [0.9964474 ],\n       [0.9758883 ],\n       [0.9998636 ],\n       [0.9998664 ],\n       [0.99999934],\n       [0.7207204 ]], dtype=float32)"
     },
     "execution_count": 32,
     "metadata": {},
     "output_type": "execute_result"
    }
   ],
   "source": [
    "y_pred"
   ]
  },
  {
   "cell_type": "code",
   "execution_count": 34,
   "metadata": {},
   "outputs": [
    {
     "name": "stdout",
     "output_type": "stream",
     "text": [
      "LR: 5e-05\n",
      "Momentum: 0.6\n",
      "Epochs: 20\n",
      "Abnormal MRI AUC: 0.7313684210526316\n",
      "Abnormal MRI Accuracy: 0.7916666666666666\n",
      "\n",
      "\n"
     ]
    }
   ],
   "source": [
    "from sklearn.metrics import roc_auc_score, accuracy_score\n",
    "ypreds_abnormal_soft = list(y_pred[:,0])\n",
    "ypreds_abnormal_hard = list(np.array(y_pred[:,0]).round())\n",
    "ytrue_abnormal = yTest #(np.array(df_labels_valid)[:,0])\n",
    "auc_abnormal = roc_auc_score(y_score= ypreds_abnormal_soft, y_true= ytrue_abnormal)\n",
    "accuracy_abnormal = accuracy_score(y_true= ytrue_abnormal, y_pred= ypreds_abnormal_hard)\n",
    "\n",
    "logString = \"LR: \" + str(lr) + \"\\nMomentum: \" + str(momentum) + \"\\nEpochs: \" + str(epochs) + \"\\nAbnormal MRI AUC: \" + str(auc_abnormal) + \"\\nAbnormal MRI Accuracy: \" + str(accuracy_abnormal)+\"\\n\\n\" #\"\\nACL Injury AUC: \" + str(auc_acl) + \"\\nMeniscus Injury AUC: \" + str(auc_meniscus) +\"\\nAbnormal MRI Accuracy: \" + str(accuracy_abnormal) + \"\\nACL Injury Accuracy: \" + str(accuracy_acl) + \"\\nMeniscus Injury Accuracy: \" + str(accuracy_meniscus) +\"\\n\\n\"\n",
    "\n",
    "print (logString)\n",
    "\n",
    "filename = \"Logs.txt\"\n",
    "file = open(filename, \"a\")\n",
    "\n",
    "file.write(logString)\n",
    "file.close()\n",
    "\n"
   ]
  },
  {
   "cell_type": "code",
   "execution_count": 35,
   "metadata": {},
   "outputs": [
    {
     "name": "stdout",
     "output_type": "stream",
     "text": [
      "False\n",
      "False\n",
      "False\n"
     ]
    }
   ],
   "source": [
    "import tensorflow as tf\n",
    "print(tf.test.is_built_with_cuda())\n",
    "print(tf.test.is_gpu_available(cuda_only=False, min_cuda_compute_capability=None))\n",
    "\n",
    "import torch\n",
    "print(torch.cuda.is_available())"
   ]
  },
  {
   "cell_type": "code",
   "execution_count": 72,
   "metadata": {},
   "outputs": [],
   "source": []
  }
 ],
 "metadata": {
  "kernelspec": {
   "display_name": "Python 3.9.0 64-bit",
   "language": "python",
   "name": "python3"
  },
  "language_info": {
   "codemirror_mode": {
    "name": "ipython",
    "version": 3
   },
   "file_extension": ".py",
   "mimetype": "text/x-python",
   "name": "python",
   "nbconvert_exporter": "python",
   "pygments_lexer": "ipython3",
   "version": "3.9.0"
  },
  "vscode": {
   "interpreter": {
    "hash": "d94c30e0e1491bc1311a2b99889a1cbb8d1d3420a9d7675a2a02d2080eb1cad5"
   }
  }
 },
 "nbformat": 4,
 "nbformat_minor": 4
}
