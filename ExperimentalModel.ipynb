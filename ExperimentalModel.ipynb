{
 "cells": [
  {
   "cell_type": "markdown",
   "metadata": {
    "pycharm": {
     "name": "#%% md\n"
    }
   },
   "source": [
    "## Import Libraries"
   ]
  },
  {
   "cell_type": "code",
   "execution_count": 265,
   "metadata": {
    "execution": {
     "iopub.execute_input": "2022-08-01T18:12:33.855305Z",
     "iopub.status.busy": "2022-08-01T18:12:33.854987Z",
     "iopub.status.idle": "2022-08-01T18:12:35.073506Z",
     "shell.execute_reply": "2022-08-01T18:12:35.072769Z",
     "shell.execute_reply.started": "2022-08-01T18:12:33.855223Z"
    },
    "pycharm": {
     "name": "#%%\n"
    },
    "trusted": true
   },
   "outputs": [],
   "source": [
    "import glob\n",
    "import os\n",
    "\n",
    "import pandas as pd\n",
    "import numpy as np\n",
    "from numpy import zeros, newaxis\n",
    "import cv2\n",
    "\n",
    "import matplotlib.pyplot as plt\n",
    "import seaborn\n",
    "import random\n",
    "from sklearn.preprocessing import StandardScaler\n",
    "\n",
    "\n",
    "random.seed(42)"
   ]
  },
  {
   "cell_type": "markdown",
   "metadata": {
    "pycharm": {
     "name": "#%% md\n"
    }
   },
   "source": [
    "## Read Data"
   ]
  },
  {
   "cell_type": "code",
   "execution_count": 266,
   "metadata": {
    "execution": {
     "iopub.execute_input": "2022-08-01T18:12:39.366043Z",
     "iopub.status.busy": "2022-08-01T18:12:39.365367Z",
     "iopub.status.idle": "2022-08-01T18:12:39.478716Z",
     "shell.execute_reply": "2022-08-01T18:12:39.477939Z",
     "shell.execute_reply.started": "2022-08-01T18:12:39.366006Z"
    },
    "pycharm": {
     "name": "#%%\n"
    },
    "trusted": true
   },
   "outputs": [],
   "source": [
    "axial_image = 'MRNet-v1.0/train/axial/0000.npy'\n",
    "coronal_image = 'MRNet-v1.0/train/coronal/0000.npy'\n",
    "saggital_image = 'MRNet-v1.0/train/sagittal/0000.npy'\n",
    "\n",
    "\n",
    "img_array_axial = np.load(axial_image)\n",
    "img_array_coronal = np.load(coronal_image)\n",
    "img_array_sagittal = np.load(saggital_image)"
   ]
  },
  {
   "cell_type": "code",
   "execution_count": 267,
   "metadata": {
    "execution": {
     "iopub.execute_input": "2022-08-01T18:12:44.018551Z",
     "iopub.status.busy": "2022-08-01T18:12:44.018272Z",
     "iopub.status.idle": "2022-08-01T18:12:44.022791Z",
     "shell.execute_reply": "2022-08-01T18:12:44.022063Z",
     "shell.execute_reply.started": "2022-08-01T18:12:44.018517Z"
    },
    "pycharm": {
     "name": "#%%\n"
    },
    "trusted": true
   },
   "outputs": [],
   "source": [
    "abnormal_path_train =  'MRNet-v1.0/train-abnormal.csv'\n",
    "acl_path_train = 'MRNet-v1.0/train-acl.csv'\n",
    "meniscus_train =  'MRNet-v1.0/train-meniscus.csv'\n",
    "\n",
    "\n",
    "abnormal_path_valid =  'MRNet-v1.0/valid-abnormal.csv'\n",
    "acl_path_valid = 'MRNet-v1.0/valid-acl.csv'\n",
    "meniscus_valid =  'MRNet-v1.0/valid-meniscus.csv'\n"
   ]
  },
  {
   "cell_type": "code",
   "execution_count": 268,
   "metadata": {
    "execution": {
     "iopub.execute_input": "2022-08-01T18:12:47.238631Z",
     "iopub.status.busy": "2022-08-01T18:12:47.238075Z",
     "iopub.status.idle": "2022-08-01T18:12:47.246725Z",
     "shell.execute_reply": "2022-08-01T18:12:47.245741Z",
     "shell.execute_reply.started": "2022-08-01T18:12:47.238595Z"
    },
    "pycharm": {
     "name": "#%%\n"
    },
    "trusted": true
   },
   "outputs": [],
   "source": [
    "def load_labels(abnormal_path, acl_path, meniscus_path):\n",
    "    \n",
    "    df_labels_abnormal =  pd.read_csv(abnormal_path, names=['Image_Name', 'Abnormal_Label'])\n",
    "    df_labels_acl = pd.read_csv(acl_path, names=['Image_Name', 'Acl_Label'])\n",
    "    df_labels_meniscus = pd.read_csv(meniscus_path, names=['Image_Name', 'Meniscus_Label'])\n",
    "    \n",
    "    df_lables_combined = pd.merge(df_labels_abnormal, df_labels_acl, how = 'left', left_on=['Image_Name'], right_on=['Image_Name'])\n",
    "    df_lables_combined = pd.merge(df_lables_combined, df_labels_meniscus, how = 'left', left_on=['Image_Name'], right_on=['Image_Name'])\n",
    "    df_lables_combined['Image_Name'] = df_lables_combined['Image_Name'].astype(str)\n",
    "    df_lables_combined['Image_Name'] = df_lables_combined['Image_Name'].apply(lambda x: x.zfill(4))\n",
    "    \n",
    "    return df_lables_combined"
   ]
  },
  {
   "cell_type": "code",
   "execution_count": 269,
   "metadata": {
    "execution": {
     "iopub.execute_input": "2022-08-01T18:12:50.034805Z",
     "iopub.status.busy": "2022-08-01T18:12:50.034263Z",
     "iopub.status.idle": "2022-08-01T18:12:50.090029Z",
     "shell.execute_reply": "2022-08-01T18:12:50.08935Z",
     "shell.execute_reply.started": "2022-08-01T18:12:50.03477Z"
    },
    "pycharm": {
     "name": "#%%\n"
    },
    "trusted": true
   },
   "outputs": [
    {
     "data": {
      "text/html": [
       "<div>\n",
       "<style scoped>\n",
       "    .dataframe tbody tr th:only-of-type {\n",
       "        vertical-align: middle;\n",
       "    }\n",
       "\n",
       "    .dataframe tbody tr th {\n",
       "        vertical-align: top;\n",
       "    }\n",
       "\n",
       "    .dataframe thead th {\n",
       "        text-align: right;\n",
       "    }\n",
       "</style>\n",
       "<table border=\"1\" class=\"dataframe\">\n",
       "  <thead>\n",
       "    <tr style=\"text-align: right;\">\n",
       "      <th></th>\n",
       "      <th>Image_Name</th>\n",
       "      <th>Abnormal_Label</th>\n",
       "      <th>Acl_Label</th>\n",
       "      <th>Meniscus_Label</th>\n",
       "    </tr>\n",
       "  </thead>\n",
       "  <tbody>\n",
       "    <tr>\n",
       "      <th>0</th>\n",
       "      <td>0000</td>\n",
       "      <td>1</td>\n",
       "      <td>0</td>\n",
       "      <td>0</td>\n",
       "    </tr>\n",
       "    <tr>\n",
       "      <th>1</th>\n",
       "      <td>0001</td>\n",
       "      <td>1</td>\n",
       "      <td>1</td>\n",
       "      <td>1</td>\n",
       "    </tr>\n",
       "    <tr>\n",
       "      <th>2</th>\n",
       "      <td>0002</td>\n",
       "      <td>1</td>\n",
       "      <td>0</td>\n",
       "      <td>0</td>\n",
       "    </tr>\n",
       "    <tr>\n",
       "      <th>3</th>\n",
       "      <td>0003</td>\n",
       "      <td>1</td>\n",
       "      <td>0</td>\n",
       "      <td>1</td>\n",
       "    </tr>\n",
       "    <tr>\n",
       "      <th>4</th>\n",
       "      <td>0004</td>\n",
       "      <td>1</td>\n",
       "      <td>0</td>\n",
       "      <td>0</td>\n",
       "    </tr>\n",
       "    <tr>\n",
       "      <th>...</th>\n",
       "      <td>...</td>\n",
       "      <td>...</td>\n",
       "      <td>...</td>\n",
       "      <td>...</td>\n",
       "    </tr>\n",
       "    <tr>\n",
       "      <th>1125</th>\n",
       "      <td>1125</td>\n",
       "      <td>1</td>\n",
       "      <td>0</td>\n",
       "      <td>1</td>\n",
       "    </tr>\n",
       "    <tr>\n",
       "      <th>1126</th>\n",
       "      <td>1126</td>\n",
       "      <td>1</td>\n",
       "      <td>0</td>\n",
       "      <td>1</td>\n",
       "    </tr>\n",
       "    <tr>\n",
       "      <th>1127</th>\n",
       "      <td>1127</td>\n",
       "      <td>0</td>\n",
       "      <td>0</td>\n",
       "      <td>0</td>\n",
       "    </tr>\n",
       "    <tr>\n",
       "      <th>1128</th>\n",
       "      <td>1128</td>\n",
       "      <td>1</td>\n",
       "      <td>0</td>\n",
       "      <td>0</td>\n",
       "    </tr>\n",
       "    <tr>\n",
       "      <th>1129</th>\n",
       "      <td>1129</td>\n",
       "      <td>1</td>\n",
       "      <td>1</td>\n",
       "      <td>0</td>\n",
       "    </tr>\n",
       "  </tbody>\n",
       "</table>\n",
       "<p>1130 rows × 4 columns</p>\n",
       "</div>"
      ],
      "text/plain": [
       "     Image_Name  Abnormal_Label  Acl_Label  Meniscus_Label\n",
       "0          0000               1          0               0\n",
       "1          0001               1          1               1\n",
       "2          0002               1          0               0\n",
       "3          0003               1          0               1\n",
       "4          0004               1          0               0\n",
       "...         ...             ...        ...             ...\n",
       "1125       1125               1          0               1\n",
       "1126       1126               1          0               1\n",
       "1127       1127               0          0               0\n",
       "1128       1128               1          0               0\n",
       "1129       1129               1          1               0\n",
       "\n",
       "[1130 rows x 4 columns]"
      ]
     },
     "execution_count": 269,
     "metadata": {},
     "output_type": "execute_result"
    }
   ],
   "source": [
    "# Load Train Labels\n",
    "df_labels_train = load_labels(abnormal_path_train, acl_path_train, meniscus_train)\n",
    "df_labels_train"
   ]
  },
  {
   "cell_type": "code",
   "execution_count": 270,
   "metadata": {
    "execution": {
     "iopub.execute_input": "2022-08-01T18:12:50.382897Z",
     "iopub.status.busy": "2022-08-01T18:12:50.382436Z",
     "iopub.status.idle": "2022-08-01T18:12:50.414066Z",
     "shell.execute_reply": "2022-08-01T18:12:50.413384Z",
     "shell.execute_reply.started": "2022-08-01T18:12:50.382861Z"
    },
    "pycharm": {
     "name": "#%%\n"
    },
    "trusted": true
   },
   "outputs": [
    {
     "data": {
      "text/html": [
       "<div>\n",
       "<style scoped>\n",
       "    .dataframe tbody tr th:only-of-type {\n",
       "        vertical-align: middle;\n",
       "    }\n",
       "\n",
       "    .dataframe tbody tr th {\n",
       "        vertical-align: top;\n",
       "    }\n",
       "\n",
       "    .dataframe thead th {\n",
       "        text-align: right;\n",
       "    }\n",
       "</style>\n",
       "<table border=\"1\" class=\"dataframe\">\n",
       "  <thead>\n",
       "    <tr style=\"text-align: right;\">\n",
       "      <th></th>\n",
       "      <th>Image_Name</th>\n",
       "      <th>Abnormal_Label</th>\n",
       "      <th>Acl_Label</th>\n",
       "      <th>Meniscus_Label</th>\n",
       "    </tr>\n",
       "  </thead>\n",
       "  <tbody>\n",
       "    <tr>\n",
       "      <th>0</th>\n",
       "      <td>1130</td>\n",
       "      <td>0</td>\n",
       "      <td>0</td>\n",
       "      <td>0</td>\n",
       "    </tr>\n",
       "    <tr>\n",
       "      <th>1</th>\n",
       "      <td>1131</td>\n",
       "      <td>0</td>\n",
       "      <td>0</td>\n",
       "      <td>0</td>\n",
       "    </tr>\n",
       "    <tr>\n",
       "      <th>2</th>\n",
       "      <td>1132</td>\n",
       "      <td>0</td>\n",
       "      <td>0</td>\n",
       "      <td>0</td>\n",
       "    </tr>\n",
       "    <tr>\n",
       "      <th>3</th>\n",
       "      <td>1133</td>\n",
       "      <td>0</td>\n",
       "      <td>0</td>\n",
       "      <td>0</td>\n",
       "    </tr>\n",
       "    <tr>\n",
       "      <th>4</th>\n",
       "      <td>1134</td>\n",
       "      <td>0</td>\n",
       "      <td>0</td>\n",
       "      <td>0</td>\n",
       "    </tr>\n",
       "    <tr>\n",
       "      <th>...</th>\n",
       "      <td>...</td>\n",
       "      <td>...</td>\n",
       "      <td>...</td>\n",
       "      <td>...</td>\n",
       "    </tr>\n",
       "    <tr>\n",
       "      <th>115</th>\n",
       "      <td>1245</td>\n",
       "      <td>1</td>\n",
       "      <td>1</td>\n",
       "      <td>1</td>\n",
       "    </tr>\n",
       "    <tr>\n",
       "      <th>116</th>\n",
       "      <td>1246</td>\n",
       "      <td>1</td>\n",
       "      <td>1</td>\n",
       "      <td>1</td>\n",
       "    </tr>\n",
       "    <tr>\n",
       "      <th>117</th>\n",
       "      <td>1247</td>\n",
       "      <td>1</td>\n",
       "      <td>0</td>\n",
       "      <td>1</td>\n",
       "    </tr>\n",
       "    <tr>\n",
       "      <th>118</th>\n",
       "      <td>1248</td>\n",
       "      <td>1</td>\n",
       "      <td>1</td>\n",
       "      <td>1</td>\n",
       "    </tr>\n",
       "    <tr>\n",
       "      <th>119</th>\n",
       "      <td>1249</td>\n",
       "      <td>1</td>\n",
       "      <td>0</td>\n",
       "      <td>1</td>\n",
       "    </tr>\n",
       "  </tbody>\n",
       "</table>\n",
       "<p>120 rows × 4 columns</p>\n",
       "</div>"
      ],
      "text/plain": [
       "    Image_Name  Abnormal_Label  Acl_Label  Meniscus_Label\n",
       "0         1130               0          0               0\n",
       "1         1131               0          0               0\n",
       "2         1132               0          0               0\n",
       "3         1133               0          0               0\n",
       "4         1134               0          0               0\n",
       "..         ...             ...        ...             ...\n",
       "115       1245               1          1               1\n",
       "116       1246               1          1               1\n",
       "117       1247               1          0               1\n",
       "118       1248               1          1               1\n",
       "119       1249               1          0               1\n",
       "\n",
       "[120 rows x 4 columns]"
      ]
     },
     "execution_count": 270,
     "metadata": {},
     "output_type": "execute_result"
    }
   ],
   "source": [
    "# Load Valid Labels\n",
    "df_labels_valid = load_labels(abnormal_path_valid, acl_path_valid, meniscus_valid)\n",
    "df_labels_valid"
   ]
  },
  {
   "cell_type": "code",
   "execution_count": 271,
   "metadata": {
    "execution": {
     "iopub.execute_input": "2022-08-01T18:12:53.82328Z",
     "iopub.status.busy": "2022-08-01T18:12:53.822763Z",
     "iopub.status.idle": "2022-08-01T18:12:53.832668Z",
     "shell.execute_reply": "2022-08-01T18:12:53.831847Z",
     "shell.execute_reply.started": "2022-08-01T18:12:53.823245Z"
    },
    "pycharm": {
     "name": "#%%\n"
    },
    "trusted": true
   },
   "outputs": [
    {
     "data": {
      "text/plain": [
       "['MRNet-v1.0\\\\train',\n",
       " 'MRNet-v1.0\\\\train-abnormal.csv',\n",
       " 'MRNet-v1.0\\\\train-acl.csv',\n",
       " 'MRNet-v1.0\\\\train-meniscus.csv',\n",
       " 'MRNet-v1.0\\\\valid',\n",
       " 'MRNet-v1.0\\\\valid-abnormal.csv',\n",
       " 'MRNet-v1.0\\\\valid-acl.csv',\n",
       " 'MRNet-v1.0\\\\valid-meniscus.csv']"
      ]
     },
     "execution_count": 271,
     "metadata": {},
     "output_type": "execute_result"
    }
   ],
   "source": [
    "glob.glob('MRNet-v1.0\\*')"
   ]
  },
  {
   "cell_type": "code",
   "execution_count": 272,
   "metadata": {
    "execution": {
     "iopub.execute_input": "2022-08-01T18:15:13.958225Z",
     "iopub.status.busy": "2022-08-01T18:15:13.957679Z",
     "iopub.status.idle": "2022-08-01T18:15:13.970992Z",
     "shell.execute_reply": "2022-08-01T18:15:13.970307Z",
     "shell.execute_reply.started": "2022-08-01T18:15:13.958189Z"
    },
    "pycharm": {
     "name": "#%%\n"
    },
    "trusted": true
   },
   "outputs": [
    {
     "name": "stdout",
     "output_type": "stream",
     "text": [
      "Total samples in data: 1130\n",
      "Loading Data From :    MRNet-v1.0\\train\\axial\n",
      "Loading Complete From :    MRNet-v1.0\\train\\axial\n",
      "\n",
      "\n",
      "\n",
      "Total samples in data: 1130\n",
      "Loading Data From :    MRNet-v1.0\\train\\coronal\n",
      "Loading Complete From :    MRNet-v1.0\\train\\coronal\n",
      "\n",
      "\n",
      "\n",
      "Total samples in data: 1130\n",
      "Loading Data From :    MRNet-v1.0\\train\\sagittal\n",
      "Loading Complete From :    MRNet-v1.0\\train\\sagittal\n",
      "\n",
      "\n",
      "\n"
     ]
    }
   ],
   "source": [
    "# Read Traning Data\n",
    "df_labels_train.pop(\"Image_Name\")\n",
    "def read_data(train_path, df_labels):\n",
    "    axial_images = []\n",
    "    coronal_images = []\n",
    "    sagittal_images = []\n",
    "    \n",
    "    # train_path = '/kaggle/input/mrnet-v1/MRNet-v1.0/train'\n",
    "    train_folders = glob.glob(train_path + '/*')\n",
    "    \n",
    "    for folder in train_folders:\n",
    "        train_data = glob.glob(folder + '/*.npy')\n",
    "        print('Total samples in data:', len(train_data))\n",
    "        print('Loading Data From :   ', folder)\n",
    "        \n",
    "        for i in train_data:\n",
    "#             print(i)\n",
    "            img_array = np.load(i)\n",
    "            start, end = (img_array.shape[0]/2)-8, (img_array.shape[0]/2)+8\n",
    "            image_tensor = img_array[int(start):int(end),:,:].reshape(256,256,16)\n",
    "            if 'axial' in i:\n",
    "                axial_images.append(image_tensor)\n",
    "            if 'coronal' in i:\n",
    "                coronal_images.append(image_tensor)\n",
    "            if 'sagittal' in i:\n",
    "                sagittal_images.append(image_tensor)\n",
    "        print('Loading Complete From :   ', folder)\n",
    "        print('\\n\\n')\n",
    "    return axial_images, coronal_images, sagittal_images\n",
    "\n",
    "train_path =  'MRNet-v1.0\\\\train'\n",
    "valid_path =  'MRNet-v1.0\\\\valid'\n",
    "\n",
    "axial_images_train, coronal_images_train, sagittal_images_train = read_data(train_path, df_labels_train)"
   ]
  },
  {
   "cell_type": "code",
   "execution_count": 273,
   "metadata": {},
   "outputs": [],
   "source": [
    "yTrain = df_labels_train.pop('Abnormal_Label')\n",
    "yTest = df_labels_valid.pop('Abnormal_Label')"
   ]
  },
  {
   "cell_type": "code",
   "execution_count": 274,
   "metadata": {
    "execution": {
     "iopub.execute_input": "2022-08-01T18:16:41.70741Z",
     "iopub.status.busy": "2022-08-01T18:16:41.706274Z",
     "iopub.status.idle": "2022-08-01T18:16:42.241847Z",
     "shell.execute_reply": "2022-08-01T18:16:42.241129Z",
     "shell.execute_reply.started": "2022-08-01T18:16:41.707373Z"
    },
    "pycharm": {
     "name": "#%%\n"
    },
    "trusted": true
   },
   "outputs": [
    {
     "name": "stdout",
     "output_type": "stream",
     "text": [
      "(1130, 256, 256, 16)\n",
      "(1130, 256, 256, 16)\n",
      "(1130, 256, 256, 16)\n"
     ]
    }
   ],
   "source": [
    "print(np.array(axial_images_train).shape)\n",
    "print(np.array(coronal_images_train).shape)\n",
    "print(np.array(sagittal_images_train).shape)"
   ]
  },
  {
   "cell_type": "code",
   "execution_count": 275,
   "metadata": {},
   "outputs": [],
   "source": [
    "# #Preprocess\n",
    "# scale= StandardScaler()\n",
    "# xTrain = [np.array(coronal_images_train), np.array(sagittal_images_train), np.array(axial_images_train)]\n",
    "# # standardization of dependent variables\n",
    "# scaled_data = scale.fit_transform(xTrain) \n",
    "# print(scaled_data)"
   ]
  },
  {
   "cell_type": "markdown",
   "metadata": {
    "pycharm": {
     "name": "#%% md\n"
    }
   },
   "source": [
    "## Modeling"
   ]
  },
  {
   "cell_type": "code",
   "execution_count": 276,
   "metadata": {
    "execution": {
     "iopub.execute_input": "2022-08-01T18:17:23.16607Z",
     "iopub.status.busy": "2022-08-01T18:17:23.1658Z",
     "iopub.status.idle": "2022-08-01T18:17:28.705067Z",
     "shell.execute_reply": "2022-08-01T18:17:28.703859Z",
     "shell.execute_reply.started": "2022-08-01T18:17:23.166039Z"
    },
    "pycharm": {
     "name": "#%%\n"
    },
    "trusted": true
   },
   "outputs": [],
   "source": [
    "from __future__ import print_function\n",
    "import tensorflow.keras\n",
    "from tensorflow.keras.models import Model, Sequential\n",
    "from tensorflow.keras.optimizers import *\n",
    "from tensorflow.keras.layers import *\n",
    "from tensorflow.keras.activations import *\n",
    "from tensorflow.keras.callbacks import *\n",
    "from tensorflow.keras.preprocessing.image import ImageDataGenerator\n",
    "from tensorflow.keras.regularizers import l2\n",
    "from tensorflow.keras import backend as K\n"
   ]
  },
  {
   "cell_type": "code",
   "execution_count": 277,
   "metadata": {
    "execution": {
     "iopub.execute_input": "2022-08-01T18:17:28.709841Z",
     "iopub.status.busy": "2022-08-01T18:17:28.709623Z",
     "iopub.status.idle": "2022-08-01T18:17:31.248823Z",
     "shell.execute_reply": "2022-08-01T18:17:31.248124Z",
     "shell.execute_reply.started": "2022-08-01T18:17:28.709811Z"
    },
    "pycharm": {
     "name": "#%%\n"
    },
    "trusted": true
   },
   "outputs": [
    {
     "name": "stdout",
     "output_type": "stream",
     "text": [
      "Model: \"model_11\"\n",
      "__________________________________________________________________________________________________\n",
      " Layer (type)                   Output Shape         Param #     Connected to                     \n",
      "==================================================================================================\n",
      " input_46 (InputLayer)          [(None, 256, 256, 1  0           []                               \n",
      "                                6)]                                                               \n",
      "                                                                                                  \n",
      " input_47 (InputLayer)          [(None, 256, 256, 1  0           []                               \n",
      "                                6)]                                                               \n",
      "                                                                                                  \n",
      " conv2d_98 (Conv2D)             (None, 252, 252, 15  6015        ['input_46[0][0]']               \n",
      "                                )                                                                 \n",
      "                                                                                                  \n",
      " conv2d_100 (Conv2D)            (None, 252, 252, 15  6015        ['input_47[0][0]']               \n",
      "                                )                                                                 \n",
      "                                                                                                  \n",
      " max_pooling2d_98 (MaxPooling2D  (None, 126, 126, 15  0          ['conv2d_98[0][0]']              \n",
      " )                              )                                                                 \n",
      "                                                                                                  \n",
      " max_pooling2d_100 (MaxPooling2  (None, 126, 126, 15  0          ['conv2d_100[0][0]']             \n",
      " D)                             )                                                                 \n",
      "                                                                                                  \n",
      " conv2d_99 (Conv2D)             (None, 122, 122, 16  6016        ['max_pooling2d_98[0][0]']       \n",
      "                                )                                                                 \n",
      "                                                                                                  \n",
      " conv2d_101 (Conv2D)            (None, 122, 122, 16  6016        ['max_pooling2d_100[0][0]']      \n",
      "                                )                                                                 \n",
      "                                                                                                  \n",
      " max_pooling2d_99 (MaxPooling2D  (None, 61, 61, 16)  0           ['conv2d_99[0][0]']              \n",
      " )                                                                                                \n",
      "                                                                                                  \n",
      " max_pooling2d_101 (MaxPooling2  (None, 61, 61, 16)  0           ['conv2d_101[0][0]']             \n",
      " D)                                                                                               \n",
      "                                                                                                  \n",
      " flatten_45 (Flatten)           (None, 59536)        0           ['max_pooling2d_99[0][0]']       \n",
      "                                                                                                  \n",
      " flatten_46 (Flatten)           (None, 59536)        0           ['max_pooling2d_101[0][0]']      \n",
      "                                                                                                  \n",
      " concatenate_11 (Concatenate)   (None, 119072)       0           ['flatten_45[0][0]',             \n",
      "                                                                  'flatten_46[0][0]']             \n",
      "                                                                                                  \n",
      " dense_33 (Dense)               (None, 100)          11907300    ['concatenate_11[0][0]']         \n",
      "                                                                                                  \n",
      " dense_34 (Dense)               (None, 50)           5050        ['dense_33[0][0]']               \n",
      "                                                                                                  \n",
      " input_48 (InputLayer)          [(None, 256, 256, 1  0           []                               \n",
      "                                6)]                                                               \n",
      "                                                                                                  \n",
      " dense_35 (Dense)               (None, 1)            51          ['dense_34[0][0]']               \n",
      "                                                                                                  \n",
      "==================================================================================================\n",
      "Total params: 11,936,463\n",
      "Trainable params: 11,936,463\n",
      "Non-trainable params: 0\n",
      "__________________________________________________________________________________________________\n",
      "None\n"
     ]
    }
   ],
   "source": [
    "# Two Input Model\n",
    "\n",
    "def model ():\n",
    "    visible1 = Input(shape=(256,256,16))\n",
    "    \n",
    "    conv11 = Conv2D( filters=15, kernel_size=(5,5), activation=\"relu\")(visible1)\n",
    "    pool11 = MaxPool2D(pool_size=(2,2),strides=(2,2))(conv11)\n",
    "    \n",
    "    conv12 = Conv2D( filters=16, kernel_size=(5,5), activation=\"relu\")(pool11)\n",
    "    pool12 = MaxPool2D(pool_size=(2,2),strides=(2,2))(conv12)\n",
    "    \n",
    "    # conv13 = Conv2D(filters=16, kernel_size=(5,5), activation='relu')(pool12)\n",
    "    # pool13 = MaxPooling2D(pool_size=(2, 2),strides=(2,2))(conv13)\n",
    "    flat1 = Flatten()(pool12)\n",
    "    \n",
    "    return flat1, visible1\n",
    "model()\n",
    "\n",
    "# merge input models\n",
    "model_1, Visible_1 = model()\n",
    "model_2, Visible_2 = model()\n",
    "model_3, Visible_3 = model()\n",
    "\n",
    "merge = concatenate([model_1, model_2])\n",
    "\n",
    "hidden1 = Dense(100, activation='relu')(merge)\n",
    "hidden2 = Dense(50, activation='relu')(hidden1)\n",
    "output = Dense(1, activation='sigmoid')(hidden2)\n",
    "model = Model(inputs=[Visible_1, Visible_2, Visible_3], outputs=output)\n",
    "\n",
    "print(model.summary())"
   ]
  },
  {
   "cell_type": "code",
   "execution_count": 278,
   "metadata": {
    "execution": {
     "iopub.execute_input": "2022-08-01T18:17:44.19531Z",
     "iopub.status.busy": "2022-08-01T18:17:44.195045Z",
     "iopub.status.idle": "2022-08-01T18:18:10.873209Z",
     "shell.execute_reply": "2022-08-01T18:18:10.872365Z",
     "shell.execute_reply.started": "2022-08-01T18:17:44.19528Z"
    },
    "pycharm": {
     "name": "#%%\n"
    },
    "trusted": true
   },
   "outputs": [
    {
     "name": "stdout",
     "output_type": "stream",
     "text": [
      "Epoch 1/2\n",
      "29/29 [==============================] - 59s 2s/step - loss: 30.6051 - binary_accuracy: 0.7489 - val_loss: 0.5497 - val_binary_accuracy: 0.7655\n",
      "Epoch 2/2\n",
      "29/29 [==============================] - 57s 2s/step - loss: 0.3999 - binary_accuracy: 0.8252 - val_loss: 0.4562 - val_binary_accuracy: 0.8451\n"
     ]
    },
    {
     "data": {
      "text/plain": [
       "<keras.callbacks.History at 0x22c44573c70>"
      ]
     },
     "execution_count": 278,
     "metadata": {},
     "output_type": "execute_result"
    }
   ],
   "source": [
    "lr = 0.00005\n",
    "momentum = 0.6\n",
    "epochs = 2\n",
    "model.compile(loss=tensorflow.keras.losses.binary_crossentropy,\n",
    "              optimizer=tensorflow.keras.optimizers.SGD( learning_rate = lr, momentum = momentum),metrics=[\"binary_accuracy\"])\n",
    "\n",
    "\n",
    "model.fit(x = [np.array(coronal_images_train), np.array(sagittal_images_train), np.array(axial_images_train)],\n",
    "          y = yTrain,\n",
    "          epochs=epochs,\n",
    "          batch_size=32,\n",
    "          validation_split=0.20)\n"
   ]
  },
  {
   "cell_type": "code",
   "execution_count": 279,
   "metadata": {},
   "outputs": [
    {
     "name": "stdout",
     "output_type": "stream",
     "text": [
      "[name: \"/device:CPU:0\"\n",
      "device_type: \"CPU\"\n",
      "memory_limit: 268435456\n",
      "locality {\n",
      "}\n",
      "incarnation: 18002822047110225759\n",
      "xla_global_id: -1\n",
      "]\n"
     ]
    }
   ],
   "source": [
    "from tensorflow.python.client import device_lib\n",
    "print(device_lib.list_local_devices())"
   ]
  },
  {
   "cell_type": "code",
   "execution_count": 280,
   "metadata": {
    "pycharm": {
     "name": "#%%\n"
    },
    "trusted": true
   },
   "outputs": [
    {
     "name": "stdout",
     "output_type": "stream",
     "text": [
      "You must install pydot (`pip install pydot`) and install graphviz (see instructions at https://graphviz.gitlab.io/download/) for plot_model to work.\n"
     ]
    }
   ],
   "source": [
    "from keras.utils.vis_utils import plot_model\n",
    "plot_model(model, to_file='model_architecture.png', show_shapes=True, show_layer_names=True)\n"
   ]
  },
  {
   "cell_type": "code",
   "execution_count": 281,
   "metadata": {
    "execution": {
     "iopub.execute_input": "2022-08-01T18:18:21.432219Z",
     "iopub.status.busy": "2022-08-01T18:18:21.431923Z",
     "iopub.status.idle": "2022-08-01T18:18:28.826244Z",
     "shell.execute_reply": "2022-08-01T18:18:28.825522Z",
     "shell.execute_reply.started": "2022-08-01T18:18:21.432189Z"
    },
    "pycharm": {
     "name": "#%%\n"
    },
    "trusted": true
   },
   "outputs": [
    {
     "name": "stdout",
     "output_type": "stream",
     "text": [
      "Total samples in data: 120\n",
      "Loading Data From :    MRNet-v1.0\\valid\\axial\n",
      "Loading Complete From :    MRNet-v1.0\\valid\\axial\n",
      "\n",
      "\n",
      "\n",
      "Total samples in data: 120\n",
      "Loading Data From :    MRNet-v1.0\\valid\\coronal\n",
      "Loading Complete From :    MRNet-v1.0\\valid\\coronal\n",
      "\n",
      "\n",
      "\n",
      "Total samples in data: 120\n",
      "Loading Data From :    MRNet-v1.0\\valid\\sagittal\n",
      "Loading Complete From :    MRNet-v1.0\\valid\\sagittal\n",
      "\n",
      "\n",
      "\n"
     ]
    }
   ],
   "source": [
    "axial_images_valid, coronal_images_valid, sagittal_images_valid = read_data(valid_path, df_labels_valid.astype('float32'))"
   ]
  },
  {
   "cell_type": "code",
   "execution_count": 282,
   "metadata": {},
   "outputs": [],
   "source": [
    "# # preprocess testing data\n",
    "# xTest = [ np.array(coronal_images_valid), np.array(sagittal_images_valid), np.array(axial_images_valid)]\n",
    "# # standardization of dependent variables\n",
    "# scaled_data = scale.fit_transform(xTest) \n",
    "# print(scaled_data)"
   ]
  },
  {
   "cell_type": "markdown",
   "metadata": {
    "pycharm": {
     "name": "#%% md\n"
    }
   },
   "source": [
    "## Evaluate Model"
   ]
  },
  {
   "cell_type": "code",
   "execution_count": 283,
   "metadata": {
    "execution": {
     "iopub.execute_input": "2022-08-01T18:18:47.630231Z",
     "iopub.status.busy": "2022-08-01T18:18:47.629973Z",
     "iopub.status.idle": "2022-08-01T18:18:48.447761Z",
     "shell.execute_reply": "2022-08-01T18:18:48.446982Z",
     "shell.execute_reply.started": "2022-08-01T18:18:47.630201Z"
    },
    "pycharm": {
     "name": "#%%\n"
    },
    "trusted": true
   },
   "outputs": [
    {
     "name": "stdout",
     "output_type": "stream",
     "text": [
      "4/4 [==============================] - 1s 325ms/step\n"
     ]
    }
   ],
   "source": [
    "y_pred = model.predict([ np.array(coronal_images_valid), np.array(sagittal_images_valid), np.array(axial_images_valid)])"
   ]
  },
  {
   "cell_type": "code",
   "execution_count": 284,
   "metadata": {
    "execution": {
     "iopub.execute_input": "2022-08-01T18:18:48.449878Z",
     "iopub.status.busy": "2022-08-01T18:18:48.449631Z",
     "iopub.status.idle": "2022-08-01T18:18:48.461336Z",
     "shell.execute_reply": "2022-08-01T18:18:48.460532Z",
     "shell.execute_reply.started": "2022-08-01T18:18:48.449844Z"
    },
    "pycharm": {
     "name": "#%%\n"
    },
    "trusted": true
   },
   "outputs": [
    {
     "data": {
      "text/plain": [
       "array([[0.29527625],\n",
       "       [0.6130933 ],\n",
       "       [0.8700439 ],\n",
       "       [0.8126602 ],\n",
       "       [0.9726062 ],\n",
       "       [0.9753116 ],\n",
       "       [0.71790653],\n",
       "       [0.9369066 ],\n",
       "       [0.5394172 ],\n",
       "       [0.38858327],\n",
       "       [0.9956731 ],\n",
       "       [0.9497704 ],\n",
       "       [0.89837354],\n",
       "       [0.91827255],\n",
       "       [0.96555924],\n",
       "       [0.76977444],\n",
       "       [0.88344085],\n",
       "       [0.03622804],\n",
       "       [0.72906786],\n",
       "       [0.4803512 ],\n",
       "       [0.8790189 ],\n",
       "       [0.9997506 ],\n",
       "       [0.34730372],\n",
       "       [0.3973919 ],\n",
       "       [0.85934794],\n",
       "       [0.96585923],\n",
       "       [0.79043025],\n",
       "       [0.85101813],\n",
       "       [0.99374104],\n",
       "       [0.5129434 ],\n",
       "       [0.952244  ],\n",
       "       [0.92744994],\n",
       "       [0.9276085 ],\n",
       "       [0.82160544],\n",
       "       [0.16869783],\n",
       "       [0.7913755 ],\n",
       "       [0.9956044 ],\n",
       "       [0.7884583 ],\n",
       "       [0.9567305 ],\n",
       "       [0.9800204 ],\n",
       "       [0.6681329 ],\n",
       "       [0.9852268 ],\n",
       "       [0.95879   ],\n",
       "       [0.8851276 ],\n",
       "       [0.9264589 ],\n",
       "       [0.81144875],\n",
       "       [0.9930062 ],\n",
       "       [0.8239759 ],\n",
       "       [0.9519447 ],\n",
       "       [0.99191135],\n",
       "       [0.9772701 ],\n",
       "       [0.94338197],\n",
       "       [0.96189755],\n",
       "       [0.995925  ],\n",
       "       [0.97867054],\n",
       "       [0.64227295],\n",
       "       [0.9824668 ],\n",
       "       [0.9909132 ],\n",
       "       [0.95701087],\n",
       "       [0.9375426 ],\n",
       "       [0.9507939 ],\n",
       "       [0.938169  ],\n",
       "       [0.8131356 ],\n",
       "       [0.78540593],\n",
       "       [0.9563745 ],\n",
       "       [0.8945073 ],\n",
       "       [0.94000185],\n",
       "       [0.74558526],\n",
       "       [0.54677445],\n",
       "       [0.86731976],\n",
       "       [0.5860089 ],\n",
       "       [0.98412323],\n",
       "       [0.70241874],\n",
       "       [0.9951164 ],\n",
       "       [0.99806225],\n",
       "       [0.9754653 ],\n",
       "       [0.9857753 ],\n",
       "       [0.7606817 ],\n",
       "       [0.96956974],\n",
       "       [0.95803463],\n",
       "       [0.95075756],\n",
       "       [0.985244  ],\n",
       "       [0.8930655 ],\n",
       "       [0.9923632 ],\n",
       "       [0.97825676],\n",
       "       [0.79089177],\n",
       "       [0.99272025],\n",
       "       [0.731981  ],\n",
       "       [0.90284514],\n",
       "       [0.90483516],\n",
       "       [0.92779356],\n",
       "       [0.99704194],\n",
       "       [0.9902285 ],\n",
       "       [0.9655674 ],\n",
       "       [0.9998592 ],\n",
       "       [0.98910946],\n",
       "       [0.79309034],\n",
       "       [0.9990981 ],\n",
       "       [0.9323942 ],\n",
       "       [0.99363375],\n",
       "       [0.99868083],\n",
       "       [0.99683267],\n",
       "       [0.9917744 ],\n",
       "       [0.8324301 ],\n",
       "       [0.9902125 ],\n",
       "       [0.64737403],\n",
       "       [0.9386915 ],\n",
       "       [0.9612101 ],\n",
       "       [0.81573504],\n",
       "       [0.99633986],\n",
       "       [0.9560157 ],\n",
       "       [0.89151716],\n",
       "       [0.3741209 ],\n",
       "       [0.95556223],\n",
       "       [0.98364097],\n",
       "       [0.9960824 ],\n",
       "       [0.98554456],\n",
       "       [0.98336905],\n",
       "       [0.9618813 ],\n",
       "       [0.9650592 ]], dtype=float32)"
      ]
     },
     "execution_count": 284,
     "metadata": {},
     "output_type": "execute_result"
    }
   ],
   "source": [
    "y_pred"
   ]
  },
  {
   "cell_type": "code",
   "execution_count": 285,
   "metadata": {
    "execution": {
     "iopub.execute_input": "2022-08-01T18:18:48.515707Z",
     "iopub.status.busy": "2022-08-01T18:18:48.51548Z",
     "iopub.status.idle": "2022-08-01T18:18:48.700652Z",
     "shell.execute_reply": "2022-08-01T18:18:48.699916Z",
     "shell.execute_reply.started": "2022-08-01T18:18:48.515679Z"
    },
    "pycharm": {
     "name": "#%%\n"
    },
    "trusted": true
   },
   "outputs": [],
   "source": [
    "from sklearn.metrics import classification_report\n",
    "# \n",
    "# print(classification_report(y_pred.round(), axial_labels_valid))"
   ]
  },
  {
   "cell_type": "code",
   "execution_count": 286,
   "metadata": {
    "pycharm": {
     "name": "#%%\n"
    }
   },
   "outputs": [
    {
     "name": "stdout",
     "output_type": "stream",
     "text": [
      "LR: 5e-05\n",
      "Momentum: 0.6\n",
      "Epochs: 2\n",
      "Abnormal MRI AUC: 0.727157894736842\n",
      "Abnormal MRI Accuracy: 0.825\n",
      "\n",
      "\n"
     ]
    }
   ],
   "source": [
    "from sklearn.metrics import roc_auc_score, accuracy_score\n",
    "ypreds_abnormal_soft = list(y_pred[:,0])\n",
    "ypreds_abnormal_hard = list(np.array(y_pred[:,0]).round())\n",
    "ytrue_abnormal = yTest #(np.array(df_labels_valid)[:,0])\n",
    "auc_abnormal = roc_auc_score(y_score= ypreds_abnormal_soft, y_true= ytrue_abnormal)\n",
    "accuracy_abnormal = accuracy_score(y_true= ytrue_abnormal, y_pred= ypreds_abnormal_hard)\n",
    "\n",
    "# ypreds_acl_soft = list(y_pred[:,1])\n",
    "# ypreds_acl_hard = list(np.array(y_pred[:,1]).round())\n",
    "# ytrue_acl = list(np.array(df_labels_valid)[:,1])\n",
    "# auc_acl = roc_auc_score(y_score= ypreds_acl_soft, y_true= ytrue_acl)\n",
    "# accuracy_acl = accuracy_score(y_true= ytrue_acl, y_pred= ypreds_acl_hard)\n",
    "\n",
    "\n",
    "# ypreds_meniscus_soft = list(y_pred[:,2])\n",
    "# ypreds_meniscus_hard = list(np.array(y_pred[:,2]).round())\n",
    "# ytrue_meniscus = list(np.array(df_labels_valid)[:,2])\n",
    "# auc_meniscus = roc_auc_score(y_score= ypreds_meniscus_soft, y_true= ytrue_meniscus)\n",
    "# accuracy_meniscus = accuracy_score(y_true= ytrue_meniscus, y_pred= ypreds_meniscus_hard)\n",
    "\n",
    "\n",
    "\n",
    "logString = \"LR: \" + str(lr) + \"\\nMomentum: \" + str(momentum) + \"\\nEpochs: \" + str(epochs) + \"\\nAbnormal MRI AUC: \" + str(auc_abnormal) + \"\\nAbnormal MRI Accuracy: \" + str(accuracy_abnormal)+\"\\n\\n\" #\"\\nACL Injury AUC: \" + str(auc_acl) + \"\\nMeniscus Injury AUC: \" + str(auc_meniscus) +\"\\nAbnormal MRI Accuracy: \" + str(accuracy_abnormal) + \"\\nACL Injury Accuracy: \" + str(accuracy_acl) + \"\\nMeniscus Injury Accuracy: \" + str(accuracy_meniscus) +\"\\n\\n\"\n",
    "\n",
    "print (logString)\n",
    "\n",
    "filename = \"Logs.txt\"\n",
    "file = open(filename, \"a\")\n",
    "\n",
    "file.write(logString)\n",
    "file.close()\n",
    "\n"
   ]
  },
  {
   "cell_type": "code",
   "execution_count": 287,
   "metadata": {},
   "outputs": [
    {
     "name": "stdout",
     "output_type": "stream",
     "text": [
      "False\n",
      "False\n",
      "True\n"
     ]
    }
   ],
   "source": [
    "import tensorflow as tf\n",
    "print(tf.test.is_built_with_cuda())\n",
    "print(tf.test.is_gpu_available(cuda_only=False, min_cuda_compute_capability=None))\n",
    "\n",
    "import torch\n",
    "print(torch.cuda.is_available())"
   ]
  },
  {
   "cell_type": "code",
   "execution_count": 288,
   "metadata": {},
   "outputs": [],
   "source": [
    "# #Catboost\n",
    "# from sklearn.metrics import roc_auc_score, accuracy_score\n",
    "# from catboost import CatBoostClassifier\n",
    "\n",
    "# \n",
    "# #Cat Boost\n",
    "# def predictProbaBinary(model, test):\n",
    "#     proba = model.predict_proba(test)\n",
    "#     probaDF = pd.DataFrame(proba)\n",
    "#     proba = probaDF[1]\n",
    "#     proba = proba.to_numpy()\n",
    "#     return proba\n",
    "\n",
    "# params={\n",
    "#     'iterations':1000, 'verbose':50, 'l2_leaf_reg':0.35, 'eta': 0.0025,\n",
    "#     'eval_metric':'AUC', 'random_seed':42, 'loss_function':'CrossEntropy',\n",
    "#     'random_strength':0.12, 'depth':6\n",
    "#     }\n",
    "\n",
    "# model = CatBoostClassifier(**params)\n",
    "# model.fit(\n",
    "#     xTrain,\n",
    "#     yTrain,\n",
    "#     verbose=True,\n",
    "#     # cat_features=catList\n",
    "# )\n",
    "\n",
    "# catPredsTest = predictProbaBinary(model, xTest)\n",
    "# ypreds_abnormal_soft = list(y_pred[:,0])\n",
    "# ypreds_abnormal_hard = list(np.array(y_pred[:,0]).round())\n",
    "# ytrue_abnormal = yTest #(np.array(df_labels_valid)[:,0])\n",
    "# auc_abnormal = roc_auc_score(y_score= ypreds_abnormal_soft, y_true= ytrue_abnormal)\n",
    "# accuracy_abnormal = accuracy_score(y_true= ytrue_abnormal, y_pred= ypreds_abnormal_hard)\n",
    "\n",
    "\n",
    "\n",
    "\n",
    "\n",
    "# logString = \"LR: \" + str(lr) + \"\\nMomentum: \" + str(momentum) + \"\\nAbnormal MRI AUC: \" + str(auc_abnormal) + \"\\nAbnormal MRI Accuracy: \" + str(accuracy_abnormal)+\"\\n\\n\" #\"\\nACL Injury AUC: \" + str(auc_acl) + \"\\nMeniscus Injury AUC: \" + str(auc_meniscus) +\"\\nAbnormal MRI Accuracy: \" + str(accuracy_abnormal) + \"\\nACL Injury Accuracy: \" + str(accuracy_acl) + \"\\nMeniscus Injury Accuracy: \" + str(accuracy_meniscus) +\"\\n\\n\"\n",
    "\n",
    "# print (logString)\n",
    "\n",
    "# filename = \"LogsCatboost.txt\"\n",
    "# file = open(filename, \"a\")\n",
    "\n",
    "# file.write(logString)\n",
    "# file.close()\n"
   ]
  }
 ],
 "metadata": {
  "kernelspec": {
   "display_name": "Python 3.10.7 64-bit",
   "language": "python",
   "name": "python3"
  },
  "language_info": {
   "codemirror_mode": {
    "name": "ipython",
    "version": 3
   },
   "file_extension": ".py",
   "mimetype": "text/x-python",
   "name": "python",
   "nbconvert_exporter": "python",
   "pygments_lexer": "ipython3",
   "version": "3.10.7"
  },
  "vscode": {
   "interpreter": {
    "hash": "26de051ba29f2982a8de78e945f0abaf191376122a1563185a90213a26c5da77"
   }
  }
 },
 "nbformat": 4,
 "nbformat_minor": 4
}
