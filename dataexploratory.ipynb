{
 "cells": [
  {
   "cell_type": "code",
   "execution_count": 51,
   "outputs": [],
   "source": [
    "import numpy as np\n",
    "import pandas as pd\n",
    "import matplotlib.pyplot as plt"
   ],
   "metadata": {
    "collapsed": false,
    "pycharm": {
     "name": "#%%\n"
    }
   }
  },
  {
   "cell_type": "code",
   "execution_count": 53,
   "outputs": [],
   "source": [
    "train_acl = pd.read_csv(\"MRNet-v1.0/train-acl.csv\", header=None,\n",
    "                        names=['Case', 'ACL'],\n",
    "                        dtype={'Case': str, 'ACL': np.int64})\n",
    "\n",
    "train_abnormal = pd.read_csv(\"MRNet-v1.0/train-abnormal.csv\", header=None,\n",
    "                             names=['Case', 'Abnormal'],\n",
    "                             dtype={'Case': str, 'Abnormal': np.int64})\n",
    "\n",
    "train_meniscus = pd.read_csv(\"MRNet-v1.0/train-meniscus.csv\", header=None,\n",
    "                             names=['Case', 'Meniscus'],\n",
    "                             dtype={'Case': str, 'Meniscus': np.int64})"
   ],
   "metadata": {
    "collapsed": false,
    "pycharm": {
     "name": "#%%\n"
    }
   }
  },
  {
   "cell_type": "code",
   "execution_count": 54,
   "outputs": [],
   "source": [
    "train_df = pd.merge(train_acl, train_abnormal, on='Case').merge(train_meniscus, on='Case')"
   ],
   "metadata": {
    "collapsed": false,
    "pycharm": {
     "name": "#%%\n"
    }
   }
  },
  {
   "cell_type": "code",
   "execution_count": 55,
   "outputs": [
    {
     "data": {
      "text/plain": "      Case  ACL  Abnormal  Meniscus\n0     0000    0         1         0\n1     0001    1         1         1\n2     0002    0         1         0\n3     0003    0         1         1\n4     0004    0         1         0\n...    ...  ...       ...       ...\n1125  1125    0         1         1\n1126  1126    0         1         1\n1127  1127    0         0         0\n1128  1128    0         1         0\n1129  1129    1         1         0\n\n[1130 rows x 4 columns]",
      "text/html": "<div>\n<style scoped>\n    .dataframe tbody tr th:only-of-type {\n        vertical-align: middle;\n    }\n\n    .dataframe tbody tr th {\n        vertical-align: top;\n    }\n\n    .dataframe thead th {\n        text-align: right;\n    }\n</style>\n<table border=\"1\" class=\"dataframe\">\n  <thead>\n    <tr style=\"text-align: right;\">\n      <th></th>\n      <th>Case</th>\n      <th>ACL</th>\n      <th>Abnormal</th>\n      <th>Meniscus</th>\n    </tr>\n  </thead>\n  <tbody>\n    <tr>\n      <th>0</th>\n      <td>0000</td>\n      <td>0</td>\n      <td>1</td>\n      <td>0</td>\n    </tr>\n    <tr>\n      <th>1</th>\n      <td>0001</td>\n      <td>1</td>\n      <td>1</td>\n      <td>1</td>\n    </tr>\n    <tr>\n      <th>2</th>\n      <td>0002</td>\n      <td>0</td>\n      <td>1</td>\n      <td>0</td>\n    </tr>\n    <tr>\n      <th>3</th>\n      <td>0003</td>\n      <td>0</td>\n      <td>1</td>\n      <td>1</td>\n    </tr>\n    <tr>\n      <th>4</th>\n      <td>0004</td>\n      <td>0</td>\n      <td>1</td>\n      <td>0</td>\n    </tr>\n    <tr>\n      <th>...</th>\n      <td>...</td>\n      <td>...</td>\n      <td>...</td>\n      <td>...</td>\n    </tr>\n    <tr>\n      <th>1125</th>\n      <td>1125</td>\n      <td>0</td>\n      <td>1</td>\n      <td>1</td>\n    </tr>\n    <tr>\n      <th>1126</th>\n      <td>1126</td>\n      <td>0</td>\n      <td>1</td>\n      <td>1</td>\n    </tr>\n    <tr>\n      <th>1127</th>\n      <td>1127</td>\n      <td>0</td>\n      <td>0</td>\n      <td>0</td>\n    </tr>\n    <tr>\n      <th>1128</th>\n      <td>1128</td>\n      <td>0</td>\n      <td>1</td>\n      <td>0</td>\n    </tr>\n    <tr>\n      <th>1129</th>\n      <td>1129</td>\n      <td>1</td>\n      <td>1</td>\n      <td>0</td>\n    </tr>\n  </tbody>\n</table>\n<p>1130 rows × 4 columns</p>\n</div>"
     },
     "execution_count": 55,
     "metadata": {},
     "output_type": "execute_result"
    }
   ],
   "source": [
    "train_df"
   ],
   "metadata": {
    "collapsed": false,
    "pycharm": {
     "name": "#%%\n"
    }
   }
  },
  {
   "cell_type": "code",
   "execution_count": 56,
   "outputs": [
    {
     "name": "stdout",
     "output_type": "stream",
     "text": [
      "0    0.815929\n",
      "1    0.184071\n",
      "Name: ACL, dtype: float64\n",
      "1    0.807965\n",
      "0    0.192035\n",
      "Name: Abnormal, dtype: float64\n",
      "0    0.648673\n",
      "1    0.351327\n",
      "Name: Meniscus, dtype: float64\n"
     ]
    }
   ],
   "source": [
    "print(train_acl.ACL.value_counts(normalize=True))\n",
    "print(train_abnormal.Abnormal.value_counts(normalize=True))\n",
    "print(train_meniscus.Meniscus.value_counts(normalize=True))"
   ],
   "metadata": {
    "collapsed": false,
    "pycharm": {
     "name": "#%%\n"
    }
   }
  },
  {
   "cell_type": "code",
   "execution_count": 57,
   "outputs": [],
   "source": [
    "valid_acl = pd.read_csv(\"MRNet-v1.0/valid-acl.csv\", header=None,\n",
    "                        names=['Case', 'ACL'],\n",
    "                        dtype={'Case': str, 'ACL': np.int64})\n",
    "valid_abnormal = pd.read_csv(\"MRNet-v1.0/valid-abnormal.csv\", header=None,\n",
    "                             names=['Case', 'Abnormal'],\n",
    "                             dtype={'Case': str, 'Abnormal': np.int64})\n",
    "valid_meniscus = pd.read_csv(\"MRNet-v1.0/valid-meniscus.csv\", header=None,\n",
    "                             names=['Case', 'Meniscus'],\n",
    "                             dtype={'Case': str, 'Meniscus': np.int64})"
   ],
   "metadata": {
    "collapsed": false,
    "pycharm": {
     "name": "#%%\n"
    }
   }
  },
  {
   "cell_type": "code",
   "execution_count": 58,
   "outputs": [],
   "source": [
    "valid_df = pd.merge(valid_acl, valid_abnormal, on='Case').merge(valid_meniscus, on='Case')"
   ],
   "metadata": {
    "collapsed": false,
    "pycharm": {
     "name": "#%%\n"
    }
   }
  },
  {
   "cell_type": "code",
   "execution_count": 59,
   "outputs": [
    {
     "name": "stdout",
     "output_type": "stream",
     "text": [
      "0    0.55\n",
      "1    0.45\n",
      "Name: ACL, dtype: float64\n",
      "1    0.791667\n",
      "0    0.208333\n",
      "Name: Abnormal, dtype: float64\n",
      "0    0.566667\n",
      "1    0.433333\n",
      "Name: Meniscus, dtype: float64\n"
     ]
    }
   ],
   "source": [
    "print(valid_acl.ACL.value_counts(normalize=True))\n",
    "print(valid_abnormal.Abnormal.value_counts(normalize=True))\n",
    "print(valid_meniscus.Meniscus.value_counts(normalize=True))"
   ],
   "metadata": {
    "collapsed": false,
    "pycharm": {
     "name": "#%%\n"
    }
   }
  }
 ],
 "metadata": {
  "kernelspec": {
   "display_name": "Python 3",
   "language": "python",
   "name": "python3"
  },
  "language_info": {
   "codemirror_mode": {
    "name": "ipython",
    "version": 2
   },
   "file_extension": ".py",
   "mimetype": "text/x-python",
   "name": "python",
   "nbconvert_exporter": "python",
   "pygments_lexer": "ipython2",
   "version": "2.7.6"
  }
 },
 "nbformat": 4,
 "nbformat_minor": 0
}