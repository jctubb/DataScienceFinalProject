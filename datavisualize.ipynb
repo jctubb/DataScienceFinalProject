{
 "cells": [
  {
   "cell_type": "code",
   "execution_count": 1,
   "metadata": {},
   "outputs": [
    {
     "data": {
      "text/html": [
       "<style>.prompt{width: 0px; min-width: 0px; visibility: collapse}</style>"
      ],
      "text/plain": [
       "<IPython.core.display.HTML object>"
      ]
     },
     "metadata": {},
     "output_type": "display_data"
    },
    {
     "data": {
      "application/vnd.jupyter.widget-view+json": {
       "model_id": "e4df370455854d088960921415645fea",
       "version_major": 2,
       "version_minor": 0
      },
      "text/plain": [
       "interactive(children=(Dropdown(description='Case', options=('0000', '0001', '0002', '0003', '0004', '0005', '0…"
      ]
     },
     "metadata": {},
     "output_type": "display_data"
    }
   ],
   "source": [
    "#Visualize Data\n",
    "import kneeplot\n",
    "import numpy as np \n",
    "\n",
    "#Necessary for file loading\n",
    "def intToFourDigitStr(n):\n",
    "    digits = len(str(n))\n",
    "    if digits == 1:\n",
    "        return \"000\" + str(n)\n",
    "    elif digits == 2:\n",
    "        return \"00\" + str(n)\n",
    "    elif digits == 3:\n",
    "        return \"0\" + str(n)\n",
    "    elif digits == 4:\n",
    "        return str(n)\n",
    "    else:\n",
    "        print(\"error in intToFourDigitStr\")\n",
    "        return \"0000\"\n",
    "\n",
    "\n",
    "numTrain = 1130\n",
    "numTotal = 1250\n",
    "numValid = numTotal - numTrain\n",
    "#Get Cases into dictionary form\n",
    "cases = {}\n",
    "for i in range (numTrain):\n",
    "    fileNum = intToFourDigitStr(i)\n",
    "    axial = np.load(\"MRNet-v1.0/train/axial/\" + fileNum + \".npy\")\n",
    "    coronal = np.load(\"MRNet-v1.0/train/coronal/\" + fileNum + \".npy\")\n",
    "    sagittal = np.load(\"MRNet-v1.0/train/sagittal/\" + fileNum + \".npy\")\n",
    "    cases[fileNum] = {}\n",
    "    cases[fileNum] = {\n",
    "        \"axial\":axial,\n",
    "        \"coronal\":coronal,\n",
    "        \"sagittal\":sagittal\n",
    "    }\n",
    "\n",
    "plot = kneeplot.KneePlot(cases)\n",
    "plot.draw()"
   ]
  }
 ],
 "metadata": {
  "kernelspec": {
   "display_name": "Python 3.10.2 64-bit",
   "language": "python",
   "name": "python3"
  },
  "language_info": {
   "codemirror_mode": {
    "name": "ipython",
    "version": 3
   },
   "file_extension": ".py",
   "mimetype": "text/x-python",
   "name": "python",
   "nbconvert_exporter": "python",
   "pygments_lexer": "ipython3",
   "version": "3.10.2"
  },
  "orig_nbformat": 4,
  "vscode": {
   "interpreter": {
    "hash": "369f2c481f4da34e4445cda3fffd2e751bd1c4d706f27375911949ba6bb62e1c"
   }
  }
 },
 "nbformat": 4,
 "nbformat_minor": 2
}
