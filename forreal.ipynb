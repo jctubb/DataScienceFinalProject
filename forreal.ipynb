{
 "cells": [
  {
   "cell_type": "code",
   "execution_count": 4,
   "outputs": [
    {
     "ename": "ModuleNotFoundError",
     "evalue": "No module named 'cv2'",
     "output_type": "error",
     "traceback": [
      "\u001B[0;31m---------------------------------------------------------------------------\u001B[0m",
      "\u001B[0;31mModuleNotFoundError\u001B[0m                       Traceback (most recent call last)",
      "Input \u001B[0;32mIn [4]\u001B[0m, in \u001B[0;36m<module>\u001B[0;34m\u001B[0m\n\u001B[1;32m      5\u001B[0m \u001B[38;5;28;01mimport\u001B[39;00m \u001B[38;5;21;01mnumpy\u001B[39;00m \u001B[38;5;28;01mas\u001B[39;00m \u001B[38;5;21;01mnp\u001B[39;00m\n\u001B[1;32m      6\u001B[0m \u001B[38;5;28;01mfrom\u001B[39;00m \u001B[38;5;21;01mnumpy\u001B[39;00m \u001B[38;5;28;01mimport\u001B[39;00m zeros, newaxis\n\u001B[0;32m----> 7\u001B[0m \u001B[38;5;28;01mimport\u001B[39;00m \u001B[38;5;21;01mcv2\u001B[39;00m\n\u001B[1;32m      9\u001B[0m \u001B[38;5;28;01mimport\u001B[39;00m \u001B[38;5;21;01mmatplotlib\u001B[39;00m\u001B[38;5;21;01m.\u001B[39;00m\u001B[38;5;21;01mpyplot\u001B[39;00m \u001B[38;5;28;01mas\u001B[39;00m \u001B[38;5;21;01mplt\u001B[39;00m\n\u001B[1;32m     10\u001B[0m \u001B[38;5;28;01mimport\u001B[39;00m \u001B[38;5;21;01mseaborn\u001B[39;00m\n",
      "\u001B[0;31mModuleNotFoundError\u001B[0m: No module named 'cv2'"
     ]
    }
   ],
   "source": [
    "import glob\n",
    "import os\n",
    "\n",
    "import pandas as pd\n",
    "import numpy as np\n",
    "from numpy import zeros, newaxis\n",
    "import cv2\n",
    "\n",
    "import matplotlib.pyplot as plt\n",
    "import seaborn"
   ],
   "metadata": {
    "collapsed": false,
    "pycharm": {
     "name": "#%%\n"
    }
   }
  },
  {
   "cell_type": "code",
   "execution_count": 5,
   "outputs": [],
   "source": [
    "abnormal_path_train =  'MRNet-v1.0/train-abnormal.csv'\n",
    "acl_path_train = 'MRNet-v1.0/train-acl.csv'\n",
    "meniscus_train =  'MRNet-v1.0/train-meniscus.csv'\n",
    "\n",
    "\n",
    "abnormal_path_valid =  'MRNet-v1.0/valid-abnormal.csv'\n",
    "acl_path_valid = 'MRNet-v1.0/valid-acl.csv'\n",
    "meniscus_valid =  'MRNet-v1.0/valid-meniscus.csv'"
   ],
   "metadata": {
    "collapsed": false,
    "pycharm": {
     "name": "#%%\n"
    }
   }
  },
  {
   "cell_type": "code",
   "execution_count": 6,
   "outputs": [],
   "source": [
    "def load_labels(abnormal_path, acl_path, meniscus_path):\n",
    "\n",
    "    df_labels_abnormal =  pd.read_csv(abnormal_path, names=['Image_Name', 'Abnormal_Label'])\n",
    "    df_labels_acl = pd.read_csv(acl_path, names=['Image_Name', 'Acl_Label'])\n",
    "    df_labels_meniscus = pd.read_csv(meniscus_path, names=['Image_Name', 'Meniscus_Label'])\n",
    "\n",
    "    df_lables_combined = pd.merge(df_labels_abnormal, df_labels_acl, how = 'left', left_on=['Image_Name'], right_on=['Image_Name'])\n",
    "    df_lables_combined = pd.merge(df_lables_combined, df_labels_meniscus, how = 'left', left_on=['Image_Name'], right_on=['Image_Name'])\n",
    "    df_lables_combined['Image_Name'] = df_lables_combined['Image_Name'].astype(str)\n",
    "    df_lables_combined['Image_Name'] = df_lables_combined['Image_Name'].apply(lambda x: x.zfill(4))\n",
    "\n",
    "    return df_lables_combined"
   ],
   "metadata": {
    "collapsed": false,
    "pycharm": {
     "name": "#%%\n"
    }
   }
  },
  {
   "cell_type": "code",
   "execution_count": 7,
   "outputs": [
    {
     "data": {
      "text/plain": "    Image_Name  Abnormal_Label  Acl_Label  Meniscus_Label\n0         1130               0          0               0\n1         1131               0          0               0\n2         1132               0          0               0\n3         1133               0          0               0\n4         1134               0          0               0\n..         ...             ...        ...             ...\n115       1245               1          1               1\n116       1246               1          1               1\n117       1247               1          0               1\n118       1248               1          1               1\n119       1249               1          0               1\n\n[120 rows x 4 columns]",
      "text/html": "<div>\n<style scoped>\n    .dataframe tbody tr th:only-of-type {\n        vertical-align: middle;\n    }\n\n    .dataframe tbody tr th {\n        vertical-align: top;\n    }\n\n    .dataframe thead th {\n        text-align: right;\n    }\n</style>\n<table border=\"1\" class=\"dataframe\">\n  <thead>\n    <tr style=\"text-align: right;\">\n      <th></th>\n      <th>Image_Name</th>\n      <th>Abnormal_Label</th>\n      <th>Acl_Label</th>\n      <th>Meniscus_Label</th>\n    </tr>\n  </thead>\n  <tbody>\n    <tr>\n      <th>0</th>\n      <td>1130</td>\n      <td>0</td>\n      <td>0</td>\n      <td>0</td>\n    </tr>\n    <tr>\n      <th>1</th>\n      <td>1131</td>\n      <td>0</td>\n      <td>0</td>\n      <td>0</td>\n    </tr>\n    <tr>\n      <th>2</th>\n      <td>1132</td>\n      <td>0</td>\n      <td>0</td>\n      <td>0</td>\n    </tr>\n    <tr>\n      <th>3</th>\n      <td>1133</td>\n      <td>0</td>\n      <td>0</td>\n      <td>0</td>\n    </tr>\n    <tr>\n      <th>4</th>\n      <td>1134</td>\n      <td>0</td>\n      <td>0</td>\n      <td>0</td>\n    </tr>\n    <tr>\n      <th>...</th>\n      <td>...</td>\n      <td>...</td>\n      <td>...</td>\n      <td>...</td>\n    </tr>\n    <tr>\n      <th>115</th>\n      <td>1245</td>\n      <td>1</td>\n      <td>1</td>\n      <td>1</td>\n    </tr>\n    <tr>\n      <th>116</th>\n      <td>1246</td>\n      <td>1</td>\n      <td>1</td>\n      <td>1</td>\n    </tr>\n    <tr>\n      <th>117</th>\n      <td>1247</td>\n      <td>1</td>\n      <td>0</td>\n      <td>1</td>\n    </tr>\n    <tr>\n      <th>118</th>\n      <td>1248</td>\n      <td>1</td>\n      <td>1</td>\n      <td>1</td>\n    </tr>\n    <tr>\n      <th>119</th>\n      <td>1249</td>\n      <td>1</td>\n      <td>0</td>\n      <td>1</td>\n    </tr>\n  </tbody>\n</table>\n<p>120 rows × 4 columns</p>\n</div>"
     },
     "execution_count": 7,
     "metadata": {},
     "output_type": "execute_result"
    }
   ],
   "source": [
    "df_labels_train = load_labels(abnormal_path_train, acl_path_train, meniscus_train)\n",
    "df_labels_train\n",
    "\n",
    "df_labels_valid = load_labels(abnormal_path_valid, acl_path_valid, meniscus_valid)\n",
    "df_labels_valid"
   ],
   "metadata": {
    "collapsed": false,
    "pycharm": {
     "name": "#%%\n"
    }
   }
  },
  {
   "cell_type": "code",
   "execution_count": 7,
   "outputs": [],
   "source": [],
   "metadata": {
    "collapsed": false,
    "pycharm": {
     "name": "#%%\n"
    }
   }
  },
  {
   "cell_type": "code",
   "execution_count": 8,
   "outputs": [],
   "source": [
    "# Read Traning Data\n",
    "def read_data(train_path, df_labels):\n",
    "    axial_images = []\n",
    "    coronal_images = []\n",
    "    sagittal_images = []\n",
    "\n",
    "    axial_labels = []\n",
    "    coronal_labels = []\n",
    "    sagittal_labels = []\n",
    "\n",
    "    # train_path = '/kaggle/input/mrnet-v1/MRNet-v1.0/train'\n",
    "    train_folders = glob.glob(train_path + '/*')\n",
    "\n",
    "    for folder in train_folders:\n",
    "        train_data = glob.glob(folder + '/*.npy')\n",
    "        print('Total samples in data:', len(train_data))\n",
    "        print('Loading Data From :   ', folder)\n",
    "\n",
    "        for i in train_data:\n",
    "            #             print(i)\n",
    "            img_array = np.load(i)\n",
    "            start, end = (img_array.shape[0]/2)-8, (img_array.shape[0]/2)+8\n",
    "            image_tensor = img_array[int(start):int(end),:,:].reshape(256,256,16)\n",
    "            if 'axial' in i:\n",
    "                axial_images.append(image_tensor)\n",
    "                image_name = i.rsplit('/')[-1].split('.')[0]\n",
    "                axial_labels.append(df_labels[df_labels['Image_Name']==image_name].iloc[:, 1:].values[0])\n",
    "            if 'coronal' in i:\n",
    "                coronal_images.append(image_tensor)\n",
    "                image_name = i.rsplit('/')[-1].split('.')[0]\n",
    "                coronal_labels.append(df_labels[df_labels['Image_Name']==image_name].iloc[:, 1:].values[0])\n",
    "            if 'sagittal' in i:\n",
    "                sagittal_images.append(image_tensor)\n",
    "                image_name = i.rsplit('/')[-1].split('.')[0]\n",
    "                sagittal_labels.append(df_labels[df_labels['Image_Name']==image_name].iloc[:, 1:].values[0])\n",
    "\n",
    "        print('Loading Complete From :   ', folder)\n",
    "        print('\\n\\n')\n",
    "    return axial_images, coronal_images, sagittal_images, axial_labels\n",
    "\n",
    "train_path =  'MRNet-v1.0/train'\n",
    "valid_path =  'MRNet-v1.0/valid'"
   ],
   "metadata": {
    "collapsed": false,
    "pycharm": {
     "name": "#%%\n"
    }
   }
  },
  {
   "cell_type": "code",
   "execution_count": null,
   "outputs": [],
   "source": [],
   "metadata": {
    "collapsed": false,
    "pycharm": {
     "name": "#%%\n"
    }
   }
  }
 ],
 "metadata": {
  "kernelspec": {
   "display_name": "Python 3",
   "language": "python",
   "name": "python3"
  },
  "language_info": {
   "codemirror_mode": {
    "name": "ipython",
    "version": 2
   },
   "file_extension": ".py",
   "mimetype": "text/x-python",
   "name": "python",
   "nbconvert_exporter": "python",
   "pygments_lexer": "ipython2",
   "version": "2.7.6"
  }
 },
 "nbformat": 4,
 "nbformat_minor": 0
}