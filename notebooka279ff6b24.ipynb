{
 "metadata": {
  "kernelspec": {
   "language": "python",
   "display_name": "Python 3",
   "name": "python3"
  },
  "language_info": {
   "pygments_lexer": "ipython3",
   "nbconvert_exporter": "python",
   "version": "3.6.4",
   "file_extension": ".py",
   "codemirror_mode": {
    "name": "ipython",
    "version": 3
   },
   "name": "python",
   "mimetype": "text/x-python"
  }
 },
 "nbformat_minor": 4,
 "nbformat": 4,
 "cells": [
  {
   "cell_type": "markdown",
   "source": [
    "## Import Libraries"
   ],
   "metadata": {
    "pycharm": {
     "name": "#%% md\n"
    }
   }
  },
  {
   "cell_type": "code",
   "source": [
    "import glob\n",
    "import os\n",
    "\n",
    "import pandas as pd\n",
    "import numpy as np\n",
    "from numpy import zeros, newaxis\n",
    "import cv2\n",
    "\n",
    "import matplotlib.pyplot as plt\n",
    "import seaborn"
   ],
   "metadata": {
    "execution": {
     "iopub.status.busy": "2022-08-01T18:12:33.854987Z",
     "iopub.execute_input": "2022-08-01T18:12:33.855305Z",
     "iopub.status.idle": "2022-08-01T18:12:35.073506Z",
     "shell.execute_reply.started": "2022-08-01T18:12:33.855223Z",
     "shell.execute_reply": "2022-08-01T18:12:35.072769Z"
    },
    "trusted": true,
    "pycharm": {
     "name": "#%%\n"
    }
   },
   "execution_count": 14,
   "outputs": []
  },
  {
   "cell_type": "markdown",
   "source": [
    "## Read Data"
   ],
   "metadata": {
    "pycharm": {
     "name": "#%% md\n"
    }
   }
  },
  {
   "cell_type": "code",
   "source": [
    "axial_image = 'MRNet-v1.0/train/axial/0000.npy'\n",
    "coronal_image = 'MRNet-v1.0/train/coronal/0000.npy'\n",
    "saggital_image = 'MRNet-v1.0/train/sagittal/0000.npy'\n",
    "\n",
    "\n",
    "img_array_axial = np.load(axial_image)\n",
    "img_array_coronal = np.load(coronal_image)\n",
    "img_array_sagittal = np.load(saggital_image)"
   ],
   "metadata": {
    "execution": {
     "iopub.status.busy": "2022-08-01T18:12:39.365367Z",
     "iopub.execute_input": "2022-08-01T18:12:39.366043Z",
     "iopub.status.idle": "2022-08-01T18:12:39.478716Z",
     "shell.execute_reply.started": "2022-08-01T18:12:39.366006Z",
     "shell.execute_reply": "2022-08-01T18:12:39.477939Z"
    },
    "trusted": true,
    "pycharm": {
     "name": "#%%\n"
    }
   },
   "execution_count": 15,
   "outputs": []
  },
  {
   "cell_type": "code",
   "source": [
    "abnormal_path_train =  'MRNet-v1.0/train-abnormal.csv'\n",
    "acl_path_train = 'MRNet-v1.0/train-acl.csv'\n",
    "meniscus_train =  'MRNet-v1.0/train-meniscus.csv'\n",
    "\n",
    "\n",
    "abnormal_path_valid =  'MRNet-v1.0/valid-abnormal.csv'\n",
    "acl_path_valid = 'MRNet-v1.0/valid-acl.csv'\n",
    "meniscus_valid =  'MRNet-v1.0/valid-meniscus.csv'\n"
   ],
   "metadata": {
    "execution": {
     "iopub.status.busy": "2022-08-01T18:12:44.018272Z",
     "iopub.execute_input": "2022-08-01T18:12:44.018551Z",
     "iopub.status.idle": "2022-08-01T18:12:44.022791Z",
     "shell.execute_reply.started": "2022-08-01T18:12:44.018517Z",
     "shell.execute_reply": "2022-08-01T18:12:44.022063Z"
    },
    "trusted": true,
    "pycharm": {
     "name": "#%%\n"
    }
   },
   "execution_count": 16,
   "outputs": []
  },
  {
   "cell_type": "code",
   "source": [
    "def load_labels(abnormal_path, acl_path, meniscus_path):\n",
    "    \n",
    "    df_labels_abnormal =  pd.read_csv(abnormal_path, names=['Image_Name', 'Abnormal_Label'])\n",
    "    df_labels_acl = pd.read_csv(acl_path, names=['Image_Name', 'Acl_Label'])\n",
    "    df_labels_meniscus = pd.read_csv(meniscus_path, names=['Image_Name', 'Meniscus_Label'])\n",
    "    \n",
    "    df_lables_combined = pd.merge(df_labels_abnormal, df_labels_acl, how = 'left', left_on=['Image_Name'], right_on=['Image_Name'])\n",
    "    df_lables_combined = pd.merge(df_lables_combined, df_labels_meniscus, how = 'left', left_on=['Image_Name'], right_on=['Image_Name'])\n",
    "    df_lables_combined['Image_Name'] = df_lables_combined['Image_Name'].astype(str)\n",
    "    df_lables_combined['Image_Name'] = df_lables_combined['Image_Name'].apply(lambda x: x.zfill(4))\n",
    "    \n",
    "    return df_lables_combined"
   ],
   "metadata": {
    "execution": {
     "iopub.status.busy": "2022-08-01T18:12:47.238075Z",
     "iopub.execute_input": "2022-08-01T18:12:47.238631Z",
     "iopub.status.idle": "2022-08-01T18:12:47.246725Z",
     "shell.execute_reply.started": "2022-08-01T18:12:47.238595Z",
     "shell.execute_reply": "2022-08-01T18:12:47.245741Z"
    },
    "trusted": true,
    "pycharm": {
     "name": "#%%\n"
    }
   },
   "execution_count": 17,
   "outputs": []
  },
  {
   "cell_type": "code",
   "source": [
    "# Load Train Labels\n",
    "df_labels_train = load_labels(abnormal_path_train, acl_path_train, meniscus_train)\n",
    "df_labels_train"
   ],
   "metadata": {
    "execution": {
     "iopub.status.busy": "2022-08-01T18:12:50.034263Z",
     "iopub.execute_input": "2022-08-01T18:12:50.034805Z",
     "iopub.status.idle": "2022-08-01T18:12:50.090029Z",
     "shell.execute_reply.started": "2022-08-01T18:12:50.03477Z",
     "shell.execute_reply": "2022-08-01T18:12:50.08935Z"
    },
    "trusted": true,
    "pycharm": {
     "name": "#%%\n"
    }
   },
   "execution_count": 18,
   "outputs": [
    {
     "data": {
      "text/plain": "     Image_Name  Abnormal_Label  Acl_Label  Meniscus_Label\n0          0000               1          0               0\n1          0001               1          1               1\n2          0002               1          0               0\n3          0003               1          0               1\n4          0004               1          0               0\n...         ...             ...        ...             ...\n1125       1125               1          0               1\n1126       1126               1          0               1\n1127       1127               0          0               0\n1128       1128               1          0               0\n1129       1129               1          1               0\n\n[1130 rows x 4 columns]",
      "text/html": "<div>\n<style scoped>\n    .dataframe tbody tr th:only-of-type {\n        vertical-align: middle;\n    }\n\n    .dataframe tbody tr th {\n        vertical-align: top;\n    }\n\n    .dataframe thead th {\n        text-align: right;\n    }\n</style>\n<table border=\"1\" class=\"dataframe\">\n  <thead>\n    <tr style=\"text-align: right;\">\n      <th></th>\n      <th>Image_Name</th>\n      <th>Abnormal_Label</th>\n      <th>Acl_Label</th>\n      <th>Meniscus_Label</th>\n    </tr>\n  </thead>\n  <tbody>\n    <tr>\n      <th>0</th>\n      <td>0000</td>\n      <td>1</td>\n      <td>0</td>\n      <td>0</td>\n    </tr>\n    <tr>\n      <th>1</th>\n      <td>0001</td>\n      <td>1</td>\n      <td>1</td>\n      <td>1</td>\n    </tr>\n    <tr>\n      <th>2</th>\n      <td>0002</td>\n      <td>1</td>\n      <td>0</td>\n      <td>0</td>\n    </tr>\n    <tr>\n      <th>3</th>\n      <td>0003</td>\n      <td>1</td>\n      <td>0</td>\n      <td>1</td>\n    </tr>\n    <tr>\n      <th>4</th>\n      <td>0004</td>\n      <td>1</td>\n      <td>0</td>\n      <td>0</td>\n    </tr>\n    <tr>\n      <th>...</th>\n      <td>...</td>\n      <td>...</td>\n      <td>...</td>\n      <td>...</td>\n    </tr>\n    <tr>\n      <th>1125</th>\n      <td>1125</td>\n      <td>1</td>\n      <td>0</td>\n      <td>1</td>\n    </tr>\n    <tr>\n      <th>1126</th>\n      <td>1126</td>\n      <td>1</td>\n      <td>0</td>\n      <td>1</td>\n    </tr>\n    <tr>\n      <th>1127</th>\n      <td>1127</td>\n      <td>0</td>\n      <td>0</td>\n      <td>0</td>\n    </tr>\n    <tr>\n      <th>1128</th>\n      <td>1128</td>\n      <td>1</td>\n      <td>0</td>\n      <td>0</td>\n    </tr>\n    <tr>\n      <th>1129</th>\n      <td>1129</td>\n      <td>1</td>\n      <td>1</td>\n      <td>0</td>\n    </tr>\n  </tbody>\n</table>\n<p>1130 rows × 4 columns</p>\n</div>"
     },
     "execution_count": 18,
     "metadata": {},
     "output_type": "execute_result"
    }
   ]
  },
  {
   "cell_type": "code",
   "source": [
    "# Load Valid Labels\n",
    "df_labels_valid = load_labels(abnormal_path_valid, acl_path_valid, meniscus_valid)\n",
    "df_labels_valid"
   ],
   "metadata": {
    "execution": {
     "iopub.status.busy": "2022-08-01T18:12:50.382436Z",
     "iopub.execute_input": "2022-08-01T18:12:50.382897Z",
     "iopub.status.idle": "2022-08-01T18:12:50.414066Z",
     "shell.execute_reply.started": "2022-08-01T18:12:50.382861Z",
     "shell.execute_reply": "2022-08-01T18:12:50.413384Z"
    },
    "trusted": true,
    "pycharm": {
     "name": "#%%\n"
    }
   },
   "execution_count": 19,
   "outputs": [
    {
     "data": {
      "text/plain": "    Image_Name  Abnormal_Label  Acl_Label  Meniscus_Label\n0         1130               0          0               0\n1         1131               0          0               0\n2         1132               0          0               0\n3         1133               0          0               0\n4         1134               0          0               0\n..         ...             ...        ...             ...\n115       1245               1          1               1\n116       1246               1          1               1\n117       1247               1          0               1\n118       1248               1          1               1\n119       1249               1          0               1\n\n[120 rows x 4 columns]",
      "text/html": "<div>\n<style scoped>\n    .dataframe tbody tr th:only-of-type {\n        vertical-align: middle;\n    }\n\n    .dataframe tbody tr th {\n        vertical-align: top;\n    }\n\n    .dataframe thead th {\n        text-align: right;\n    }\n</style>\n<table border=\"1\" class=\"dataframe\">\n  <thead>\n    <tr style=\"text-align: right;\">\n      <th></th>\n      <th>Image_Name</th>\n      <th>Abnormal_Label</th>\n      <th>Acl_Label</th>\n      <th>Meniscus_Label</th>\n    </tr>\n  </thead>\n  <tbody>\n    <tr>\n      <th>0</th>\n      <td>1130</td>\n      <td>0</td>\n      <td>0</td>\n      <td>0</td>\n    </tr>\n    <tr>\n      <th>1</th>\n      <td>1131</td>\n      <td>0</td>\n      <td>0</td>\n      <td>0</td>\n    </tr>\n    <tr>\n      <th>2</th>\n      <td>1132</td>\n      <td>0</td>\n      <td>0</td>\n      <td>0</td>\n    </tr>\n    <tr>\n      <th>3</th>\n      <td>1133</td>\n      <td>0</td>\n      <td>0</td>\n      <td>0</td>\n    </tr>\n    <tr>\n      <th>4</th>\n      <td>1134</td>\n      <td>0</td>\n      <td>0</td>\n      <td>0</td>\n    </tr>\n    <tr>\n      <th>...</th>\n      <td>...</td>\n      <td>...</td>\n      <td>...</td>\n      <td>...</td>\n    </tr>\n    <tr>\n      <th>115</th>\n      <td>1245</td>\n      <td>1</td>\n      <td>1</td>\n      <td>1</td>\n    </tr>\n    <tr>\n      <th>116</th>\n      <td>1246</td>\n      <td>1</td>\n      <td>1</td>\n      <td>1</td>\n    </tr>\n    <tr>\n      <th>117</th>\n      <td>1247</td>\n      <td>1</td>\n      <td>0</td>\n      <td>1</td>\n    </tr>\n    <tr>\n      <th>118</th>\n      <td>1248</td>\n      <td>1</td>\n      <td>1</td>\n      <td>1</td>\n    </tr>\n    <tr>\n      <th>119</th>\n      <td>1249</td>\n      <td>1</td>\n      <td>0</td>\n      <td>1</td>\n    </tr>\n  </tbody>\n</table>\n<p>120 rows × 4 columns</p>\n</div>"
     },
     "execution_count": 19,
     "metadata": {},
     "output_type": "execute_result"
    }
   ]
  },
  {
   "cell_type": "code",
   "source": [
    "glob.glob('MRNet-v1.0/*')"
   ],
   "metadata": {
    "execution": {
     "iopub.status.busy": "2022-08-01T18:12:53.822763Z",
     "iopub.execute_input": "2022-08-01T18:12:53.82328Z",
     "iopub.status.idle": "2022-08-01T18:12:53.832668Z",
     "shell.execute_reply.started": "2022-08-01T18:12:53.823245Z",
     "shell.execute_reply": "2022-08-01T18:12:53.831847Z"
    },
    "trusted": true,
    "pycharm": {
     "name": "#%%\n"
    }
   },
   "execution_count": 20,
   "outputs": [
    {
     "data": {
      "text/plain": "['MRNet-v1.0/valid-abnormal.csv',\n 'MRNet-v1.0/valid',\n 'MRNet-v1.0/train-acl.csv',\n 'MRNet-v1.0/train-meniscus.csv',\n 'MRNet-v1.0/valid-acl.csv',\n 'MRNet-v1.0/train',\n 'MRNet-v1.0/train-abnormal.csv',\n 'MRNet-v1.0/valid-meniscus.csv']"
     },
     "execution_count": 20,
     "metadata": {},
     "output_type": "execute_result"
    }
   ]
  },
  {
   "cell_type": "code",
   "source": [
    "# Read Traning Data\n",
    "def read_data(train_path, df_labels):\n",
    "    axial_images = []\n",
    "    coronal_images = []\n",
    "    sagittal_images = []\n",
    "\n",
    "    axial_labels = []\n",
    "    coronal_labels = []\n",
    "    sagittal_labels = []\n",
    "\n",
    "    # train_path = '/kaggle/input/mrnet-v1/MRNet-v1.0/train'\n",
    "    train_folders = glob.glob(train_path + '/*')\n",
    "    \n",
    "    for folder in train_folders:\n",
    "        train_data = glob.glob(folder + '/*.npy')\n",
    "        print('Total samples in data:', len(train_data))\n",
    "        print('Loading Data From :   ', folder)\n",
    "        \n",
    "        for i in train_data:\n",
    "#             print(i)\n",
    "            img_array = np.load(i)\n",
    "            start, end = (img_array.shape[0]/2)-8, (img_array.shape[0]/2)+8\n",
    "            image_tensor = img_array[int(start):int(end),:,:].reshape(256,256,16)\n",
    "            if 'axial' in i:\n",
    "                axial_images.append(image_tensor)\n",
    "                image_name = i.rsplit('/')[-1].split('.')[0]\n",
    "                axial_labels.append(df_labels[df_labels['Image_Name']==image_name].iloc[:, 1:].values[0])\n",
    "            if 'coronal' in i:\n",
    "                coronal_images.append(image_tensor)\n",
    "                image_name = i.rsplit('/')[-1].split('.')[0]\n",
    "                coronal_labels.append(df_labels[df_labels['Image_Name']==image_name].iloc[:, 1:].values[0])   \n",
    "            if 'sagittal' in i:\n",
    "                sagittal_images.append(image_tensor)\n",
    "                image_name = i.rsplit('/')[-1].split('.')[0]\n",
    "                sagittal_labels.append(df_labels[df_labels['Image_Name']==image_name].iloc[:, 1:].values[0])\n",
    "\n",
    "        print('Loading Complete From :   ', folder)\n",
    "        print('\\n\\n')\n",
    "    return axial_images, coronal_images, sagittal_images, axial_labels\n",
    "\n",
    "train_path =  'MRNet-v1.0/train'\n",
    "valid_path =  'MRNet-v1.0/valid'"
   ],
   "metadata": {
    "execution": {
     "iopub.status.busy": "2022-08-01T18:15:13.957679Z",
     "iopub.execute_input": "2022-08-01T18:15:13.958225Z",
     "iopub.status.idle": "2022-08-01T18:15:13.970992Z",
     "shell.execute_reply.started": "2022-08-01T18:15:13.958189Z",
     "shell.execute_reply": "2022-08-01T18:15:13.970307Z"
    },
    "trusted": true,
    "pycharm": {
     "name": "#%%\n"
    }
   },
   "execution_count": 21,
   "outputs": []
  },
  {
   "cell_type": "code",
   "source": [
    "# Load Data Here.\n",
    "axial_images_train, coronal_images_train, sagittal_images_train, axial_labels_train = read_data(train_path, df_labels_train)"
   ],
   "metadata": {
    "execution": {
     "iopub.status.busy": "2022-08-01T18:15:27.210822Z",
     "iopub.execute_input": "2022-08-01T18:15:27.211085Z",
     "iopub.status.idle": "2022-08-01T18:16:41.67204Z",
     "shell.execute_reply.started": "2022-08-01T18:15:27.211052Z",
     "shell.execute_reply": "2022-08-01T18:16:41.671165Z"
    },
    "trusted": true,
    "pycharm": {
     "name": "#%%\n"
    }
   },
   "execution_count": 22,
   "outputs": [
    {
     "name": "stdout",
     "output_type": "stream",
     "text": [
      "Total samples in data: 1130\n",
      "Loading Data From :    MRNet-v1.0/train/axial\n",
      "Loading Complete From :    MRNet-v1.0/train/axial\n",
      "\n",
      "\n",
      "\n",
      "Total samples in data: 1130\n",
      "Loading Data From :    MRNet-v1.0/train/sagittal\n",
      "Loading Complete From :    MRNet-v1.0/train/sagittal\n",
      "\n",
      "\n",
      "\n",
      "Total samples in data: 1130\n",
      "Loading Data From :    MRNet-v1.0/train/coronal\n",
      "Loading Complete From :    MRNet-v1.0/train/coronal\n",
      "\n",
      "\n",
      "\n"
     ]
    }
   ]
  },
  {
   "cell_type": "code",
   "source": [
    "#As the the dimensions and memory of the data exceeed the Kaggle's allowed Limit,\n",
    "# So we Dropped the Axial Images and Train Model on the base of Coronal and Sagittal Images.\n",
    "\n",
    "del axial_images_train"
   ],
   "metadata": {
    "execution": {
     "iopub.status.busy": "2022-08-01T18:16:41.673833Z",
     "iopub.execute_input": "2022-08-01T18:16:41.674042Z",
     "iopub.status.idle": "2022-08-01T18:16:41.704814Z",
     "shell.execute_reply.started": "2022-08-01T18:16:41.674016Z",
     "shell.execute_reply": "2022-08-01T18:16:41.70383Z"
    },
    "trusted": true,
    "pycharm": {
     "name": "#%%\n"
    }
   },
   "execution_count": 12,
   "outputs": []
  },
  {
   "cell_type": "code",
   "source": [
    "# print(np.array(axial_images_train).shape)\n",
    "print(np.array(coronal_images_train).shape)\n",
    "print(np.array(sagittal_images_train).shape)\n",
    "print(np.array(axial_labels_train).shape)"
   ],
   "metadata": {
    "execution": {
     "iopub.status.busy": "2022-08-01T18:16:41.706274Z",
     "iopub.execute_input": "2022-08-01T18:16:41.70741Z",
     "iopub.status.idle": "2022-08-01T18:16:42.241847Z",
     "shell.execute_reply.started": "2022-08-01T18:16:41.707373Z",
     "shell.execute_reply": "2022-08-01T18:16:42.241129Z"
    },
    "trusted": true,
    "pycharm": {
     "name": "#%%\n"
    }
   },
   "execution_count": 13,
   "outputs": [
    {
     "name": "stdout",
     "output_type": "stream",
     "text": [
      "(0,)\n",
      "(0,)\n",
      "(0,)\n"
     ]
    }
   ]
  },
  {
   "cell_type": "markdown",
   "source": [
    "## Modeling"
   ],
   "metadata": {
    "pycharm": {
     "name": "#%% md\n"
    }
   }
  },
  {
   "cell_type": "code",
   "source": [
    "from __future__ import print_function\n",
    "import tensorflow.keras\n",
    "from tensorflow.keras.models import Model, Sequential\n",
    "from tensorflow.keras.optimizers import *\n",
    "from tensorflow.keras.layers import *\n",
    "from tensorflow.keras.activations import *\n",
    "from tensorflow.keras.callbacks import *\n",
    "from tensorflow.keras.preprocessing.image import ImageDataGenerator\n",
    "from tensorflow.keras.regularizers import l2\n",
    "from tensorflow.keras import backend as K\n"
   ],
   "metadata": {
    "execution": {
     "iopub.status.busy": "2022-08-01T18:17:23.1658Z",
     "iopub.execute_input": "2022-08-01T18:17:23.16607Z",
     "iopub.status.idle": "2022-08-01T18:17:28.705067Z",
     "shell.execute_reply.started": "2022-08-01T18:17:23.166039Z",
     "shell.execute_reply": "2022-08-01T18:17:28.703859Z"
    },
    "trusted": true,
    "pycharm": {
     "name": "#%%\n"
    }
   },
   "execution_count": null,
   "outputs": []
  },
  {
   "cell_type": "code",
   "source": [
    "# Two Input Model\n",
    "\n",
    "def model ():\n",
    "    visible1 = Input(shape=(256,256,16))\n",
    "    \n",
    "    conv11 = Conv2D( filters=16, kernel_size=(5,5), activation=\"relu\")(visible1)\n",
    "    pool11 = MaxPool2D(pool_size=(2,2),strides=(2,2))(conv11)\n",
    "    \n",
    "    conv12 = Conv2D( filters=16, kernel_size=(5,5), activation=\"relu\")(pool11)\n",
    "    pool12 = MaxPool2D(pool_size=(2,2),strides=(2,2))(conv12)\n",
    "    \n",
    "    conv13 = Conv2D(filters=16, kernel_size=(5,5), activation='relu')(pool12)\n",
    "    pool13 = MaxPooling2D(pool_size=(2, 2),strides=(2,2))(conv13)\n",
    "    flat1 = Flatten()(pool13)\n",
    "    \n",
    "    return flat1, visible1\n",
    "model()\n",
    "\n",
    "# merge input models\n",
    "model_1, Visible_1 = model()\n",
    "model_2, Visible_2 = model()\n",
    "\n",
    "merge = concatenate([model_1, model_2])\n",
    "\n",
    "hidden1 = Dense(10, activation='relu')(merge)\n",
    "hidden2 = Dense(5, activation='relu')(hidden1)\n",
    "output = Dense(3, activation='sigmoid')(hidden2)\n",
    "model = Model(inputs=[Visible_1, Visible_2], outputs=output)\n",
    "\n",
    "print(model.summary())"
   ],
   "metadata": {
    "execution": {
     "iopub.status.busy": "2022-08-01T18:17:28.709623Z",
     "iopub.execute_input": "2022-08-01T18:17:28.709841Z",
     "iopub.status.idle": "2022-08-01T18:17:31.248823Z",
     "shell.execute_reply.started": "2022-08-01T18:17:28.709811Z",
     "shell.execute_reply": "2022-08-01T18:17:31.248124Z"
    },
    "trusted": true,
    "pycharm": {
     "name": "#%%\n"
    }
   },
   "execution_count": null,
   "outputs": []
  },
  {
   "cell_type": "code",
   "source": [
    "model.compile(loss=tensorflow.keras.losses.binary_crossentropy,\n",
    "              optimizer=tensorflow.keras.optimizers.SGD( learning_rate = 0.001, momentum = 0.9),metrics=[\"accuracy\"])\n",
    "\n",
    "# Give Class Weights to Balance Results\n",
    "class_weight = {0: 1.,\n",
    "                1: 50.,\n",
    "                2: 50.}\n",
    "\n",
    "model.fit(x = [np.array(coronal_images_train), np.array(sagittal_images_train)],\n",
    "          y = np.array(axial_labels_train),\n",
    "          epochs=5,\n",
    "          batch_size=32,\n",
    "          validation_split=0.20,\n",
    "          class_weight=class_weight)\n",
    "\n",
    "# model.save_weights('model_3_Input.h5')"
   ],
   "metadata": {
    "execution": {
     "iopub.status.busy": "2022-08-01T18:17:44.195045Z",
     "iopub.execute_input": "2022-08-01T18:17:44.19531Z",
     "iopub.status.idle": "2022-08-01T18:18:10.873209Z",
     "shell.execute_reply.started": "2022-08-01T18:17:44.19528Z",
     "shell.execute_reply": "2022-08-01T18:18:10.872365Z"
    },
    "trusted": true,
    "pycharm": {
     "name": "#%%\n"
    }
   },
   "execution_count": null,
   "outputs": []
  },
  {
   "cell_type": "code",
   "source": [
    "# from keras.utils.vis_utils import plot_model\n",
    "# plot_model(model, to_file='model_architecture.png', show_shapes=True, show_layer_names=True)\n"
   ],
   "metadata": {
    "trusted": true,
    "pycharm": {
     "name": "#%%\n"
    }
   },
   "execution_count": null,
   "outputs": []
  },
  {
   "cell_type": "code",
   "source": [
    "del coronal_images_train, sagittal_images_train"
   ],
   "metadata": {
    "execution": {
     "iopub.status.busy": "2022-08-01T18:18:14.735544Z",
     "iopub.execute_input": "2022-08-01T18:18:14.736088Z",
     "iopub.status.idle": "2022-08-01T18:18:14.865938Z",
     "shell.execute_reply.started": "2022-08-01T18:18:14.736053Z",
     "shell.execute_reply": "2022-08-01T18:18:14.865165Z"
    },
    "trusted": true,
    "pycharm": {
     "name": "#%%\n"
    }
   },
   "execution_count": null,
   "outputs": []
  },
  {
   "cell_type": "code",
   "source": [
    "axial_images_valid, coronal_images_valid, sagittal_images_valid, axial_labels_valid = read_data(valid_path, df_labels_valid)"
   ],
   "metadata": {
    "execution": {
     "iopub.status.busy": "2022-08-01T18:18:21.431923Z",
     "iopub.execute_input": "2022-08-01T18:18:21.432219Z",
     "iopub.status.idle": "2022-08-01T18:18:28.826244Z",
     "shell.execute_reply.started": "2022-08-01T18:18:21.432189Z",
     "shell.execute_reply": "2022-08-01T18:18:28.825522Z"
    },
    "trusted": true,
    "pycharm": {
     "name": "#%%\n"
    }
   },
   "execution_count": null,
   "outputs": []
  },
  {
   "cell_type": "code",
   "source": [
    "del axial_images_valid"
   ],
   "metadata": {
    "execution": {
     "iopub.status.busy": "2022-08-01T18:18:45.195226Z",
     "iopub.execute_input": "2022-08-01T18:18:45.195528Z",
     "iopub.status.idle": "2022-08-01T18:18:45.199871Z",
     "shell.execute_reply.started": "2022-08-01T18:18:45.195487Z",
     "shell.execute_reply": "2022-08-01T18:18:45.19905Z"
    },
    "trusted": true,
    "pycharm": {
     "name": "#%%\n"
    }
   },
   "execution_count": null,
   "outputs": []
  },
  {
   "cell_type": "markdown",
   "source": [
    "## Evaluate Model"
   ],
   "metadata": {
    "pycharm": {
     "name": "#%% md\n"
    }
   }
  },
  {
   "cell_type": "code",
   "source": [
    "y_pred = model.predict([ np.array(coronal_images_valid), np.array(sagittal_images_valid)])"
   ],
   "metadata": {
    "execution": {
     "iopub.status.busy": "2022-08-01T18:18:47.629973Z",
     "iopub.execute_input": "2022-08-01T18:18:47.630231Z",
     "iopub.status.idle": "2022-08-01T18:18:48.447761Z",
     "shell.execute_reply.started": "2022-08-01T18:18:47.630201Z",
     "shell.execute_reply": "2022-08-01T18:18:48.446982Z"
    },
    "trusted": true,
    "pycharm": {
     "name": "#%%\n"
    }
   },
   "execution_count": null,
   "outputs": []
  },
  {
   "cell_type": "code",
   "source": [
    "y_pred"
   ],
   "metadata": {
    "execution": {
     "iopub.status.busy": "2022-08-01T18:18:48.449631Z",
     "iopub.execute_input": "2022-08-01T18:18:48.449878Z",
     "iopub.status.idle": "2022-08-01T18:18:48.461336Z",
     "shell.execute_reply.started": "2022-08-01T18:18:48.449844Z",
     "shell.execute_reply": "2022-08-01T18:18:48.460532Z"
    },
    "trusted": true,
    "pycharm": {
     "name": "#%%\n"
    }
   },
   "execution_count": null,
   "outputs": []
  },
  {
   "cell_type": "code",
   "source": [
    "from sklearn.metrics import classification_report\n",
    "# \n",
    "print(classification_report(y_pred.round(), axial_labels_valid))"
   ],
   "metadata": {
    "execution": {
     "iopub.status.busy": "2022-08-01T18:18:48.51548Z",
     "iopub.execute_input": "2022-08-01T18:18:48.515707Z",
     "iopub.status.idle": "2022-08-01T18:18:48.700652Z",
     "shell.execute_reply.started": "2022-08-01T18:18:48.515679Z",
     "shell.execute_reply": "2022-08-01T18:18:48.699916Z"
    },
    "trusted": true,
    "pycharm": {
     "name": "#%%\n"
    }
   },
   "execution_count": null,
   "outputs": []
  },
  {
   "cell_type": "code",
   "source": [],
   "metadata": {
    "pycharm": {
     "name": "#%%\n"
    }
   },
   "execution_count": null,
   "outputs": []
  }
 ]
}