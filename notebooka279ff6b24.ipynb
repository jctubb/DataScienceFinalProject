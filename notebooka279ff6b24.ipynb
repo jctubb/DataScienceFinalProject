{
 "cells": [
  {
   "cell_type": "markdown",
   "metadata": {
    "pycharm": {
     "name": "#%% md\n"
    }
   },
   "source": [
    "## Import Libraries"
   ]
  },
  {
   "cell_type": "code",
   "execution_count": 1,
   "metadata": {
    "execution": {
     "iopub.execute_input": "2022-08-01T18:12:33.855305Z",
     "iopub.status.busy": "2022-08-01T18:12:33.854987Z",
     "iopub.status.idle": "2022-08-01T18:12:35.073506Z",
     "shell.execute_reply": "2022-08-01T18:12:35.072769Z",
     "shell.execute_reply.started": "2022-08-01T18:12:33.855223Z"
    },
    "pycharm": {
     "name": "#%%\n"
    },
    "trusted": true
   },
   "outputs": [],
   "source": [
    "import glob\n",
    "import os\n",
    "\n",
    "import pandas as pd\n",
    "import numpy as np\n",
    "from numpy import zeros, newaxis\n",
    "import cv2\n",
    "\n",
    "import matplotlib.pyplot as plt\n",
    "import seaborn\n",
    "import random\n",
    "\n",
    "random.seed(42)"
   ]
  },
  {
   "cell_type": "markdown",
   "metadata": {
    "pycharm": {
     "name": "#%% md\n"
    }
   },
   "source": [
    "## Read Data"
   ]
  },
  {
   "cell_type": "code",
   "execution_count": 2,
   "metadata": {
    "execution": {
     "iopub.execute_input": "2022-08-01T18:12:39.366043Z",
     "iopub.status.busy": "2022-08-01T18:12:39.365367Z",
     "iopub.status.idle": "2022-08-01T18:12:39.478716Z",
     "shell.execute_reply": "2022-08-01T18:12:39.477939Z",
     "shell.execute_reply.started": "2022-08-01T18:12:39.366006Z"
    },
    "pycharm": {
     "name": "#%%\n"
    },
    "trusted": true
   },
   "outputs": [],
   "source": [
    "axial_image = 'MRNet-v1.0/train/axial/0000.npy'\n",
    "coronal_image = 'MRNet-v1.0/train/coronal/0000.npy'\n",
    "saggital_image = 'MRNet-v1.0/train/sagittal/0000.npy'\n",
    "\n",
    "\n",
    "img_array_axial = np.load(axial_image)\n",
    "img_array_coronal = np.load(coronal_image)\n",
    "img_array_sagittal = np.load(saggital_image)"
   ]
  },
  {
   "cell_type": "code",
   "execution_count": 3,
   "metadata": {
    "execution": {
     "iopub.execute_input": "2022-08-01T18:12:44.018551Z",
     "iopub.status.busy": "2022-08-01T18:12:44.018272Z",
     "iopub.status.idle": "2022-08-01T18:12:44.022791Z",
     "shell.execute_reply": "2022-08-01T18:12:44.022063Z",
     "shell.execute_reply.started": "2022-08-01T18:12:44.018517Z"
    },
    "pycharm": {
     "name": "#%%\n"
    },
    "trusted": true
   },
   "outputs": [],
   "source": [
    "abnormal_path_train =  'MRNet-v1.0/train-abnormal.csv'\n",
    "acl_path_train = 'MRNet-v1.0/train-acl.csv'\n",
    "meniscus_train =  'MRNet-v1.0/train-meniscus.csv'\n",
    "\n",
    "\n",
    "abnormal_path_valid =  'MRNet-v1.0/valid-abnormal.csv'\n",
    "acl_path_valid = 'MRNet-v1.0/valid-acl.csv'\n",
    "meniscus_valid =  'MRNet-v1.0/valid-meniscus.csv'\n"
   ]
  },
  {
   "cell_type": "code",
   "execution_count": 4,
   "metadata": {
    "execution": {
     "iopub.execute_input": "2022-08-01T18:12:47.238631Z",
     "iopub.status.busy": "2022-08-01T18:12:47.238075Z",
     "iopub.status.idle": "2022-08-01T18:12:47.246725Z",
     "shell.execute_reply": "2022-08-01T18:12:47.245741Z",
     "shell.execute_reply.started": "2022-08-01T18:12:47.238595Z"
    },
    "pycharm": {
     "name": "#%%\n"
    },
    "trusted": true
   },
   "outputs": [],
   "source": [
    "def load_labels(abnormal_path, acl_path, meniscus_path):\n",
    "    \n",
    "    df_labels_abnormal =  pd.read_csv(abnormal_path, names=['Image_Name', 'Abnormal_Label'])\n",
    "    df_labels_acl = pd.read_csv(acl_path, names=['Image_Name', 'Acl_Label'])\n",
    "    df_labels_meniscus = pd.read_csv(meniscus_path, names=['Image_Name', 'Meniscus_Label'])\n",
    "    \n",
    "    df_lables_combined = pd.merge(df_labels_abnormal, df_labels_acl, how = 'left', left_on=['Image_Name'], right_on=['Image_Name'])\n",
    "    df_lables_combined = pd.merge(df_lables_combined, df_labels_meniscus, how = 'left', left_on=['Image_Name'], right_on=['Image_Name'])\n",
    "    df_lables_combined['Image_Name'] = df_lables_combined['Image_Name'].astype(str)\n",
    "    df_lables_combined['Image_Name'] = df_lables_combined['Image_Name'].apply(lambda x: x.zfill(4))\n",
    "    \n",
    "    return df_lables_combined"
   ]
  },
  {
   "cell_type": "code",
   "execution_count": 5,
   "metadata": {
    "execution": {
     "iopub.execute_input": "2022-08-01T18:12:50.034805Z",
     "iopub.status.busy": "2022-08-01T18:12:50.034263Z",
     "iopub.status.idle": "2022-08-01T18:12:50.090029Z",
     "shell.execute_reply": "2022-08-01T18:12:50.08935Z",
     "shell.execute_reply.started": "2022-08-01T18:12:50.03477Z"
    },
    "pycharm": {
     "name": "#%%\n"
    },
    "trusted": true
   },
   "outputs": [
    {
     "data": {
      "text/html": [
       "<div>\n",
       "<style scoped>\n",
       "    .dataframe tbody tr th:only-of-type {\n",
       "        vertical-align: middle;\n",
       "    }\n",
       "\n",
       "    .dataframe tbody tr th {\n",
       "        vertical-align: top;\n",
       "    }\n",
       "\n",
       "    .dataframe thead th {\n",
       "        text-align: right;\n",
       "    }\n",
       "</style>\n",
       "<table border=\"1\" class=\"dataframe\">\n",
       "  <thead>\n",
       "    <tr style=\"text-align: right;\">\n",
       "      <th></th>\n",
       "      <th>Image_Name</th>\n",
       "      <th>Abnormal_Label</th>\n",
       "      <th>Acl_Label</th>\n",
       "      <th>Meniscus_Label</th>\n",
       "    </tr>\n",
       "  </thead>\n",
       "  <tbody>\n",
       "    <tr>\n",
       "      <th>0</th>\n",
       "      <td>0000</td>\n",
       "      <td>1</td>\n",
       "      <td>0</td>\n",
       "      <td>0</td>\n",
       "    </tr>\n",
       "    <tr>\n",
       "      <th>1</th>\n",
       "      <td>0001</td>\n",
       "      <td>1</td>\n",
       "      <td>1</td>\n",
       "      <td>1</td>\n",
       "    </tr>\n",
       "    <tr>\n",
       "      <th>2</th>\n",
       "      <td>0002</td>\n",
       "      <td>1</td>\n",
       "      <td>0</td>\n",
       "      <td>0</td>\n",
       "    </tr>\n",
       "    <tr>\n",
       "      <th>3</th>\n",
       "      <td>0003</td>\n",
       "      <td>1</td>\n",
       "      <td>0</td>\n",
       "      <td>1</td>\n",
       "    </tr>\n",
       "    <tr>\n",
       "      <th>4</th>\n",
       "      <td>0004</td>\n",
       "      <td>1</td>\n",
       "      <td>0</td>\n",
       "      <td>0</td>\n",
       "    </tr>\n",
       "    <tr>\n",
       "      <th>...</th>\n",
       "      <td>...</td>\n",
       "      <td>...</td>\n",
       "      <td>...</td>\n",
       "      <td>...</td>\n",
       "    </tr>\n",
       "    <tr>\n",
       "      <th>1125</th>\n",
       "      <td>1125</td>\n",
       "      <td>1</td>\n",
       "      <td>0</td>\n",
       "      <td>1</td>\n",
       "    </tr>\n",
       "    <tr>\n",
       "      <th>1126</th>\n",
       "      <td>1126</td>\n",
       "      <td>1</td>\n",
       "      <td>0</td>\n",
       "      <td>1</td>\n",
       "    </tr>\n",
       "    <tr>\n",
       "      <th>1127</th>\n",
       "      <td>1127</td>\n",
       "      <td>0</td>\n",
       "      <td>0</td>\n",
       "      <td>0</td>\n",
       "    </tr>\n",
       "    <tr>\n",
       "      <th>1128</th>\n",
       "      <td>1128</td>\n",
       "      <td>1</td>\n",
       "      <td>0</td>\n",
       "      <td>0</td>\n",
       "    </tr>\n",
       "    <tr>\n",
       "      <th>1129</th>\n",
       "      <td>1129</td>\n",
       "      <td>1</td>\n",
       "      <td>1</td>\n",
       "      <td>0</td>\n",
       "    </tr>\n",
       "  </tbody>\n",
       "</table>\n",
       "<p>1130 rows × 4 columns</p>\n",
       "</div>"
      ],
      "text/plain": [
       "     Image_Name  Abnormal_Label  Acl_Label  Meniscus_Label\n",
       "0          0000               1          0               0\n",
       "1          0001               1          1               1\n",
       "2          0002               1          0               0\n",
       "3          0003               1          0               1\n",
       "4          0004               1          0               0\n",
       "...         ...             ...        ...             ...\n",
       "1125       1125               1          0               1\n",
       "1126       1126               1          0               1\n",
       "1127       1127               0          0               0\n",
       "1128       1128               1          0               0\n",
       "1129       1129               1          1               0\n",
       "\n",
       "[1130 rows x 4 columns]"
      ]
     },
     "execution_count": 5,
     "metadata": {},
     "output_type": "execute_result"
    }
   ],
   "source": [
    "# Load Train Labels\n",
    "df_labels_train = load_labels(abnormal_path_train, acl_path_train, meniscus_train)\n",
    "df_labels_train"
   ]
  },
  {
   "cell_type": "code",
   "execution_count": 6,
   "metadata": {
    "execution": {
     "iopub.execute_input": "2022-08-01T18:12:50.382897Z",
     "iopub.status.busy": "2022-08-01T18:12:50.382436Z",
     "iopub.status.idle": "2022-08-01T18:12:50.414066Z",
     "shell.execute_reply": "2022-08-01T18:12:50.413384Z",
     "shell.execute_reply.started": "2022-08-01T18:12:50.382861Z"
    },
    "pycharm": {
     "name": "#%%\n"
    },
    "trusted": true
   },
   "outputs": [
    {
     "data": {
      "text/html": [
       "<div>\n",
       "<style scoped>\n",
       "    .dataframe tbody tr th:only-of-type {\n",
       "        vertical-align: middle;\n",
       "    }\n",
       "\n",
       "    .dataframe tbody tr th {\n",
       "        vertical-align: top;\n",
       "    }\n",
       "\n",
       "    .dataframe thead th {\n",
       "        text-align: right;\n",
       "    }\n",
       "</style>\n",
       "<table border=\"1\" class=\"dataframe\">\n",
       "  <thead>\n",
       "    <tr style=\"text-align: right;\">\n",
       "      <th></th>\n",
       "      <th>Image_Name</th>\n",
       "      <th>Abnormal_Label</th>\n",
       "      <th>Acl_Label</th>\n",
       "      <th>Meniscus_Label</th>\n",
       "    </tr>\n",
       "  </thead>\n",
       "  <tbody>\n",
       "    <tr>\n",
       "      <th>0</th>\n",
       "      <td>1130</td>\n",
       "      <td>0</td>\n",
       "      <td>0</td>\n",
       "      <td>0</td>\n",
       "    </tr>\n",
       "    <tr>\n",
       "      <th>1</th>\n",
       "      <td>1131</td>\n",
       "      <td>0</td>\n",
       "      <td>0</td>\n",
       "      <td>0</td>\n",
       "    </tr>\n",
       "    <tr>\n",
       "      <th>2</th>\n",
       "      <td>1132</td>\n",
       "      <td>0</td>\n",
       "      <td>0</td>\n",
       "      <td>0</td>\n",
       "    </tr>\n",
       "    <tr>\n",
       "      <th>3</th>\n",
       "      <td>1133</td>\n",
       "      <td>0</td>\n",
       "      <td>0</td>\n",
       "      <td>0</td>\n",
       "    </tr>\n",
       "    <tr>\n",
       "      <th>4</th>\n",
       "      <td>1134</td>\n",
       "      <td>0</td>\n",
       "      <td>0</td>\n",
       "      <td>0</td>\n",
       "    </tr>\n",
       "    <tr>\n",
       "      <th>...</th>\n",
       "      <td>...</td>\n",
       "      <td>...</td>\n",
       "      <td>...</td>\n",
       "      <td>...</td>\n",
       "    </tr>\n",
       "    <tr>\n",
       "      <th>115</th>\n",
       "      <td>1245</td>\n",
       "      <td>1</td>\n",
       "      <td>1</td>\n",
       "      <td>1</td>\n",
       "    </tr>\n",
       "    <tr>\n",
       "      <th>116</th>\n",
       "      <td>1246</td>\n",
       "      <td>1</td>\n",
       "      <td>1</td>\n",
       "      <td>1</td>\n",
       "    </tr>\n",
       "    <tr>\n",
       "      <th>117</th>\n",
       "      <td>1247</td>\n",
       "      <td>1</td>\n",
       "      <td>0</td>\n",
       "      <td>1</td>\n",
       "    </tr>\n",
       "    <tr>\n",
       "      <th>118</th>\n",
       "      <td>1248</td>\n",
       "      <td>1</td>\n",
       "      <td>1</td>\n",
       "      <td>1</td>\n",
       "    </tr>\n",
       "    <tr>\n",
       "      <th>119</th>\n",
       "      <td>1249</td>\n",
       "      <td>1</td>\n",
       "      <td>0</td>\n",
       "      <td>1</td>\n",
       "    </tr>\n",
       "  </tbody>\n",
       "</table>\n",
       "<p>120 rows × 4 columns</p>\n",
       "</div>"
      ],
      "text/plain": [
       "    Image_Name  Abnormal_Label  Acl_Label  Meniscus_Label\n",
       "0         1130               0          0               0\n",
       "1         1131               0          0               0\n",
       "2         1132               0          0               0\n",
       "3         1133               0          0               0\n",
       "4         1134               0          0               0\n",
       "..         ...             ...        ...             ...\n",
       "115       1245               1          1               1\n",
       "116       1246               1          1               1\n",
       "117       1247               1          0               1\n",
       "118       1248               1          1               1\n",
       "119       1249               1          0               1\n",
       "\n",
       "[120 rows x 4 columns]"
      ]
     },
     "execution_count": 6,
     "metadata": {},
     "output_type": "execute_result"
    }
   ],
   "source": [
    "# Load Valid Labels\n",
    "df_labels_valid = load_labels(abnormal_path_valid, acl_path_valid, meniscus_valid)\n",
    "df_labels_valid"
   ]
  },
  {
   "cell_type": "code",
   "execution_count": 7,
   "metadata": {
    "execution": {
     "iopub.execute_input": "2022-08-01T18:12:53.82328Z",
     "iopub.status.busy": "2022-08-01T18:12:53.822763Z",
     "iopub.status.idle": "2022-08-01T18:12:53.832668Z",
     "shell.execute_reply": "2022-08-01T18:12:53.831847Z",
     "shell.execute_reply.started": "2022-08-01T18:12:53.823245Z"
    },
    "pycharm": {
     "name": "#%%\n"
    },
    "trusted": true
   },
   "outputs": [
    {
     "data": {
      "text/plain": [
       "['MRNet-v1.0\\\\train',\n",
       " 'MRNet-v1.0\\\\train-abnormal.csv',\n",
       " 'MRNet-v1.0\\\\train-acl.csv',\n",
       " 'MRNet-v1.0\\\\train-meniscus.csv',\n",
       " 'MRNet-v1.0\\\\valid',\n",
       " 'MRNet-v1.0\\\\valid-abnormal.csv',\n",
       " 'MRNet-v1.0\\\\valid-acl.csv',\n",
       " 'MRNet-v1.0\\\\valid-meniscus.csv']"
      ]
     },
     "execution_count": 7,
     "metadata": {},
     "output_type": "execute_result"
    }
   ],
   "source": [
    "glob.glob('MRNet-v1.0\\*')"
   ]
  },
  {
   "cell_type": "code",
   "execution_count": 8,
   "metadata": {
    "execution": {
     "iopub.execute_input": "2022-08-01T18:15:13.958225Z",
     "iopub.status.busy": "2022-08-01T18:15:13.957679Z",
     "iopub.status.idle": "2022-08-01T18:15:13.970992Z",
     "shell.execute_reply": "2022-08-01T18:15:13.970307Z",
     "shell.execute_reply.started": "2022-08-01T18:15:13.958189Z"
    },
    "pycharm": {
     "name": "#%%\n"
    },
    "trusted": true
   },
   "outputs": [
    {
     "name": "stdout",
     "output_type": "stream",
     "text": [
      "Total samples in data: 1130\n",
      "Loading Data From :    MRNet-v1.0\\train\\axial\n",
      "Loading Complete From :    MRNet-v1.0\\train\\axial\n",
      "\n",
      "\n",
      "\n",
      "Total samples in data: 1130\n",
      "Loading Data From :    MRNet-v1.0\\train\\coronal\n",
      "Loading Complete From :    MRNet-v1.0\\train\\coronal\n",
      "\n",
      "\n",
      "\n",
      "Total samples in data: 1130\n",
      "Loading Data From :    MRNet-v1.0\\train\\sagittal\n",
      "Loading Complete From :    MRNet-v1.0\\train\\sagittal\n",
      "\n",
      "\n",
      "\n"
     ]
    }
   ],
   "source": [
    "# Read Traning Data\n",
    "def read_data(train_path, df_labels):\n",
    "    axial_images = []\n",
    "    coronal_images = []\n",
    "    sagittal_images = []\n",
    "\n",
    "    axial_labels = []\n",
    "    coronal_labels = []\n",
    "    sagittal_labels = []\n",
    "\n",
    "    # train_path = '/kaggle/input/mrnet-v1/MRNet-v1.0/train'\n",
    "    train_folders = glob.glob(train_path + '/*')\n",
    "    \n",
    "    for folder in train_folders:\n",
    "        train_data = glob.glob(folder + '/*.npy')\n",
    "        print('Total samples in data:', len(train_data))\n",
    "        print('Loading Data From :   ', folder)\n",
    "        \n",
    "        for i in train_data:\n",
    "#             print(i)\n",
    "            img_array = np.load(i)\n",
    "            start, end = (img_array.shape[0]/2)-8, (img_array.shape[0]/2)+8\n",
    "            image_tensor = img_array[int(start):int(end),:,:].reshape(256,256,16)\n",
    "            if 'axial' in i:\n",
    "                axial_images.append(image_tensor)\n",
    "                image_name = i.rsplit('\\\\')[-1].split('.')[0]\n",
    "                axial_labels.append(df_labels[df_labels['Image_Name']==image_name].iloc[:, 1:].values[0])\n",
    "            if 'coronal' in i:\n",
    "                coronal_images.append(image_tensor)\n",
    "                image_name = i.rsplit('\\\\')[-1].split('.')[0]\n",
    "                coronal_labels.append(df_labels[df_labels['Image_Name']==image_name].iloc[:, 1:].values[0])   \n",
    "            if 'sagittal' in i:\n",
    "                sagittal_images.append(image_tensor)\n",
    "                image_name = i.rsplit('\\\\')[-1].split('.')[0]\n",
    "                sagittal_labels.append(df_labels[df_labels['Image_Name']==image_name].iloc[:, 1:].values[0])\n",
    "\n",
    "        print('Loading Complete From :   ', folder)\n",
    "        print('\\n\\n')\n",
    "    return axial_images, coronal_images, sagittal_images, axial_labels\n",
    "\n",
    "train_path =  'MRNet-v1.0\\\\train'\n",
    "valid_path =  'MRNet-v1.0\\\\valid'\n",
    "\n",
    "axial_images_train, coronal_images_train, sagittal_images_train, axial_labels_train = read_data(train_path, df_labels_train)"
   ]
  },
  {
   "cell_type": "code",
   "execution_count": 9,
   "metadata": {
    "execution": {
     "iopub.execute_input": "2022-08-01T18:16:41.70741Z",
     "iopub.status.busy": "2022-08-01T18:16:41.706274Z",
     "iopub.status.idle": "2022-08-01T18:16:42.241847Z",
     "shell.execute_reply": "2022-08-01T18:16:42.241129Z",
     "shell.execute_reply.started": "2022-08-01T18:16:41.707373Z"
    },
    "pycharm": {
     "name": "#%%\n"
    },
    "trusted": true
   },
   "outputs": [
    {
     "name": "stdout",
     "output_type": "stream",
     "text": [
      "(1130, 256, 256, 16)\n",
      "(1130, 256, 256, 16)\n",
      "(1130, 3)\n"
     ]
    }
   ],
   "source": [
    "# print(np.array(axial_images_train).shape)\n",
    "print(np.array(coronal_images_train).shape)\n",
    "print(np.array(sagittal_images_train).shape)\n",
    "print(np.array(axial_labels_train).shape)"
   ]
  },
  {
   "cell_type": "markdown",
   "metadata": {
    "pycharm": {
     "name": "#%% md\n"
    }
   },
   "source": [
    "## Modeling"
   ]
  },
  {
   "cell_type": "code",
   "execution_count": 10,
   "metadata": {
    "execution": {
     "iopub.execute_input": "2022-08-01T18:17:23.16607Z",
     "iopub.status.busy": "2022-08-01T18:17:23.1658Z",
     "iopub.status.idle": "2022-08-01T18:17:28.705067Z",
     "shell.execute_reply": "2022-08-01T18:17:28.703859Z",
     "shell.execute_reply.started": "2022-08-01T18:17:23.166039Z"
    },
    "pycharm": {
     "name": "#%%\n"
    },
    "trusted": true
   },
   "outputs": [],
   "source": [
    "from __future__ import print_function\n",
    "import tensorflow.keras\n",
    "from tensorflow.keras.models import Model, Sequential\n",
    "from tensorflow.keras.optimizers import *\n",
    "from tensorflow.keras.layers import *\n",
    "from tensorflow.keras.activations import *\n",
    "from tensorflow.keras.callbacks import *\n",
    "from tensorflow.keras.preprocessing.image import ImageDataGenerator\n",
    "from tensorflow.keras.regularizers import l2\n",
    "from tensorflow.keras import backend as K\n"
   ]
  },
  {
   "cell_type": "code",
   "execution_count": 11,
   "metadata": {
    "execution": {
     "iopub.execute_input": "2022-08-01T18:17:28.709841Z",
     "iopub.status.busy": "2022-08-01T18:17:28.709623Z",
     "iopub.status.idle": "2022-08-01T18:17:31.248823Z",
     "shell.execute_reply": "2022-08-01T18:17:31.248124Z",
     "shell.execute_reply.started": "2022-08-01T18:17:28.709811Z"
    },
    "pycharm": {
     "name": "#%%\n"
    },
    "trusted": true
   },
   "outputs": [
    {
     "name": "stdout",
     "output_type": "stream",
     "text": [
      "Model: \"model\"\n",
      "__________________________________________________________________________________________________\n",
      " Layer (type)                   Output Shape         Param #     Connected to                     \n",
      "==================================================================================================\n",
      " input_2 (InputLayer)           [(None, 256, 256, 1  0           []                               \n",
      "                                6)]                                                               \n",
      "                                                                                                  \n",
      " input_3 (InputLayer)           [(None, 256, 256, 1  0           []                               \n",
      "                                6)]                                                               \n",
      "                                                                                                  \n",
      " conv2d_3 (Conv2D)              (None, 252, 252, 16  6416        ['input_2[0][0]']                \n",
      "                                )                                                                 \n",
      "                                                                                                  \n",
      " conv2d_6 (Conv2D)              (None, 252, 252, 16  6416        ['input_3[0][0]']                \n",
      "                                )                                                                 \n",
      "                                                                                                  \n",
      " max_pooling2d_3 (MaxPooling2D)  (None, 126, 126, 16  0          ['conv2d_3[0][0]']               \n",
      "                                )                                                                 \n",
      "                                                                                                  \n",
      " max_pooling2d_6 (MaxPooling2D)  (None, 126, 126, 16  0          ['conv2d_6[0][0]']               \n",
      "                                )                                                                 \n",
      "                                                                                                  \n",
      " conv2d_4 (Conv2D)              (None, 122, 122, 16  6416        ['max_pooling2d_3[0][0]']        \n",
      "                                )                                                                 \n",
      "                                                                                                  \n",
      " conv2d_7 (Conv2D)              (None, 122, 122, 16  6416        ['max_pooling2d_6[0][0]']        \n",
      "                                )                                                                 \n",
      "                                                                                                  \n",
      " max_pooling2d_4 (MaxPooling2D)  (None, 61, 61, 16)  0           ['conv2d_4[0][0]']               \n",
      "                                                                                                  \n",
      " max_pooling2d_7 (MaxPooling2D)  (None, 61, 61, 16)  0           ['conv2d_7[0][0]']               \n",
      "                                                                                                  \n",
      " conv2d_5 (Conv2D)              (None, 57, 57, 16)   6416        ['max_pooling2d_4[0][0]']        \n",
      "                                                                                                  \n",
      " conv2d_8 (Conv2D)              (None, 57, 57, 16)   6416        ['max_pooling2d_7[0][0]']        \n",
      "                                                                                                  \n",
      " max_pooling2d_5 (MaxPooling2D)  (None, 28, 28, 16)  0           ['conv2d_5[0][0]']               \n",
      "                                                                                                  \n",
      " max_pooling2d_8 (MaxPooling2D)  (None, 28, 28, 16)  0           ['conv2d_8[0][0]']               \n",
      "                                                                                                  \n",
      " flatten_1 (Flatten)            (None, 12544)        0           ['max_pooling2d_5[0][0]']        \n",
      "                                                                                                  \n",
      " flatten_2 (Flatten)            (None, 12544)        0           ['max_pooling2d_8[0][0]']        \n",
      "                                                                                                  \n",
      " concatenate (Concatenate)      (None, 25088)        0           ['flatten_1[0][0]',              \n",
      "                                                                  'flatten_2[0][0]']              \n",
      "                                                                                                  \n",
      " dense (Dense)                  (None, 10)           250890      ['concatenate[0][0]']            \n",
      "                                                                                                  \n",
      " dense_1 (Dense)                (None, 5)            55          ['dense[0][0]']                  \n",
      "                                                                                                  \n",
      " input_4 (InputLayer)           [(None, 256, 256, 1  0           []                               \n",
      "                                6)]                                                               \n",
      "                                                                                                  \n",
      " dense_2 (Dense)                (None, 3)            18          ['dense_1[0][0]']                \n",
      "                                                                                                  \n",
      "==================================================================================================\n",
      "Total params: 289,459\n",
      "Trainable params: 289,459\n",
      "Non-trainable params: 0\n",
      "__________________________________________________________________________________________________\n",
      "None\n"
     ]
    }
   ],
   "source": [
    "# Two Input Model\n",
    "\n",
    "def model ():\n",
    "    visible1 = Input(shape=(256,256,16))\n",
    "    \n",
    "    conv11 = Conv2D( filters=16, kernel_size=(5,5), activation=\"relu\")(visible1)\n",
    "    pool11 = MaxPool2D(pool_size=(2,2),strides=(2,2))(conv11)\n",
    "    \n",
    "    conv12 = Conv2D( filters=16, kernel_size=(5,5), activation=\"relu\")(pool11)\n",
    "    pool12 = MaxPool2D(pool_size=(2,2),strides=(2,2))(conv12)\n",
    "    \n",
    "    conv13 = Conv2D(filters=16, kernel_size=(5,5), activation='relu')(pool12)\n",
    "    pool13 = MaxPooling2D(pool_size=(2, 2),strides=(2,2))(conv13)\n",
    "    flat1 = Flatten()(pool13)\n",
    "    \n",
    "    return flat1, visible1\n",
    "model()\n",
    "\n",
    "# merge input models\n",
    "model_1, Visible_1 = model()\n",
    "model_2, Visible_2 = model()\n",
    "model_3, Visible_3 = model()\n",
    "\n",
    "merge = concatenate([model_1, model_2])\n",
    "\n",
    "hidden1 = Dense(10, activation='relu')(merge)\n",
    "hidden2 = Dense(5, activation='relu')(hidden1)\n",
    "output = Dense(3, activation='sigmoid')(hidden2)\n",
    "model = Model(inputs=[Visible_1, Visible_2, Visible_3], outputs=output)\n",
    "\n",
    "print(model.summary())"
   ]
  },
  {
   "cell_type": "code",
   "execution_count": 12,
   "metadata": {
    "execution": {
     "iopub.execute_input": "2022-08-01T18:17:44.19531Z",
     "iopub.status.busy": "2022-08-01T18:17:44.195045Z",
     "iopub.status.idle": "2022-08-01T18:18:10.873209Z",
     "shell.execute_reply": "2022-08-01T18:18:10.872365Z",
     "shell.execute_reply.started": "2022-08-01T18:17:44.19528Z"
    },
    "pycharm": {
     "name": "#%%\n"
    },
    "trusted": true
   },
   "outputs": [
    {
     "name": "stdout",
     "output_type": "stream",
     "text": [
      "Epoch 1/3\n",
      "29/29 [==============================] - 63s 2s/step - loss: 6.2547 - binary_accuracy: 0.4310 - val_loss: 1.1666 - val_binary_accuracy: 0.5472\n",
      "Epoch 2/3\n",
      "29/29 [==============================] - 59s 2s/step - loss: 0.8960 - binary_accuracy: 0.6062 - val_loss: 0.8181 - val_binary_accuracy: 0.6165\n",
      "Epoch 3/3\n",
      "29/29 [==============================] - 58s 2s/step - loss: 0.7749 - binary_accuracy: 0.6375 - val_loss: 0.7823 - val_binary_accuracy: 0.6357\n"
     ]
    },
    {
     "data": {
      "text/plain": [
       "<keras.callbacks.History at 0x1cf6e94aad0>"
      ]
     },
     "execution_count": 12,
     "metadata": {},
     "output_type": "execute_result"
    }
   ],
   "source": [
    "lr = 0.0000001\n",
    "momentum = 0.8\n",
    "\n",
    "model.compile(loss=tensorflow.keras.losses.binary_crossentropy,\n",
    "              optimizer=tensorflow.keras.optimizers.SGD( learning_rate = lr, momentum = momentum),metrics=[\"binary_accuracy\"])\n",
    "\n",
    "\n",
    "model.fit(x = [np.array(coronal_images_train), np.array(sagittal_images_train), np.array(axial_images_train)],\n",
    "          y = np.array(axial_labels_train),\n",
    "          epochs=3,\n",
    "          batch_size=32,\n",
    "          validation_split=0.20)\n"
   ]
  },
  {
   "cell_type": "code",
   "execution_count": 13,
   "metadata": {},
   "outputs": [
    {
     "name": "stdout",
     "output_type": "stream",
     "text": [
      "[name: \"/device:CPU:0\"\n",
      "device_type: \"CPU\"\n",
      "memory_limit: 268435456\n",
      "locality {\n",
      "}\n",
      "incarnation: 11538599099816661744\n",
      "xla_global_id: -1\n",
      "]\n"
     ]
    }
   ],
   "source": [
    "from tensorflow.python.client import device_lib\n",
    "print(device_lib.list_local_devices())"
   ]
  },
  {
   "cell_type": "code",
   "execution_count": 14,
   "metadata": {
    "pycharm": {
     "name": "#%%\n"
    },
    "trusted": true
   },
   "outputs": [
    {
     "name": "stdout",
     "output_type": "stream",
     "text": [
      "You must install pydot (`pip install pydot`) and install graphviz (see instructions at https://graphviz.gitlab.io/download/) for plot_model to work.\n"
     ]
    }
   ],
   "source": [
    "from keras.utils.vis_utils import plot_model\n",
    "plot_model(model, to_file='model_architecture.png', show_shapes=True, show_layer_names=True)\n"
   ]
  },
  {
   "cell_type": "code",
   "execution_count": 15,
   "metadata": {
    "execution": {
     "iopub.execute_input": "2022-08-01T18:18:21.432219Z",
     "iopub.status.busy": "2022-08-01T18:18:21.431923Z",
     "iopub.status.idle": "2022-08-01T18:18:28.826244Z",
     "shell.execute_reply": "2022-08-01T18:18:28.825522Z",
     "shell.execute_reply.started": "2022-08-01T18:18:21.432189Z"
    },
    "pycharm": {
     "name": "#%%\n"
    },
    "trusted": true
   },
   "outputs": [
    {
     "name": "stdout",
     "output_type": "stream",
     "text": [
      "Total samples in data: 120\n",
      "Loading Data From :    MRNet-v1.0\\valid\\axial\n",
      "Loading Complete From :    MRNet-v1.0\\valid\\axial\n",
      "\n",
      "\n",
      "\n",
      "Total samples in data: 120\n",
      "Loading Data From :    MRNet-v1.0\\valid\\coronal\n",
      "Loading Complete From :    MRNet-v1.0\\valid\\coronal\n",
      "\n",
      "\n",
      "\n",
      "Total samples in data: 120\n",
      "Loading Data From :    MRNet-v1.0\\valid\\sagittal\n",
      "Loading Complete From :    MRNet-v1.0\\valid\\sagittal\n",
      "\n",
      "\n",
      "\n"
     ]
    }
   ],
   "source": [
    "axial_images_valid, coronal_images_valid, sagittal_images_valid, axial_labels_valid = read_data(valid_path, df_labels_valid)"
   ]
  },
  {
   "cell_type": "markdown",
   "metadata": {
    "pycharm": {
     "name": "#%% md\n"
    }
   },
   "source": [
    "## Evaluate Model"
   ]
  },
  {
   "cell_type": "code",
   "execution_count": 16,
   "metadata": {
    "execution": {
     "iopub.execute_input": "2022-08-01T18:18:47.630231Z",
     "iopub.status.busy": "2022-08-01T18:18:47.629973Z",
     "iopub.status.idle": "2022-08-01T18:18:48.447761Z",
     "shell.execute_reply": "2022-08-01T18:18:48.446982Z",
     "shell.execute_reply.started": "2022-08-01T18:18:47.630201Z"
    },
    "pycharm": {
     "name": "#%%\n"
    },
    "trusted": true
   },
   "outputs": [
    {
     "name": "stdout",
     "output_type": "stream",
     "text": [
      "4/4 [==============================] - 1s 293ms/step\n"
     ]
    }
   ],
   "source": [
    "y_pred = model.predict([ np.array(coronal_images_valid), np.array(sagittal_images_valid), np.array(axial_images_valid)])"
   ]
  },
  {
   "cell_type": "code",
   "execution_count": 17,
   "metadata": {
    "execution": {
     "iopub.execute_input": "2022-08-01T18:18:48.449878Z",
     "iopub.status.busy": "2022-08-01T18:18:48.449631Z",
     "iopub.status.idle": "2022-08-01T18:18:48.461336Z",
     "shell.execute_reply": "2022-08-01T18:18:48.460532Z",
     "shell.execute_reply.started": "2022-08-01T18:18:48.449844Z"
    },
    "pycharm": {
     "name": "#%%\n"
    },
    "trusted": true
   },
   "outputs": [
    {
     "data": {
      "text/plain": [
       "array([[3.1843626e-01, 6.7356402e-01, 9.3699372e-01],\n",
       "       [5.0000173e-01, 4.9999872e-01, 5.0000030e-01],\n",
       "       [2.0412137e-01, 9.9684346e-01, 4.4159882e-04],\n",
       "       [5.0000173e-01, 4.9999872e-01, 5.0000030e-01],\n",
       "       [5.0000173e-01, 4.9999872e-01, 5.0000030e-01],\n",
       "       [5.0000173e-01, 4.9999872e-01, 5.0000030e-01],\n",
       "       [7.6296113e-02, 2.1758370e-01, 2.6765238e-02],\n",
       "       [5.0000173e-01, 4.9999872e-01, 5.0000030e-01],\n",
       "       [5.0000173e-01, 4.9999872e-01, 5.0000030e-01],\n",
       "       [5.0000173e-01, 4.9999872e-01, 5.0000030e-01],\n",
       "       [3.2502669e-01, 4.0282407e-01, 2.6563194e-01],\n",
       "       [5.0000173e-01, 4.9999872e-01, 5.0000030e-01],\n",
       "       [2.3873854e-01, 3.4870145e-01, 1.6608246e-01],\n",
       "       [5.0000173e-01, 4.9999872e-01, 5.0000030e-01],\n",
       "       [3.5950777e-01, 4.2283648e-01, 3.0925071e-01],\n",
       "       [5.0000173e-01, 4.9999872e-01, 5.0000030e-01],\n",
       "       [5.0000173e-01, 4.9999872e-01, 5.0000030e-01],\n",
       "       [4.9173680e-01, 4.9554560e-01, 4.8850048e-01],\n",
       "       [5.0000173e-01, 4.9999872e-01, 5.0000030e-01],\n",
       "       [4.1454649e-01, 4.5363659e-01, 3.8216472e-01],\n",
       "       [3.6656621e-01, 9.0998167e-01, 4.2896256e-02],\n",
       "       [5.0000173e-01, 4.9999872e-01, 5.0000030e-01],\n",
       "       [5.0000173e-01, 4.9999872e-01, 5.0000030e-01],\n",
       "       [5.0000173e-01, 4.9999872e-01, 5.0000030e-01],\n",
       "       [5.0000173e-01, 4.9999872e-01, 5.0000030e-01],\n",
       "       [5.0000173e-01, 4.9999872e-01, 5.0000030e-01],\n",
       "       [5.0000173e-01, 4.9999872e-01, 5.0000030e-01],\n",
       "       [1.4887720e-01, 2.8104365e-01, 8.1206307e-02],\n",
       "       [5.0000173e-01, 4.9999872e-01, 5.0000030e-01],\n",
       "       [5.0000173e-01, 4.9999872e-01, 5.0000030e-01],\n",
       "       [5.0000173e-01, 4.9999872e-01, 5.0000030e-01],\n",
       "       [5.0000173e-01, 4.9999872e-01, 5.0000030e-01],\n",
       "       [3.5656665e-02, 1.4472906e-01, 1.0064444e-02],\n",
       "       [4.4344729e-01, 4.6943694e-01, 4.2161620e-01],\n",
       "       [5.0000173e-01, 4.9999872e-01, 5.0000030e-01],\n",
       "       [5.0000173e-01, 4.9999872e-01, 5.0000030e-01],\n",
       "       [5.0000173e-01, 4.9999872e-01, 5.0000030e-01],\n",
       "       [5.0000173e-01, 4.9999872e-01, 5.0000030e-01],\n",
       "       [5.0000173e-01, 4.9999872e-01, 5.0000030e-01],\n",
       "       [5.0000173e-01, 4.9999872e-01, 5.0000030e-01],\n",
       "       [5.0000173e-01, 4.9999872e-01, 5.0000030e-01],\n",
       "       [5.0000173e-01, 4.9999872e-01, 5.0000030e-01],\n",
       "       [5.0000173e-01, 4.9999872e-01, 5.0000030e-01],\n",
       "       [5.0000173e-01, 4.9999872e-01, 5.0000030e-01],\n",
       "       [5.0000173e-01, 4.9999872e-01, 5.0000030e-01],\n",
       "       [5.0000173e-01, 4.9999872e-01, 5.0000030e-01],\n",
       "       [5.0000173e-01, 4.9999872e-01, 5.0000030e-01],\n",
       "       [5.0000173e-01, 4.9999872e-01, 5.0000030e-01],\n",
       "       [2.8926021e-01, 3.8122839e-01, 2.2253136e-01],\n",
       "       [5.0000173e-01, 4.9999872e-01, 5.0000030e-01],\n",
       "       [4.0016213e-01, 4.4569233e-01, 3.6278674e-01],\n",
       "       [5.0000173e-01, 4.9999872e-01, 5.0000030e-01],\n",
       "       [5.0000173e-01, 4.9999872e-01, 5.0000030e-01],\n",
       "       [5.0000173e-01, 4.9999872e-01, 5.0000030e-01],\n",
       "       [5.0000173e-01, 4.9999872e-01, 5.0000030e-01],\n",
       "       [4.7687978e-01, 4.8753530e-01, 4.6784681e-01],\n",
       "       [4.7077289e-01, 6.2129444e-01, 3.3973652e-01],\n",
       "       [5.0000173e-01, 4.9999872e-01, 5.0000030e-01],\n",
       "       [5.0000173e-01, 4.9999872e-01, 5.0000030e-01],\n",
       "       [4.4755203e-01, 4.7166723e-01, 4.2726475e-01],\n",
       "       [5.0000173e-01, 4.9999872e-01, 5.0000030e-01],\n",
       "       [5.0000173e-01, 4.9999872e-01, 5.0000030e-01],\n",
       "       [1.4640835e-01, 7.0130217e-01, 2.5095420e-03],\n",
       "       [5.0000173e-01, 4.9999872e-01, 5.0000030e-01],\n",
       "       [5.0000173e-01, 4.9999872e-01, 5.0000030e-01],\n",
       "       [2.5727606e-01, 3.6096412e-01, 1.8614069e-01],\n",
       "       [5.0000173e-01, 4.9999872e-01, 5.0000030e-01],\n",
       "       [5.0000173e-01, 4.9999872e-01, 5.0000030e-01],\n",
       "       [5.0000173e-01, 4.9999872e-01, 5.0000030e-01],\n",
       "       [5.0000173e-01, 4.9999872e-01, 5.0000030e-01],\n",
       "       [5.0000173e-01, 4.9999872e-01, 5.0000030e-01],\n",
       "       [5.0000173e-01, 4.9999872e-01, 5.0000030e-01],\n",
       "       [5.0000173e-01, 4.9999872e-01, 5.0000030e-01],\n",
       "       [5.0000173e-01, 4.9999872e-01, 5.0000030e-01],\n",
       "       [5.0000173e-01, 4.9999872e-01, 5.0000030e-01],\n",
       "       [3.6806673e-01, 6.6475362e-01, 1.6726997e-01],\n",
       "       [5.0000173e-01, 4.9999872e-01, 5.0000030e-01],\n",
       "       [5.0000173e-01, 4.9999872e-01, 5.0000030e-01],\n",
       "       [5.0000173e-01, 4.9999872e-01, 5.0000030e-01],\n",
       "       [5.0000173e-01, 4.9999872e-01, 5.0000030e-01],\n",
       "       [5.0000173e-01, 4.9999872e-01, 5.0000030e-01],\n",
       "       [5.0000173e-01, 4.9999872e-01, 5.0000030e-01],\n",
       "       [5.0000173e-01, 4.9999872e-01, 5.0000030e-01],\n",
       "       [5.0000173e-01, 4.9999872e-01, 5.0000030e-01],\n",
       "       [5.0000173e-01, 4.9999872e-01, 5.0000030e-01],\n",
       "       [5.0000173e-01, 4.9999872e-01, 5.0000030e-01],\n",
       "       [5.0000173e-01, 4.9999872e-01, 5.0000030e-01],\n",
       "       [5.0000173e-01, 4.9999872e-01, 5.0000030e-01],\n",
       "       [5.0000173e-01, 4.9999872e-01, 5.0000030e-01],\n",
       "       [5.0000173e-01, 4.9999872e-01, 5.0000030e-01],\n",
       "       [5.0000173e-01, 4.9999872e-01, 5.0000030e-01],\n",
       "       [5.0000173e-01, 4.9999872e-01, 5.0000030e-01],\n",
       "       [2.0027015e-01, 3.2169983e-01, 1.2711127e-01],\n",
       "       [5.0000173e-01, 4.9999872e-01, 5.0000030e-01],\n",
       "       [5.0000173e-01, 4.9999872e-01, 5.0000030e-01],\n",
       "       [5.0000173e-01, 4.9999872e-01, 5.0000030e-01],\n",
       "       [5.0000173e-01, 4.9999872e-01, 5.0000030e-01],\n",
       "       [5.0000173e-01, 4.9999872e-01, 5.0000030e-01],\n",
       "       [4.0878460e-01, 8.2644576e-01, 1.0960878e-01],\n",
       "       [5.0000173e-01, 4.9999872e-01, 5.0000030e-01],\n",
       "       [3.6481872e-02, 1.4631914e-01, 1.0398898e-02],\n",
       "       [5.0000173e-01, 4.9999872e-01, 5.0000030e-01],\n",
       "       [5.0000173e-01, 4.9999872e-01, 5.0000030e-01],\n",
       "       [5.0000173e-01, 4.9999872e-01, 5.0000030e-01],\n",
       "       [5.0000173e-01, 4.9999872e-01, 5.0000030e-01],\n",
       "       [5.0000173e-01, 4.9999872e-01, 5.0000030e-01],\n",
       "       [5.0000173e-01, 4.9999872e-01, 5.0000030e-01],\n",
       "       [5.0000173e-01, 4.9999872e-01, 5.0000030e-01],\n",
       "       [3.9279354e-01, 4.4159725e-01, 3.5293978e-01],\n",
       "       [5.0000173e-01, 4.9999872e-01, 5.0000030e-01],\n",
       "       [5.0000173e-01, 4.9999872e-01, 5.0000030e-01],\n",
       "       [1.5588067e-01, 2.8698486e-01, 8.7017827e-02],\n",
       "       [5.0000173e-01, 4.9999872e-01, 5.0000030e-01],\n",
       "       [4.2098910e-01, 4.5717573e-01, 3.9090446e-01],\n",
       "       [5.0000173e-01, 4.9999872e-01, 5.0000030e-01],\n",
       "       [2.8837702e-01, 3.8068205e-01, 2.2149789e-01],\n",
       "       [2.0243266e-01, 3.2328281e-01, 1.2920207e-01],\n",
       "       [5.0000173e-01, 4.9999872e-01, 5.0000030e-01],\n",
       "       [5.0000173e-01, 4.9999872e-01, 5.0000030e-01],\n",
       "       [5.0000173e-01, 4.9999872e-01, 5.0000030e-01]], dtype=float32)"
      ]
     },
     "execution_count": 17,
     "metadata": {},
     "output_type": "execute_result"
    }
   ],
   "source": [
    "y_pred"
   ]
  },
  {
   "cell_type": "code",
   "execution_count": 18,
   "metadata": {
    "execution": {
     "iopub.execute_input": "2022-08-01T18:18:48.515707Z",
     "iopub.status.busy": "2022-08-01T18:18:48.51548Z",
     "iopub.status.idle": "2022-08-01T18:18:48.700652Z",
     "shell.execute_reply": "2022-08-01T18:18:48.699916Z",
     "shell.execute_reply.started": "2022-08-01T18:18:48.515679Z"
    },
    "pycharm": {
     "name": "#%%\n"
    },
    "trusted": true
   },
   "outputs": [
    {
     "name": "stdout",
     "output_type": "stream",
     "text": [
      "              precision    recall  f1-score   support\n",
      "\n",
      "           0       0.80      0.83      0.81        92\n",
      "           1       0.07      0.57      0.13         7\n",
      "           2       0.77      0.43      0.55        93\n",
      "\n",
      "   micro avg       0.60      0.62      0.61       192\n",
      "   macro avg       0.55      0.61      0.50       192\n",
      "weighted avg       0.76      0.62      0.66       192\n",
      " samples avg       0.49      0.52      0.48       192\n",
      "\n"
     ]
    },
    {
     "name": "stderr",
     "output_type": "stream",
     "text": [
      "C:\\Users\\Jackson\\AppData\\Roaming\\Python\\Python310\\site-packages\\sklearn\\metrics\\_classification.py:1334: UndefinedMetricWarning: Precision and F-score are ill-defined and being set to 0.0 in samples with no predicted labels. Use `zero_division` parameter to control this behavior.\n",
      "  _warn_prf(average, modifier, msg_start, len(result))\n",
      "C:\\Users\\Jackson\\AppData\\Roaming\\Python\\Python310\\site-packages\\sklearn\\metrics\\_classification.py:1334: UndefinedMetricWarning: Recall and F-score are ill-defined and being set to 0.0 in samples with no true labels. Use `zero_division` parameter to control this behavior.\n",
      "  _warn_prf(average, modifier, msg_start, len(result))\n"
     ]
    }
   ],
   "source": [
    "from sklearn.metrics import classification_report\n",
    "# \n",
    "print(classification_report(y_pred.round(), axial_labels_valid))"
   ]
  },
  {
   "cell_type": "code",
   "execution_count": 19,
   "metadata": {
    "pycharm": {
     "name": "#%%\n"
    }
   },
   "outputs": [
    {
     "name": "stdout",
     "output_type": "stream",
     "text": [
      "LR: 1e-07\n",
      "Momentum: 0.8\n",
      "Abnormal MRI AUC: 0.5785263157894737\n",
      "ACL Injury AUC: 0.5817901234567902\n",
      "Meniscus Injury AUC: 0.48359728506787336\n",
      "Abnormal MRI Accuracy: 0.7083333333333334\n",
      "ACL Injury Accuracy: 0.5583333333333333\n",
      "Meniscus Injury Accuracy: 0.4583333333333333\n"
     ]
    }
   ],
   "source": [
    "from sklearn.metrics import roc_auc_score, accuracy_score\n",
    "ypreds_abnormal_soft = list(y_pred[:,0])\n",
    "ypreds_abnormal_hard = list(np.array(y_pred[:,0]).round())\n",
    "ytrue_abnormal = (np.array(axial_labels_valid)[:,0])\n",
    "auc_abnormal = roc_auc_score(y_score= ypreds_abnormal_soft, y_true= ytrue_abnormal)\n",
    "accuracy_abnormal = accuracy_score(y_true= ytrue_abnormal, y_pred= ypreds_abnormal_hard)\n",
    "\n",
    "ypreds_acl_soft = list(y_pred[:,1])\n",
    "ypreds_acl_hard = list(np.array(y_pred[:,1]).round())\n",
    "ytrue_acl = list(np.array(axial_labels_valid)[:,1])\n",
    "auc_acl = roc_auc_score(y_score= ypreds_acl_soft, y_true= ytrue_acl)\n",
    "accuracy_acl = accuracy_score(y_true= ytrue_acl, y_pred= ypreds_acl_hard)\n",
    "\n",
    "\n",
    "ypreds_meniscus_soft = list(y_pred[:,2])\n",
    "ypreds_meniscus_hard = list(np.array(y_pred[:,2]).round())\n",
    "ytrue_meniscus = list(np.array(axial_labels_valid)[:,2])\n",
    "auc_meniscus = roc_auc_score(y_score= ypreds_meniscus_soft, y_true= ytrue_meniscus)\n",
    "accuracy_meniscus = accuracy_score(y_true= ytrue_meniscus, y_pred= ypreds_meniscus_hard)\n",
    "\n",
    "\n",
    "\n",
    "logString = \"LR: \" + str(lr) + \"\\nMomentum: \" + str(momentum) + \"\\nAbnormal MRI AUC: \" + str(auc_abnormal) + \"\\nACL Injury AUC: \" + str(auc_acl) + \"\\nMeniscus Injury AUC: \" + str(auc_meniscus) +\"\\nAbnormal MRI Accuracy: \" + str(accuracy_abnormal) + \"\\nACL Injury Accuracy: \" + str(accuracy_acl) + \"\\nMeniscus Injury Accuracy: \" + str(accuracy_meniscus)\n",
    "\n",
    "print (logString)\n",
    "\n",
    "filename = \"Logs.txt\"\n",
    "file = open(filename, \"a\")\n",
    "\n",
    "file.write(logString)\n",
    "file.close()\n",
    "\n"
   ]
  },
  {
   "cell_type": "code",
   "execution_count": 20,
   "metadata": {},
   "outputs": [
    {
     "name": "stdout",
     "output_type": "stream",
     "text": [
      "False\n",
      "WARNING:tensorflow:From C:\\Users\\Jackson\\AppData\\Local\\Temp\\ipykernel_2572\\3617173799.py:3: is_gpu_available (from tensorflow.python.framework.test_util) is deprecated and will be removed in a future version.\n",
      "Instructions for updating:\n",
      "Use `tf.config.list_physical_devices('GPU')` instead.\n",
      "False\n",
      "True\n"
     ]
    }
   ],
   "source": [
    "import tensorflow as tf\n",
    "print(tf.test.is_built_with_cuda())\n",
    "print(tf.test.is_gpu_available(cuda_only=False, min_cuda_compute_capability=None))\n",
    "\n",
    "import torch\n",
    "print(torch.cuda.is_available())"
   ]
  }
 ],
 "metadata": {
  "kernelspec": {
   "display_name": "Python 3.10.7 64-bit",
   "language": "python",
   "name": "python3"
  },
  "language_info": {
   "codemirror_mode": {
    "name": "ipython",
    "version": 3
   },
   "file_extension": ".py",
   "mimetype": "text/x-python",
   "name": "python",
   "nbconvert_exporter": "python",
   "pygments_lexer": "ipython3",
   "version": "3.10.7"
  },
  "vscode": {
   "interpreter": {
    "hash": "26de051ba29f2982a8de78e945f0abaf191376122a1563185a90213a26c5da77"
   }
  }
 },
 "nbformat": 4,
 "nbformat_minor": 4
}
