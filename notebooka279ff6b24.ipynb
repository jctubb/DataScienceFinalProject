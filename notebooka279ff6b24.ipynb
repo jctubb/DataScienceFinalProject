{
 "cells": [
  {
   "cell_type": "markdown",
   "metadata": {
    "pycharm": {
     "name": "#%% md\n"
    }
   },
   "source": [
    "## Import Libraries"
   ]
  },
  {
   "cell_type": "code",
   "execution_count": 24,
   "metadata": {
    "execution": {
     "iopub.execute_input": "2022-08-01T18:12:33.855305Z",
     "iopub.status.busy": "2022-08-01T18:12:33.854987Z",
     "iopub.status.idle": "2022-08-01T18:12:35.073506Z",
     "shell.execute_reply": "2022-08-01T18:12:35.072769Z",
     "shell.execute_reply.started": "2022-08-01T18:12:33.855223Z"
    },
    "pycharm": {
     "name": "#%%\n"
    },
    "trusted": true
   },
   "outputs": [],
   "source": [
    "import glob\n",
    "import os\n",
    "\n",
    "import pandas as pd\n",
    "import numpy as np\n",
    "from numpy import zeros, newaxis\n",
    "import cv2\n",
    "\n",
    "import matplotlib.pyplot as plt\n",
    "import seaborn"
   ]
  },
  {
   "cell_type": "markdown",
   "metadata": {
    "pycharm": {
     "name": "#%% md\n"
    }
   },
   "source": [
    "## Read Data"
   ]
  },
  {
   "cell_type": "code",
   "execution_count": 25,
   "metadata": {
    "execution": {
     "iopub.execute_input": "2022-08-01T18:12:39.366043Z",
     "iopub.status.busy": "2022-08-01T18:12:39.365367Z",
     "iopub.status.idle": "2022-08-01T18:12:39.478716Z",
     "shell.execute_reply": "2022-08-01T18:12:39.477939Z",
     "shell.execute_reply.started": "2022-08-01T18:12:39.366006Z"
    },
    "pycharm": {
     "name": "#%%\n"
    },
    "trusted": true
   },
   "outputs": [],
   "source": [
    "axial_image = 'MRNet-v1.0/train/axial/0000.npy'\n",
    "coronal_image = 'MRNet-v1.0/train/coronal/0000.npy'\n",
    "saggital_image = 'MRNet-v1.0/train/sagittal/0000.npy'\n",
    "\n",
    "\n",
    "img_array_axial = np.load(axial_image)\n",
    "img_array_coronal = np.load(coronal_image)\n",
    "img_array_sagittal = np.load(saggital_image)"
   ]
  },
  {
   "cell_type": "code",
   "execution_count": 26,
   "metadata": {
    "execution": {
     "iopub.execute_input": "2022-08-01T18:12:44.018551Z",
     "iopub.status.busy": "2022-08-01T18:12:44.018272Z",
     "iopub.status.idle": "2022-08-01T18:12:44.022791Z",
     "shell.execute_reply": "2022-08-01T18:12:44.022063Z",
     "shell.execute_reply.started": "2022-08-01T18:12:44.018517Z"
    },
    "pycharm": {
     "name": "#%%\n"
    },
    "trusted": true
   },
   "outputs": [],
   "source": [
    "abnormal_path_train =  'MRNet-v1.0/train-abnormal.csv'\n",
    "acl_path_train = 'MRNet-v1.0/train-acl.csv'\n",
    "meniscus_train =  'MRNet-v1.0/train-meniscus.csv'\n",
    "\n",
    "\n",
    "abnormal_path_valid =  'MRNet-v1.0/valid-abnormal.csv'\n",
    "acl_path_valid = 'MRNet-v1.0/valid-acl.csv'\n",
    "meniscus_valid =  'MRNet-v1.0/valid-meniscus.csv'\n"
   ]
  },
  {
   "cell_type": "code",
   "execution_count": 27,
   "metadata": {
    "execution": {
     "iopub.execute_input": "2022-08-01T18:12:47.238631Z",
     "iopub.status.busy": "2022-08-01T18:12:47.238075Z",
     "iopub.status.idle": "2022-08-01T18:12:47.246725Z",
     "shell.execute_reply": "2022-08-01T18:12:47.245741Z",
     "shell.execute_reply.started": "2022-08-01T18:12:47.238595Z"
    },
    "pycharm": {
     "name": "#%%\n"
    },
    "trusted": true
   },
   "outputs": [],
   "source": [
    "def load_labels(abnormal_path, acl_path, meniscus_path):\n",
    "    \n",
    "    df_labels_abnormal =  pd.read_csv(abnormal_path, names=['Image_Name', 'Abnormal_Label'])\n",
    "    df_labels_acl = pd.read_csv(acl_path, names=['Image_Name', 'Acl_Label'])\n",
    "    df_labels_meniscus = pd.read_csv(meniscus_path, names=['Image_Name', 'Meniscus_Label'])\n",
    "    \n",
    "    df_lables_combined = pd.merge(df_labels_abnormal, df_labels_acl, how = 'left', left_on=['Image_Name'], right_on=['Image_Name'])\n",
    "    df_lables_combined = pd.merge(df_lables_combined, df_labels_meniscus, how = 'left', left_on=['Image_Name'], right_on=['Image_Name'])\n",
    "    df_lables_combined['Image_Name'] = df_lables_combined['Image_Name'].astype(str)\n",
    "    df_lables_combined['Image_Name'] = df_lables_combined['Image_Name'].apply(lambda x: x.zfill(4))\n",
    "    \n",
    "    return df_lables_combined"
   ]
  },
  {
   "cell_type": "code",
   "execution_count": 28,
   "metadata": {
    "execution": {
     "iopub.execute_input": "2022-08-01T18:12:50.034805Z",
     "iopub.status.busy": "2022-08-01T18:12:50.034263Z",
     "iopub.status.idle": "2022-08-01T18:12:50.090029Z",
     "shell.execute_reply": "2022-08-01T18:12:50.08935Z",
     "shell.execute_reply.started": "2022-08-01T18:12:50.03477Z"
    },
    "pycharm": {
     "name": "#%%\n"
    },
    "trusted": true
   },
   "outputs": [
    {
     "data": {
      "text/html": [
       "<div>\n",
       "<style scoped>\n",
       "    .dataframe tbody tr th:only-of-type {\n",
       "        vertical-align: middle;\n",
       "    }\n",
       "\n",
       "    .dataframe tbody tr th {\n",
       "        vertical-align: top;\n",
       "    }\n",
       "\n",
       "    .dataframe thead th {\n",
       "        text-align: right;\n",
       "    }\n",
       "</style>\n",
       "<table border=\"1\" class=\"dataframe\">\n",
       "  <thead>\n",
       "    <tr style=\"text-align: right;\">\n",
       "      <th></th>\n",
       "      <th>Image_Name</th>\n",
       "      <th>Abnormal_Label</th>\n",
       "      <th>Acl_Label</th>\n",
       "      <th>Meniscus_Label</th>\n",
       "    </tr>\n",
       "  </thead>\n",
       "  <tbody>\n",
       "    <tr>\n",
       "      <th>0</th>\n",
       "      <td>0000</td>\n",
       "      <td>1</td>\n",
       "      <td>0</td>\n",
       "      <td>0</td>\n",
       "    </tr>\n",
       "    <tr>\n",
       "      <th>1</th>\n",
       "      <td>0001</td>\n",
       "      <td>1</td>\n",
       "      <td>1</td>\n",
       "      <td>1</td>\n",
       "    </tr>\n",
       "    <tr>\n",
       "      <th>2</th>\n",
       "      <td>0002</td>\n",
       "      <td>1</td>\n",
       "      <td>0</td>\n",
       "      <td>0</td>\n",
       "    </tr>\n",
       "    <tr>\n",
       "      <th>3</th>\n",
       "      <td>0003</td>\n",
       "      <td>1</td>\n",
       "      <td>0</td>\n",
       "      <td>1</td>\n",
       "    </tr>\n",
       "    <tr>\n",
       "      <th>4</th>\n",
       "      <td>0004</td>\n",
       "      <td>1</td>\n",
       "      <td>0</td>\n",
       "      <td>0</td>\n",
       "    </tr>\n",
       "    <tr>\n",
       "      <th>...</th>\n",
       "      <td>...</td>\n",
       "      <td>...</td>\n",
       "      <td>...</td>\n",
       "      <td>...</td>\n",
       "    </tr>\n",
       "    <tr>\n",
       "      <th>1125</th>\n",
       "      <td>1125</td>\n",
       "      <td>1</td>\n",
       "      <td>0</td>\n",
       "      <td>1</td>\n",
       "    </tr>\n",
       "    <tr>\n",
       "      <th>1126</th>\n",
       "      <td>1126</td>\n",
       "      <td>1</td>\n",
       "      <td>0</td>\n",
       "      <td>1</td>\n",
       "    </tr>\n",
       "    <tr>\n",
       "      <th>1127</th>\n",
       "      <td>1127</td>\n",
       "      <td>0</td>\n",
       "      <td>0</td>\n",
       "      <td>0</td>\n",
       "    </tr>\n",
       "    <tr>\n",
       "      <th>1128</th>\n",
       "      <td>1128</td>\n",
       "      <td>1</td>\n",
       "      <td>0</td>\n",
       "      <td>0</td>\n",
       "    </tr>\n",
       "    <tr>\n",
       "      <th>1129</th>\n",
       "      <td>1129</td>\n",
       "      <td>1</td>\n",
       "      <td>1</td>\n",
       "      <td>0</td>\n",
       "    </tr>\n",
       "  </tbody>\n",
       "</table>\n",
       "<p>1130 rows × 4 columns</p>\n",
       "</div>"
      ],
      "text/plain": [
       "     Image_Name  Abnormal_Label  Acl_Label  Meniscus_Label\n",
       "0          0000               1          0               0\n",
       "1          0001               1          1               1\n",
       "2          0002               1          0               0\n",
       "3          0003               1          0               1\n",
       "4          0004               1          0               0\n",
       "...         ...             ...        ...             ...\n",
       "1125       1125               1          0               1\n",
       "1126       1126               1          0               1\n",
       "1127       1127               0          0               0\n",
       "1128       1128               1          0               0\n",
       "1129       1129               1          1               0\n",
       "\n",
       "[1130 rows x 4 columns]"
      ]
     },
     "execution_count": 28,
     "metadata": {},
     "output_type": "execute_result"
    }
   ],
   "source": [
    "# Load Train Labels\n",
    "df_labels_train = load_labels(abnormal_path_train, acl_path_train, meniscus_train)\n",
    "df_labels_train"
   ]
  },
  {
   "cell_type": "code",
   "execution_count": 29,
   "metadata": {
    "execution": {
     "iopub.execute_input": "2022-08-01T18:12:50.382897Z",
     "iopub.status.busy": "2022-08-01T18:12:50.382436Z",
     "iopub.status.idle": "2022-08-01T18:12:50.414066Z",
     "shell.execute_reply": "2022-08-01T18:12:50.413384Z",
     "shell.execute_reply.started": "2022-08-01T18:12:50.382861Z"
    },
    "pycharm": {
     "name": "#%%\n"
    },
    "trusted": true
   },
   "outputs": [
    {
     "data": {
      "text/html": [
       "<div>\n",
       "<style scoped>\n",
       "    .dataframe tbody tr th:only-of-type {\n",
       "        vertical-align: middle;\n",
       "    }\n",
       "\n",
       "    .dataframe tbody tr th {\n",
       "        vertical-align: top;\n",
       "    }\n",
       "\n",
       "    .dataframe thead th {\n",
       "        text-align: right;\n",
       "    }\n",
       "</style>\n",
       "<table border=\"1\" class=\"dataframe\">\n",
       "  <thead>\n",
       "    <tr style=\"text-align: right;\">\n",
       "      <th></th>\n",
       "      <th>Image_Name</th>\n",
       "      <th>Abnormal_Label</th>\n",
       "      <th>Acl_Label</th>\n",
       "      <th>Meniscus_Label</th>\n",
       "    </tr>\n",
       "  </thead>\n",
       "  <tbody>\n",
       "    <tr>\n",
       "      <th>0</th>\n",
       "      <td>1130</td>\n",
       "      <td>0</td>\n",
       "      <td>0</td>\n",
       "      <td>0</td>\n",
       "    </tr>\n",
       "    <tr>\n",
       "      <th>1</th>\n",
       "      <td>1131</td>\n",
       "      <td>0</td>\n",
       "      <td>0</td>\n",
       "      <td>0</td>\n",
       "    </tr>\n",
       "    <tr>\n",
       "      <th>2</th>\n",
       "      <td>1132</td>\n",
       "      <td>0</td>\n",
       "      <td>0</td>\n",
       "      <td>0</td>\n",
       "    </tr>\n",
       "    <tr>\n",
       "      <th>3</th>\n",
       "      <td>1133</td>\n",
       "      <td>0</td>\n",
       "      <td>0</td>\n",
       "      <td>0</td>\n",
       "    </tr>\n",
       "    <tr>\n",
       "      <th>4</th>\n",
       "      <td>1134</td>\n",
       "      <td>0</td>\n",
       "      <td>0</td>\n",
       "      <td>0</td>\n",
       "    </tr>\n",
       "    <tr>\n",
       "      <th>...</th>\n",
       "      <td>...</td>\n",
       "      <td>...</td>\n",
       "      <td>...</td>\n",
       "      <td>...</td>\n",
       "    </tr>\n",
       "    <tr>\n",
       "      <th>115</th>\n",
       "      <td>1245</td>\n",
       "      <td>1</td>\n",
       "      <td>1</td>\n",
       "      <td>1</td>\n",
       "    </tr>\n",
       "    <tr>\n",
       "      <th>116</th>\n",
       "      <td>1246</td>\n",
       "      <td>1</td>\n",
       "      <td>1</td>\n",
       "      <td>1</td>\n",
       "    </tr>\n",
       "    <tr>\n",
       "      <th>117</th>\n",
       "      <td>1247</td>\n",
       "      <td>1</td>\n",
       "      <td>0</td>\n",
       "      <td>1</td>\n",
       "    </tr>\n",
       "    <tr>\n",
       "      <th>118</th>\n",
       "      <td>1248</td>\n",
       "      <td>1</td>\n",
       "      <td>1</td>\n",
       "      <td>1</td>\n",
       "    </tr>\n",
       "    <tr>\n",
       "      <th>119</th>\n",
       "      <td>1249</td>\n",
       "      <td>1</td>\n",
       "      <td>0</td>\n",
       "      <td>1</td>\n",
       "    </tr>\n",
       "  </tbody>\n",
       "</table>\n",
       "<p>120 rows × 4 columns</p>\n",
       "</div>"
      ],
      "text/plain": [
       "    Image_Name  Abnormal_Label  Acl_Label  Meniscus_Label\n",
       "0         1130               0          0               0\n",
       "1         1131               0          0               0\n",
       "2         1132               0          0               0\n",
       "3         1133               0          0               0\n",
       "4         1134               0          0               0\n",
       "..         ...             ...        ...             ...\n",
       "115       1245               1          1               1\n",
       "116       1246               1          1               1\n",
       "117       1247               1          0               1\n",
       "118       1248               1          1               1\n",
       "119       1249               1          0               1\n",
       "\n",
       "[120 rows x 4 columns]"
      ]
     },
     "execution_count": 29,
     "metadata": {},
     "output_type": "execute_result"
    }
   ],
   "source": [
    "# Load Valid Labels\n",
    "df_labels_valid = load_labels(abnormal_path_valid, acl_path_valid, meniscus_valid)\n",
    "df_labels_valid"
   ]
  },
  {
   "cell_type": "code",
   "execution_count": 30,
   "metadata": {
    "execution": {
     "iopub.execute_input": "2022-08-01T18:12:53.82328Z",
     "iopub.status.busy": "2022-08-01T18:12:53.822763Z",
     "iopub.status.idle": "2022-08-01T18:12:53.832668Z",
     "shell.execute_reply": "2022-08-01T18:12:53.831847Z",
     "shell.execute_reply.started": "2022-08-01T18:12:53.823245Z"
    },
    "pycharm": {
     "name": "#%%\n"
    },
    "trusted": true
   },
   "outputs": [
    {
     "data": {
      "text/plain": [
       "['MRNet-v1.0\\\\train',\n",
       " 'MRNet-v1.0\\\\train-abnormal.csv',\n",
       " 'MRNet-v1.0\\\\train-acl.csv',\n",
       " 'MRNet-v1.0\\\\train-meniscus.csv',\n",
       " 'MRNet-v1.0\\\\valid',\n",
       " 'MRNet-v1.0\\\\valid-abnormal.csv',\n",
       " 'MRNet-v1.0\\\\valid-acl.csv',\n",
       " 'MRNet-v1.0\\\\valid-meniscus.csv']"
      ]
     },
     "execution_count": 30,
     "metadata": {},
     "output_type": "execute_result"
    }
   ],
   "source": [
    "glob.glob('MRNet-v1.0\\*')"
   ]
  },
  {
   "cell_type": "code",
   "execution_count": 31,
   "metadata": {
    "execution": {
     "iopub.execute_input": "2022-08-01T18:15:13.958225Z",
     "iopub.status.busy": "2022-08-01T18:15:13.957679Z",
     "iopub.status.idle": "2022-08-01T18:15:13.970992Z",
     "shell.execute_reply": "2022-08-01T18:15:13.970307Z",
     "shell.execute_reply.started": "2022-08-01T18:15:13.958189Z"
    },
    "pycharm": {
     "name": "#%%\n"
    },
    "trusted": true
   },
   "outputs": [
    {
     "name": "stdout",
     "output_type": "stream",
     "text": [
      "Total samples in data: 1130\n",
      "Loading Data From :    MRNet-v1.0\\train\\axial\n",
      "Loading Complete From :    MRNet-v1.0\\train\\axial\n",
      "\n",
      "\n",
      "\n",
      "Total samples in data: 1130\n",
      "Loading Data From :    MRNet-v1.0\\train\\coronal\n",
      "Loading Complete From :    MRNet-v1.0\\train\\coronal\n",
      "\n",
      "\n",
      "\n",
      "Total samples in data: 1130\n",
      "Loading Data From :    MRNet-v1.0\\train\\sagittal\n",
      "Loading Complete From :    MRNet-v1.0\\train\\sagittal\n",
      "\n",
      "\n",
      "\n"
     ]
    }
   ],
   "source": [
    "# Read Traning Data\n",
    "def read_data(train_path, df_labels):\n",
    "    axial_images = []\n",
    "    coronal_images = []\n",
    "    sagittal_images = []\n",
    "\n",
    "    axial_labels = []\n",
    "    coronal_labels = []\n",
    "    sagittal_labels = []\n",
    "\n",
    "    # train_path = '/kaggle/input/mrnet-v1/MRNet-v1.0/train'\n",
    "    train_folders = glob.glob(train_path + '/*')\n",
    "    \n",
    "    for folder in train_folders:\n",
    "        train_data = glob.glob(folder + '/*.npy')\n",
    "        print('Total samples in data:', len(train_data))\n",
    "        print('Loading Data From :   ', folder)\n",
    "        \n",
    "        for i in train_data:\n",
    "#             print(i)\n",
    "            img_array = np.load(i)\n",
    "            start, end = (img_array.shape[0]/2)-8, (img_array.shape[0]/2)+8\n",
    "            image_tensor = img_array[int(start):int(end),:,:].reshape(256,256,16)\n",
    "            if 'axial' in i:\n",
    "                axial_images.append(image_tensor)\n",
    "                image_name = i.rsplit('\\\\')[-1].split('.')[0]\n",
    "                axial_labels.append(df_labels[df_labels['Image_Name']==image_name].iloc[:, 1:].values[0])\n",
    "            if 'coronal' in i:\n",
    "                coronal_images.append(image_tensor)\n",
    "                image_name = i.rsplit('\\\\')[-1].split('.')[0]\n",
    "                coronal_labels.append(df_labels[df_labels['Image_Name']==image_name].iloc[:, 1:].values[0])   \n",
    "            if 'sagittal' in i:\n",
    "                sagittal_images.append(image_tensor)\n",
    "                image_name = i.rsplit('\\\\')[-1].split('.')[0]\n",
    "                sagittal_labels.append(df_labels[df_labels['Image_Name']==image_name].iloc[:, 1:].values[0])\n",
    "\n",
    "        print('Loading Complete From :   ', folder)\n",
    "        print('\\n\\n')\n",
    "    return axial_images, coronal_images, sagittal_images, axial_labels\n",
    "\n",
    "train_path =  'MRNet-v1.0\\\\train'\n",
    "valid_path =  'MRNet-v1.0\\\\valid'\n",
    "\n",
    "axial_images_train, coronal_images_train, sagittal_images_train, axial_labels_train = read_data(train_path, df_labels_train)"
   ]
  },
  {
   "cell_type": "code",
   "execution_count": 32,
   "metadata": {
    "execution": {
     "iopub.execute_input": "2022-08-01T18:16:41.70741Z",
     "iopub.status.busy": "2022-08-01T18:16:41.706274Z",
     "iopub.status.idle": "2022-08-01T18:16:42.241847Z",
     "shell.execute_reply": "2022-08-01T18:16:42.241129Z",
     "shell.execute_reply.started": "2022-08-01T18:16:41.707373Z"
    },
    "pycharm": {
     "name": "#%%\n"
    },
    "trusted": true
   },
   "outputs": [
    {
     "name": "stdout",
     "output_type": "stream",
     "text": [
      "(1130, 256, 256, 16)\n",
      "(1130, 256, 256, 16)\n",
      "(1130, 3)\n"
     ]
    }
   ],
   "source": [
    "# print(np.array(axial_images_train).shape)\n",
    "print(np.array(coronal_images_train).shape)\n",
    "print(np.array(sagittal_images_train).shape)\n",
    "print(np.array(axial_labels_train).shape)"
   ]
  },
  {
   "cell_type": "markdown",
   "metadata": {
    "pycharm": {
     "name": "#%% md\n"
    }
   },
   "source": [
    "## Modeling"
   ]
  },
  {
   "cell_type": "code",
   "execution_count": 33,
   "metadata": {
    "execution": {
     "iopub.execute_input": "2022-08-01T18:17:23.16607Z",
     "iopub.status.busy": "2022-08-01T18:17:23.1658Z",
     "iopub.status.idle": "2022-08-01T18:17:28.705067Z",
     "shell.execute_reply": "2022-08-01T18:17:28.703859Z",
     "shell.execute_reply.started": "2022-08-01T18:17:23.166039Z"
    },
    "pycharm": {
     "name": "#%%\n"
    },
    "trusted": true
   },
   "outputs": [],
   "source": [
    "from __future__ import print_function\n",
    "import tensorflow.keras\n",
    "from tensorflow.keras.models import Model, Sequential\n",
    "from tensorflow.keras.optimizers import *\n",
    "from tensorflow.keras.layers import *\n",
    "from tensorflow.keras.activations import *\n",
    "from tensorflow.keras.callbacks import *\n",
    "from tensorflow.keras.preprocessing.image import ImageDataGenerator\n",
    "from tensorflow.keras.regularizers import l2\n",
    "from tensorflow.keras import backend as K\n"
   ]
  },
  {
   "cell_type": "code",
   "execution_count": 34,
   "metadata": {
    "execution": {
     "iopub.execute_input": "2022-08-01T18:17:28.709841Z",
     "iopub.status.busy": "2022-08-01T18:17:28.709623Z",
     "iopub.status.idle": "2022-08-01T18:17:31.248823Z",
     "shell.execute_reply": "2022-08-01T18:17:31.248124Z",
     "shell.execute_reply.started": "2022-08-01T18:17:28.709811Z"
    },
    "pycharm": {
     "name": "#%%\n"
    },
    "trusted": true
   },
   "outputs": [
    {
     "name": "stdout",
     "output_type": "stream",
     "text": [
      "Model: \"model_1\"\n",
      "__________________________________________________________________________________________________\n",
      " Layer (type)                   Output Shape         Param #     Connected to                     \n",
      "==================================================================================================\n",
      " input_6 (InputLayer)           [(None, 256, 256, 1  0           []                               \n",
      "                                6)]                                                               \n",
      "                                                                                                  \n",
      " input_7 (InputLayer)           [(None, 256, 256, 1  0           []                               \n",
      "                                6)]                                                               \n",
      "                                                                                                  \n",
      " conv2d_15 (Conv2D)             (None, 252, 252, 16  6416        ['input_6[0][0]']                \n",
      "                                )                                                                 \n",
      "                                                                                                  \n",
      " conv2d_18 (Conv2D)             (None, 252, 252, 16  6416        ['input_7[0][0]']                \n",
      "                                )                                                                 \n",
      "                                                                                                  \n",
      " max_pooling2d_15 (MaxPooling2D  (None, 126, 126, 16  0          ['conv2d_15[0][0]']              \n",
      " )                              )                                                                 \n",
      "                                                                                                  \n",
      " max_pooling2d_18 (MaxPooling2D  (None, 126, 126, 16  0          ['conv2d_18[0][0]']              \n",
      " )                              )                                                                 \n",
      "                                                                                                  \n",
      " conv2d_16 (Conv2D)             (None, 122, 122, 16  6416        ['max_pooling2d_15[0][0]']       \n",
      "                                )                                                                 \n",
      "                                                                                                  \n",
      " conv2d_19 (Conv2D)             (None, 122, 122, 16  6416        ['max_pooling2d_18[0][0]']       \n",
      "                                )                                                                 \n",
      "                                                                                                  \n",
      " max_pooling2d_16 (MaxPooling2D  (None, 61, 61, 16)  0           ['conv2d_16[0][0]']              \n",
      " )                                                                                                \n",
      "                                                                                                  \n",
      " max_pooling2d_19 (MaxPooling2D  (None, 61, 61, 16)  0           ['conv2d_19[0][0]']              \n",
      " )                                                                                                \n",
      "                                                                                                  \n",
      " conv2d_17 (Conv2D)             (None, 57, 57, 16)   6416        ['max_pooling2d_16[0][0]']       \n",
      "                                                                                                  \n",
      " conv2d_20 (Conv2D)             (None, 57, 57, 16)   6416        ['max_pooling2d_19[0][0]']       \n",
      "                                                                                                  \n",
      " max_pooling2d_17 (MaxPooling2D  (None, 28, 28, 16)  0           ['conv2d_17[0][0]']              \n",
      " )                                                                                                \n",
      "                                                                                                  \n",
      " max_pooling2d_20 (MaxPooling2D  (None, 28, 28, 16)  0           ['conv2d_20[0][0]']              \n",
      " )                                                                                                \n",
      "                                                                                                  \n",
      " flatten_5 (Flatten)            (None, 12544)        0           ['max_pooling2d_17[0][0]']       \n",
      "                                                                                                  \n",
      " flatten_6 (Flatten)            (None, 12544)        0           ['max_pooling2d_20[0][0]']       \n",
      "                                                                                                  \n",
      " concatenate_1 (Concatenate)    (None, 25088)        0           ['flatten_5[0][0]',              \n",
      "                                                                  'flatten_6[0][0]']              \n",
      "                                                                                                  \n",
      " dense_3 (Dense)                (None, 10)           250890      ['concatenate_1[0][0]']          \n",
      "                                                                                                  \n",
      " dense_4 (Dense)                (None, 5)            55          ['dense_3[0][0]']                \n",
      "                                                                                                  \n",
      " input_8 (InputLayer)           [(None, 256, 256, 1  0           []                               \n",
      "                                6)]                                                               \n",
      "                                                                                                  \n",
      " dense_5 (Dense)                (None, 3)            18          ['dense_4[0][0]']                \n",
      "                                                                                                  \n",
      "==================================================================================================\n",
      "Total params: 289,459\n",
      "Trainable params: 289,459\n",
      "Non-trainable params: 0\n",
      "__________________________________________________________________________________________________\n",
      "None\n"
     ]
    }
   ],
   "source": [
    "# Two Input Model\n",
    "\n",
    "def model ():\n",
    "    visible1 = Input(shape=(256,256,16))\n",
    "    \n",
    "    conv11 = Conv2D( filters=16, kernel_size=(5,5), activation=\"relu\")(visible1)\n",
    "    pool11 = MaxPool2D(pool_size=(2,2),strides=(2,2))(conv11)\n",
    "    \n",
    "    conv12 = Conv2D( filters=16, kernel_size=(5,5), activation=\"relu\")(pool11)\n",
    "    pool12 = MaxPool2D(pool_size=(2,2),strides=(2,2))(conv12)\n",
    "    \n",
    "    conv13 = Conv2D(filters=16, kernel_size=(5,5), activation='relu')(pool12)\n",
    "    pool13 = MaxPooling2D(pool_size=(2, 2),strides=(2,2))(conv13)\n",
    "    flat1 = Flatten()(pool13)\n",
    "    \n",
    "    return flat1, visible1\n",
    "model()\n",
    "\n",
    "# merge input models\n",
    "model_1, Visible_1 = model()\n",
    "model_2, Visible_2 = model()\n",
    "model_3, Visible_3 = model()\n",
    "\n",
    "merge = concatenate([model_1, model_2])\n",
    "\n",
    "hidden1 = Dense(10, activation='relu')(merge)\n",
    "hidden2 = Dense(5, activation='relu')(hidden1)\n",
    "output = Dense(3, activation='sigmoid')(hidden2)\n",
    "model = Model(inputs=[Visible_1, Visible_2, Visible_3], outputs=output)\n",
    "\n",
    "print(model.summary())"
   ]
  },
  {
   "cell_type": "code",
   "execution_count": 46,
   "metadata": {
    "execution": {
     "iopub.execute_input": "2022-08-01T18:17:44.19531Z",
     "iopub.status.busy": "2022-08-01T18:17:44.195045Z",
     "iopub.status.idle": "2022-08-01T18:18:10.873209Z",
     "shell.execute_reply": "2022-08-01T18:18:10.872365Z",
     "shell.execute_reply.started": "2022-08-01T18:17:44.19528Z"
    },
    "pycharm": {
     "name": "#%%\n"
    },
    "trusted": true
   },
   "outputs": [
    {
     "ename": "NameError",
     "evalue": "name 'coronal_images_train' is not defined",
     "output_type": "error",
     "traceback": [
      "\u001b[1;31m---------------------------------------------------------------------------\u001b[0m",
      "\u001b[1;31mNameError\u001b[0m                                 Traceback (most recent call last)",
      "Cell \u001b[1;32mIn [46], line 9\u001b[0m\n\u001b[0;32m      4\u001b[0m \u001b[39m# Give Class Weights to Balance Results\u001b[39;00m\n\u001b[0;32m      5\u001b[0m class_weight \u001b[39m=\u001b[39m {\u001b[39m0\u001b[39m: \u001b[39m1.\u001b[39m,\n\u001b[0;32m      6\u001b[0m                 \u001b[39m1\u001b[39m: \u001b[39m50.\u001b[39m,\n\u001b[0;32m      7\u001b[0m                 \u001b[39m2\u001b[39m: \u001b[39m50.\u001b[39m}\n\u001b[1;32m----> 9\u001b[0m model\u001b[39m.\u001b[39mfit(x \u001b[39m=\u001b[39m [np\u001b[39m.\u001b[39marray(coronal_images_train), np\u001b[39m.\u001b[39marray(sagittal_images_train), np\u001b[39m.\u001b[39marray(axial_images_train)],\n\u001b[0;32m     10\u001b[0m           y \u001b[39m=\u001b[39m np\u001b[39m.\u001b[39marray(axial_labels_train),\n\u001b[0;32m     11\u001b[0m           epochs\u001b[39m=\u001b[39m\u001b[39m5\u001b[39m,\n\u001b[0;32m     12\u001b[0m           batch_size\u001b[39m=\u001b[39m\u001b[39m32\u001b[39m,\n\u001b[0;32m     13\u001b[0m           validation_split\u001b[39m=\u001b[39m\u001b[39m0.20\u001b[39m,\n\u001b[0;32m     14\u001b[0m           class_weight\u001b[39m=\u001b[39mclass_weight)\n",
      "\u001b[1;31mNameError\u001b[0m: name 'coronal_images_train' is not defined"
     ]
    }
   ],
   "source": [
    "model.compile(loss=tensorflow.keras.losses.binary_crossentropy,\n",
    "              optimizer=tensorflow.keras.optimizers.SGD( learning_rate = 0.000001, momentum = 0.9),metrics=[\"binary_accuracy\"])\n",
    "\n",
    "# Give Class Weights to Balance Results\n",
    "class_weight = {0: 1.,\n",
    "                1: 50.,\n",
    "                2: 50.}\n",
    "\n",
    "model.fit(x = [np.array(coronal_images_train), np.array(sagittal_images_train), np.array(axial_images_train)],\n",
    "          y = np.array(axial_labels_train),\n",
    "          epochs=5,\n",
    "          batch_size=32,\n",
    "          validation_split=0.20,\n",
    "          class_weight=class_weight)\n",
    "\n",
    "# model.save_weights('model_3_Input.h5')"
   ]
  },
  {
   "cell_type": "code",
   "execution_count": 36,
   "metadata": {},
   "outputs": [
    {
     "name": "stdout",
     "output_type": "stream",
     "text": [
      "[name: \"/device:CPU:0\"\n",
      "device_type: \"CPU\"\n",
      "memory_limit: 268435456\n",
      "locality {\n",
      "}\n",
      "incarnation: 16110126214400142078\n",
      "xla_global_id: -1\n",
      "]\n"
     ]
    }
   ],
   "source": [
    "from tensorflow.python.client import device_lib\n",
    "print(device_lib.list_local_devices())"
   ]
  },
  {
   "cell_type": "code",
   "execution_count": 37,
   "metadata": {
    "pycharm": {
     "name": "#%%\n"
    },
    "trusted": true
   },
   "outputs": [
    {
     "name": "stdout",
     "output_type": "stream",
     "text": [
      "You must install pydot (`pip install pydot`) and install graphviz (see instructions at https://graphviz.gitlab.io/download/) for plot_model to work.\n"
     ]
    }
   ],
   "source": [
    "from keras.utils.vis_utils import plot_model\n",
    "plot_model(model, to_file='model_architecture.png', show_shapes=True, show_layer_names=True)\n"
   ]
  },
  {
   "cell_type": "code",
   "execution_count": 38,
   "metadata": {
    "execution": {
     "iopub.execute_input": "2022-08-01T18:18:14.736088Z",
     "iopub.status.busy": "2022-08-01T18:18:14.735544Z",
     "iopub.status.idle": "2022-08-01T18:18:14.865938Z",
     "shell.execute_reply": "2022-08-01T18:18:14.865165Z",
     "shell.execute_reply.started": "2022-08-01T18:18:14.736053Z"
    },
    "pycharm": {
     "name": "#%%\n"
    },
    "trusted": true
   },
   "outputs": [],
   "source": [
    "del coronal_images_train, sagittal_images_train"
   ]
  },
  {
   "cell_type": "code",
   "execution_count": 39,
   "metadata": {
    "execution": {
     "iopub.execute_input": "2022-08-01T18:18:21.432219Z",
     "iopub.status.busy": "2022-08-01T18:18:21.431923Z",
     "iopub.status.idle": "2022-08-01T18:18:28.826244Z",
     "shell.execute_reply": "2022-08-01T18:18:28.825522Z",
     "shell.execute_reply.started": "2022-08-01T18:18:21.432189Z"
    },
    "pycharm": {
     "name": "#%%\n"
    },
    "trusted": true
   },
   "outputs": [
    {
     "name": "stdout",
     "output_type": "stream",
     "text": [
      "Total samples in data: 120\n",
      "Loading Data From :    MRNet-v1.0\\valid\\axial\n",
      "Loading Complete From :    MRNet-v1.0\\valid\\axial\n",
      "\n",
      "\n",
      "\n",
      "Total samples in data: 120\n",
      "Loading Data From :    MRNet-v1.0\\valid\\coronal\n",
      "Loading Complete From :    MRNet-v1.0\\valid\\coronal\n",
      "\n",
      "\n",
      "\n",
      "Total samples in data: 120\n",
      "Loading Data From :    MRNet-v1.0\\valid\\sagittal\n",
      "Loading Complete From :    MRNet-v1.0\\valid\\sagittal\n",
      "\n",
      "\n",
      "\n"
     ]
    }
   ],
   "source": [
    "axial_images_valid, coronal_images_valid, sagittal_images_valid, axial_labels_valid = read_data(valid_path, df_labels_valid)"
   ]
  },
  {
   "cell_type": "markdown",
   "metadata": {
    "pycharm": {
     "name": "#%% md\n"
    }
   },
   "source": [
    "## Evaluate Model"
   ]
  },
  {
   "cell_type": "code",
   "execution_count": 40,
   "metadata": {
    "execution": {
     "iopub.execute_input": "2022-08-01T18:18:47.630231Z",
     "iopub.status.busy": "2022-08-01T18:18:47.629973Z",
     "iopub.status.idle": "2022-08-01T18:18:48.447761Z",
     "shell.execute_reply": "2022-08-01T18:18:48.446982Z",
     "shell.execute_reply.started": "2022-08-01T18:18:47.630201Z"
    },
    "pycharm": {
     "name": "#%%\n"
    },
    "trusted": true
   },
   "outputs": [
    {
     "name": "stdout",
     "output_type": "stream",
     "text": [
      "4/4 [==============================] - 2s 357ms/step\n"
     ]
    }
   ],
   "source": [
    "y_pred = model.predict([ np.array(coronal_images_valid), np.array(sagittal_images_valid), np.array(axial_images_valid)])"
   ]
  },
  {
   "cell_type": "code",
   "execution_count": 41,
   "metadata": {
    "execution": {
     "iopub.execute_input": "2022-08-01T18:18:48.449878Z",
     "iopub.status.busy": "2022-08-01T18:18:48.449631Z",
     "iopub.status.idle": "2022-08-01T18:18:48.461336Z",
     "shell.execute_reply": "2022-08-01T18:18:48.460532Z",
     "shell.execute_reply.started": "2022-08-01T18:18:48.449844Z"
    },
    "pycharm": {
     "name": "#%%\n"
    },
    "trusted": true
   },
   "outputs": [
    {
     "data": {
      "text/plain": [
       "array([[5.2456468e-01, 7.5321954e-01, 6.8978924e-01],\n",
       "       [6.4483929e-01, 1.1578601e-01, 8.9546645e-01],\n",
       "       [7.8981036e-01, 1.0855497e-02, 9.9156749e-01],\n",
       "       [7.7058297e-01, 9.9999893e-01, 9.9994707e-01],\n",
       "       [5.4716849e-01, 3.4411350e-01, 6.6406029e-01],\n",
       "       [5.2845716e-01, 4.0410176e-01, 6.0116529e-01],\n",
       "       [9.9759793e-01, 1.1889564e-09, 1.0000000e+00],\n",
       "       [8.1453270e-01, 6.4082406e-03, 9.9517357e-01],\n",
       "       [7.6969457e-01, 1.6100051e-02, 9.8719645e-01],\n",
       "       [9.1790831e-01, 2.6670206e-04, 9.9983245e-01],\n",
       "       [9.5427269e-01, 3.1799671e-05, 9.9998230e-01],\n",
       "       [5.6944972e-01, 9.5979983e-01, 9.0655786e-01],\n",
       "       [7.1621549e-01, 4.0874727e-02, 9.6557182e-01],\n",
       "       [7.7157897e-01, 1.5534407e-02, 9.8767275e-01],\n",
       "       [5.0606430e-01, 5.6837344e-01, 5.4911244e-01],\n",
       "       [6.4130861e-01, 9.9863273e-01, 9.9118239e-01],\n",
       "       [5.7448339e-01, 9.6789682e-01, 9.1978353e-01],\n",
       "       [5.6351602e-01, 2.9511148e-01, 7.1501523e-01],\n",
       "       [5.1434553e-01, 6.5729839e-01, 6.1453414e-01],\n",
       "       [5.0807208e-01, 5.9058219e-01, 5.6521839e-01],\n",
       "       [9.8232406e-01, 1.1285624e-06, 9.9999946e-01],\n",
       "       [6.2018293e-01, 1.5825249e-01, 8.5392535e-01],\n",
       "       [5.5853063e-01, 9.3516922e-01, 8.7117916e-01],\n",
       "       [6.3259524e-01, 9.9790466e-01, 9.8806065e-01],\n",
       "       [6.3447624e-01, 1.3242333e-01, 8.7931073e-01],\n",
       "       [6.2711579e-01, 9.9726593e-01, 9.8558390e-01],\n",
       "       [5.0000113e-01, 4.9999782e-01, 4.9999341e-01],\n",
       "       [7.7707428e-01, 1.3977434e-02, 9.8897815e-01],\n",
       "       [6.0498935e-01, 9.9213535e-01, 9.6966016e-01],\n",
       "       [8.9586085e-01, 6.5163081e-04, 9.9956942e-01],\n",
       "       [7.7746326e-01, 1.3872270e-02, 9.8906600e-01],\n",
       "       [8.7770337e-01, 1.2077856e-03, 9.9917346e-01],\n",
       "       [8.0671310e-01, 7.6141851e-03, 9.9420732e-01],\n",
       "       [5.0000113e-01, 4.9999782e-01, 4.9999341e-01],\n",
       "       [8.9922643e-01, 5.7524518e-04, 9.9962258e-01],\n",
       "       [5.4499078e-01, 8.8571107e-01, 8.1252074e-01],\n",
       "       [5.2914512e-01, 7.8990835e-01, 7.2080708e-01],\n",
       "       [9.6770364e-01, 9.2677938e-06, 9.9999517e-01],\n",
       "       [7.8507984e-01, 1.1940238e-02, 9.9067241e-01],\n",
       "       [6.5204144e-01, 1.0520872e-01, 9.0564758e-01],\n",
       "       [7.9901016e-01, 8.9759231e-03, 9.9310523e-01],\n",
       "       [7.8827024e-01, 1.1199412e-02, 9.9128425e-01],\n",
       "       [6.1789471e-01, 9.9573880e-01, 9.8027551e-01],\n",
       "       [7.0653290e-01, 4.7663324e-02, 9.5945704e-01],\n",
       "       [6.9443178e-01, 5.7424769e-02, 9.5055920e-01],\n",
       "       [5.6782013e-01, 9.5678806e-01, 9.0188271e-01],\n",
       "       [5.5400240e-01, 3.2318887e-01, 6.8587446e-01],\n",
       "       [7.3886365e-01, 9.9999249e-01, 9.9978673e-01],\n",
       "       [6.0847390e-01, 9.9332833e-01, 9.7296369e-01],\n",
       "       [9.0502471e-01, 4.5990327e-04, 9.9970210e-01],\n",
       "       [6.5248454e-01, 1.0458350e-01, 9.0624702e-01],\n",
       "       [9.8750609e-01, 3.3971912e-07, 9.9999988e-01],\n",
       "       [6.0825926e-01, 1.8246183e-01, 8.2984060e-01],\n",
       "       [5.4265624e-01, 3.5824406e-01, 6.4928842e-01],\n",
       "       [6.9424903e-01, 5.7583824e-02, 9.5041329e-01],\n",
       "       [8.3338177e-01, 4.1230698e-03, 9.9697304e-01],\n",
       "       [6.0511708e-01, 9.9218249e-01, 9.6978766e-01],\n",
       "       [7.7068251e-01, 9.9999893e-01, 9.9994731e-01],\n",
       "       [8.2704490e-01, 4.8026256e-03, 9.9644291e-01],\n",
       "       [6.4180887e-01, 9.9866599e-01, 9.9133557e-01],\n",
       "       [7.9961491e-01, 8.8623213e-03, 9.9319756e-01],\n",
       "       [5.7704961e-01, 9.7140175e-01, 9.2586190e-01],\n",
       "       [6.6960001e-01, 9.9966991e-01, 9.9679774e-01],\n",
       "       [6.8996322e-01, 6.1418943e-02, 9.4688636e-01],\n",
       "       [6.7489749e-01, 7.6585934e-02, 9.3279028e-01],\n",
       "       [6.5796441e-01, 9.7089753e-02, 9.1341048e-01],\n",
       "       [6.1682576e-01, 9.9551529e-01, 9.7955179e-01],\n",
       "       [7.1850324e-01, 3.9393321e-02, 9.6689737e-01],\n",
       "       [7.8869325e-01, 9.9999970e-01, 9.9997753e-01],\n",
       "       [5.1928985e-01, 7.0598537e-01, 6.5188336e-01],\n",
       "       [6.7482954e-01, 9.9974781e-01, 9.9735802e-01],\n",
       "       [5.7363504e-01, 9.6665078e-01, 9.1767853e-01],\n",
       "       [5.1305360e-01, 6.4395970e-01, 6.0453141e-01],\n",
       "       [6.6123080e-01, 9.2828795e-02, 9.1746533e-01],\n",
       "       [8.1370127e-01, 6.5285894e-03, 9.9507761e-01],\n",
       "       [9.5213568e-01, 3.7441383e-05, 9.9997896e-01],\n",
       "       [5.6923485e-01, 9.5941424e-01, 9.0595263e-01],\n",
       "       [5.2190018e-01, 7.3000526e-01, 6.7091519e-01],\n",
       "       [9.9795973e-01, 6.8071215e-10, 1.0000000e+00],\n",
       "       [9.4918054e-01, 4.6412308e-05, 9.9997360e-01],\n",
       "       [5.7189047e-01, 9.6394187e-01, 9.1319400e-01],\n",
       "       [6.8154937e-01, 9.9982214e-01, 9.9794173e-01],\n",
       "       [9.1111535e-01, 3.5864924e-04, 9.9977094e-01],\n",
       "       [7.2022355e-01, 9.9999470e-01, 9.9989319e-01],\n",
       "       [6.0253823e-01, 9.9994045e-01, 9.9980271e-01],\n",
       "       [9.4211805e-01, 7.4182986e-05, 9.9995667e-01],\n",
       "       [7.9836506e-01, 9.9999982e-01, 9.9998611e-01],\n",
       "       [6.2360066e-01, 9.9676013e-01, 9.8374480e-01],\n",
       "       [6.9804299e-01, 9.9992585e-01, 9.9889892e-01],\n",
       "       [5.4929310e-01, 9.0419245e-01, 8.3307630e-01],\n",
       "       [9.9668103e-01, 3.5904502e-09, 1.0000000e+00],\n",
       "       [8.6837894e-01, 1.6084075e-03, 9.9888122e-01],\n",
       "       [8.1980962e-01, 5.6854757e-03, 9.9574763e-01],\n",
       "       [9.1222417e-01, 3.4221105e-04, 9.9978197e-01],\n",
       "       [7.3213184e-01, 9.9998891e-01, 9.9971747e-01],\n",
       "       [8.9557397e-01, 6.5848342e-04, 9.9956465e-01],\n",
       "       [9.0706980e-01, 4.2375689e-04, 9.9972677e-01],\n",
       "       [9.2182654e-01, 2.2250607e-04, 9.9986166e-01],\n",
       "       [5.8153999e-01, 9.7667158e-01, 9.3550724e-01],\n",
       "       [8.1240761e-01, 6.7194686e-03, 9.9492520e-01],\n",
       "       [9.7212106e-01, 5.5272380e-06, 9.9999720e-01],\n",
       "       [5.9948510e-01, 9.8981625e-01, 9.6365720e-01],\n",
       "       [6.8543094e-01, 6.5698728e-02, 9.4293183e-01],\n",
       "       [5.3795063e-01, 8.4888482e-01, 7.7487057e-01],\n",
       "       [9.5862859e-01, 2.2258575e-05, 9.9998784e-01],\n",
       "       [5.9171039e-01, 9.8537695e-01, 9.5326507e-01],\n",
       "       [7.6028931e-01, 1.9182973e-02, 9.8458260e-01],\n",
       "       [7.1364826e-01, 4.2591594e-02, 9.6403158e-01],\n",
       "       [5.1553142e-01, 6.6932982e-01, 6.2363309e-01],\n",
       "       [5.0000113e-01, 4.9999782e-01, 4.9999341e-01],\n",
       "       [6.3629591e-01, 9.9825108e-01, 9.8949748e-01],\n",
       "       [5.2177912e-01, 7.2891903e-01, 6.7004424e-01],\n",
       "       [6.4435279e-01, 1.1652909e-01, 8.9474851e-01],\n",
       "       [7.4873763e-01, 9.9999583e-01, 9.9985999e-01],\n",
       "       [8.5221940e-01, 2.5422513e-03, 9.9818474e-01],\n",
       "       [5.6186092e-01, 9.4387102e-01, 8.8301331e-01],\n",
       "       [5.2323073e-01, 4.2141849e-01, 5.8293504e-01],\n",
       "       [5.9193712e-01, 9.8552966e-01, 9.5360380e-01],\n",
       "       [8.2220012e-01, 5.3804629e-03, 9.9598861e-01],\n",
       "       [8.8102305e-01, 1.0857173e-03, 9.9926150e-01]], dtype=float32)"
      ]
     },
     "execution_count": 41,
     "metadata": {},
     "output_type": "execute_result"
    }
   ],
   "source": [
    "y_pred"
   ]
  },
  {
   "cell_type": "code",
   "execution_count": 42,
   "metadata": {
    "execution": {
     "iopub.execute_input": "2022-08-01T18:18:48.515707Z",
     "iopub.status.busy": "2022-08-01T18:18:48.51548Z",
     "iopub.status.idle": "2022-08-01T18:18:48.700652Z",
     "shell.execute_reply": "2022-08-01T18:18:48.699916Z",
     "shell.execute_reply.started": "2022-08-01T18:18:48.515679Z"
    },
    "pycharm": {
     "name": "#%%\n"
    },
    "trusted": true
   },
   "outputs": [
    {
     "name": "stdout",
     "output_type": "stream",
     "text": [
      "              precision    recall  f1-score   support\n",
      "\n",
      "           0       1.00      0.79      0.88       120\n",
      "           1       0.48      0.52      0.50        50\n",
      "           2       0.98      0.44      0.60       117\n",
      "\n",
      "   micro avg       0.86      0.60      0.70       287\n",
      "   macro avg       0.82      0.58      0.66       287\n",
      "weighted avg       0.90      0.60      0.70       287\n",
      " samples avg       0.69      0.61      0.62       287\n",
      "\n"
     ]
    },
    {
     "name": "stderr",
     "output_type": "stream",
     "text": [
      "C:\\Users\\Jackson\\AppData\\Roaming\\Python\\Python310\\site-packages\\sklearn\\metrics\\_classification.py:1334: UndefinedMetricWarning: Precision and F-score are ill-defined and being set to 0.0 in samples with no predicted labels. Use `zero_division` parameter to control this behavior.\n",
      "  _warn_prf(average, modifier, msg_start, len(result))\n"
     ]
    }
   ],
   "source": [
    "from sklearn.metrics import classification_report\n",
    "# \n",
    "print(classification_report(y_pred.round(), axial_labels_valid))"
   ]
  },
  {
   "cell_type": "code",
   "execution_count": 43,
   "metadata": {
    "pycharm": {
     "name": "#%%\n"
    }
   },
   "outputs": [
    {
     "name": "stdout",
     "output_type": "stream",
     "text": [
      "Abnormal MRI AUC: 0.5789473684210525\n",
      "ACL Injury AUC: 0.5789473684210525\n",
      "Meniscus Injury AUC: 0.5789473684210525\n"
     ]
    }
   ],
   "source": [
    "from sklearn.metrics import roc_auc_score\n",
    "ypreds_abnormal = list(y_pred[:,0])\n",
    "ytrue_abnormal = list(np.array(axial_labels_valid)[:,0])\n",
    "auc_abnormal = roc_auc_score(y_score= ypreds_abnormal, y_true= ytrue_abnormal)\n",
    "\n",
    "ypreds_acl = list(y_pred[:,0])\n",
    "ytrue_acl = list(np.array(axial_labels_valid)[:,0])\n",
    "auc_acl = roc_auc_score(y_score= ypreds_acl, y_true= ytrue_acl)\n",
    "\n",
    "\n",
    "ypreds_meniscus = list(y_pred[:,0])\n",
    "ytrue_meniscus = list(np.array(axial_labels_valid)[:,0])\n",
    "auc_meniscus = roc_auc_score(y_score= ypreds_meniscus, y_true= ytrue_meniscus)\n",
    "\n",
    "\n",
    "print(\n",
    "    \"Abnormal MRI AUC: \" + str(auc_abnormal) + \n",
    "    \"\\nACL Injury AUC: \" + str(auc_acl) +\n",
    "    \"\\nMeniscus Injury AUC: \" + str(auc_meniscus)\n",
    ")\n"
   ]
  },
  {
   "cell_type": "code",
   "execution_count": 44,
   "metadata": {},
   "outputs": [
    {
     "name": "stdout",
     "output_type": "stream",
     "text": [
      "Defaulting to user installation because normal site-packages is not writeable\n",
      "Requirement already satisfied: tensorflow in c:\\users\\jackson\\appdata\\roaming\\python\\python310\\site-packages (2.11.0)\n",
      "Requirement already satisfied: tensorflow-intel==2.11.0 in c:\\users\\jackson\\appdata\\roaming\\python\\python310\\site-packages (from tensorflow) (2.11.0)\n",
      "Requirement already satisfied: protobuf<3.20,>=3.9.2 in c:\\users\\jackson\\appdata\\roaming\\python\\python310\\site-packages (from tensorflow-intel==2.11.0->tensorflow) (3.19.6)\n",
      "Requirement already satisfied: grpcio<2.0,>=1.24.3 in c:\\users\\jackson\\appdata\\roaming\\python\\python310\\site-packages (from tensorflow-intel==2.11.0->tensorflow) (1.49.1)\n",
      "Requirement already satisfied: six>=1.12.0 in c:\\users\\jackson\\appdata\\roaming\\python\\python310\\site-packages (from tensorflow-intel==2.11.0->tensorflow) (1.16.0)\n",
      "Requirement already satisfied: libclang>=13.0.0 in c:\\users\\jackson\\appdata\\roaming\\python\\python310\\site-packages (from tensorflow-intel==2.11.0->tensorflow) (14.0.6)\n",
      "Requirement already satisfied: google-pasta>=0.1.1 in c:\\users\\jackson\\appdata\\roaming\\python\\python310\\site-packages (from tensorflow-intel==2.11.0->tensorflow) (0.2.0)\n",
      "Requirement already satisfied: tensorboard<2.12,>=2.11 in c:\\users\\jackson\\appdata\\roaming\\python\\python310\\site-packages (from tensorflow-intel==2.11.0->tensorflow) (2.11.0)\n",
      "Requirement already satisfied: packaging in c:\\users\\jackson\\appdata\\roaming\\python\\python310\\site-packages (from tensorflow-intel==2.11.0->tensorflow) (21.3)\n",
      "Requirement already satisfied: absl-py>=1.0.0 in c:\\users\\jackson\\appdata\\roaming\\python\\python310\\site-packages (from tensorflow-intel==2.11.0->tensorflow) (1.2.0)\n",
      "Requirement already satisfied: tensorflow-io-gcs-filesystem>=0.23.1 in c:\\users\\jackson\\appdata\\roaming\\python\\python310\\site-packages (from tensorflow-intel==2.11.0->tensorflow) (0.27.0)\n",
      "Requirement already satisfied: opt-einsum>=2.3.2 in c:\\users\\jackson\\appdata\\roaming\\python\\python310\\site-packages (from tensorflow-intel==2.11.0->tensorflow) (3.3.0)\n",
      "Requirement already satisfied: astunparse>=1.6.0 in c:\\users\\jackson\\appdata\\roaming\\python\\python310\\site-packages (from tensorflow-intel==2.11.0->tensorflow) (1.6.3)\n",
      "Requirement already satisfied: flatbuffers>=2.0 in c:\\users\\jackson\\appdata\\roaming\\python\\python310\\site-packages (from tensorflow-intel==2.11.0->tensorflow) (22.9.24)\n",
      "Requirement already satisfied: wrapt>=1.11.0 in c:\\users\\jackson\\appdata\\roaming\\python\\python310\\site-packages (from tensorflow-intel==2.11.0->tensorflow) (1.14.1)\n",
      "Requirement already satisfied: setuptools in c:\\program files\\python310\\lib\\site-packages (from tensorflow-intel==2.11.0->tensorflow) (63.2.0)\n",
      "Requirement already satisfied: typing-extensions>=3.6.6 in c:\\program files\\python310\\lib\\site-packages (from tensorflow-intel==2.11.0->tensorflow) (4.4.0)\n",
      "Requirement already satisfied: gast<=0.4.0,>=0.2.1 in c:\\users\\jackson\\appdata\\roaming\\python\\python310\\site-packages (from tensorflow-intel==2.11.0->tensorflow) (0.4.0)\n",
      "Requirement already satisfied: h5py>=2.9.0 in c:\\users\\jackson\\appdata\\roaming\\python\\python310\\site-packages (from tensorflow-intel==2.11.0->tensorflow) (3.7.0)\n",
      "Requirement already satisfied: termcolor>=1.1.0 in c:\\users\\jackson\\appdata\\roaming\\python\\python310\\site-packages (from tensorflow-intel==2.11.0->tensorflow) (2.0.1)\n",
      "Requirement already satisfied: tensorflow-estimator<2.12,>=2.11.0 in c:\\users\\jackson\\appdata\\roaming\\python\\python310\\site-packages (from tensorflow-intel==2.11.0->tensorflow) (2.11.0)\n",
      "Requirement already satisfied: numpy>=1.20 in c:\\users\\jackson\\appdata\\roaming\\python\\python310\\site-packages (from tensorflow-intel==2.11.0->tensorflow) (1.23.3)\n",
      "Requirement already satisfied: keras<2.12,>=2.11.0 in c:\\users\\jackson\\appdata\\roaming\\python\\python310\\site-packages (from tensorflow-intel==2.11.0->tensorflow) (2.11.0)\n",
      "Requirement already satisfied: wheel<1.0,>=0.23.0 in c:\\users\\jackson\\appdata\\roaming\\python\\python310\\site-packages (from astunparse>=1.6.0->tensorflow-intel==2.11.0->tensorflow) (0.37.1)\n",
      "Requirement already satisfied: google-auth<3,>=1.6.3 in c:\\users\\jackson\\appdata\\roaming\\python\\python310\\site-packages (from tensorboard<2.12,>=2.11->tensorflow-intel==2.11.0->tensorflow) (2.12.0)\n",
      "Requirement already satisfied: tensorboard-plugin-wit>=1.6.0 in c:\\users\\jackson\\appdata\\roaming\\python\\python310\\site-packages (from tensorboard<2.12,>=2.11->tensorflow-intel==2.11.0->tensorflow) (1.8.1)\n",
      "Requirement already satisfied: tensorboard-data-server<0.7.0,>=0.6.0 in c:\\users\\jackson\\appdata\\roaming\\python\\python310\\site-packages (from tensorboard<2.12,>=2.11->tensorflow-intel==2.11.0->tensorflow) (0.6.1)\n",
      "Requirement already satisfied: werkzeug>=1.0.1 in c:\\users\\jackson\\appdata\\roaming\\python\\python310\\site-packages (from tensorboard<2.12,>=2.11->tensorflow-intel==2.11.0->tensorflow) (2.2.2)\n",
      "Requirement already satisfied: requests<3,>=2.21.0 in c:\\program files\\python310\\lib\\site-packages (from tensorboard<2.12,>=2.11->tensorflow-intel==2.11.0->tensorflow) (2.28.1)\n",
      "Requirement already satisfied: google-auth-oauthlib<0.5,>=0.4.1 in c:\\users\\jackson\\appdata\\roaming\\python\\python310\\site-packages (from tensorboard<2.12,>=2.11->tensorflow-intel==2.11.0->tensorflow) (0.4.6)\n",
      "Requirement already satisfied: markdown>=2.6.8 in c:\\users\\jackson\\appdata\\roaming\\python\\python310\\site-packages (from tensorboard<2.12,>=2.11->tensorflow-intel==2.11.0->tensorflow) (3.4.1)\n",
      "Requirement already satisfied: pyparsing!=3.0.5,>=2.0.2 in c:\\users\\jackson\\appdata\\roaming\\python\\python310\\site-packages (from packaging->tensorflow-intel==2.11.0->tensorflow) (3.0.9)\n",
      "Requirement already satisfied: rsa<5,>=3.1.4 in c:\\users\\jackson\\appdata\\roaming\\python\\python310\\site-packages (from google-auth<3,>=1.6.3->tensorboard<2.12,>=2.11->tensorflow-intel==2.11.0->tensorflow) (4.9)\n",
      "Requirement already satisfied: cachetools<6.0,>=2.0.0 in c:\\users\\jackson\\appdata\\roaming\\python\\python310\\site-packages (from google-auth<3,>=1.6.3->tensorboard<2.12,>=2.11->tensorflow-intel==2.11.0->tensorflow) (5.2.0)\n",
      "Requirement already satisfied: pyasn1-modules>=0.2.1 in c:\\users\\jackson\\appdata\\roaming\\python\\python310\\site-packages (from google-auth<3,>=1.6.3->tensorboard<2.12,>=2.11->tensorflow-intel==2.11.0->tensorflow) (0.2.8)\n",
      "Requirement already satisfied: requests-oauthlib>=0.7.0 in c:\\users\\jackson\\appdata\\roaming\\python\\python310\\site-packages (from google-auth-oauthlib<0.5,>=0.4.1->tensorboard<2.12,>=2.11->tensorflow-intel==2.11.0->tensorflow) (1.3.1)\n",
      "Requirement already satisfied: charset-normalizer<3,>=2 in c:\\program files\\python310\\lib\\site-packages (from requests<3,>=2.21.0->tensorboard<2.12,>=2.11->tensorflow-intel==2.11.0->tensorflow) (2.1.1)\n",
      "Requirement already satisfied: urllib3<1.27,>=1.21.1 in c:\\program files\\python310\\lib\\site-packages (from requests<3,>=2.21.0->tensorboard<2.12,>=2.11->tensorflow-intel==2.11.0->tensorflow) (1.26.12)\n",
      "Requirement already satisfied: certifi>=2017.4.17 in c:\\program files\\python310\\lib\\site-packages (from requests<3,>=2.21.0->tensorboard<2.12,>=2.11->tensorflow-intel==2.11.0->tensorflow) (2022.9.24)\n",
      "Requirement already satisfied: idna<4,>=2.5 in c:\\program files\\python310\\lib\\site-packages (from requests<3,>=2.21.0->tensorboard<2.12,>=2.11->tensorflow-intel==2.11.0->tensorflow) (3.4)\n",
      "Requirement already satisfied: MarkupSafe>=2.1.1 in c:\\users\\jackson\\appdata\\roaming\\python\\python310\\site-packages (from werkzeug>=1.0.1->tensorboard<2.12,>=2.11->tensorflow-intel==2.11.0->tensorflow) (2.1.1)\n",
      "Requirement already satisfied: pyasn1<0.5.0,>=0.4.6 in c:\\users\\jackson\\appdata\\roaming\\python\\python310\\site-packages (from pyasn1-modules>=0.2.1->google-auth<3,>=1.6.3->tensorboard<2.12,>=2.11->tensorflow-intel==2.11.0->tensorflow) (0.4.8)\n",
      "Requirement already satisfied: oauthlib>=3.0.0 in c:\\users\\jackson\\appdata\\roaming\\python\\python310\\site-packages (from requests-oauthlib>=0.7.0->google-auth-oauthlib<0.5,>=0.4.1->tensorboard<2.12,>=2.11->tensorflow-intel==2.11.0->tensorflow) (3.2.1)\n"
     ]
    },
    {
     "name": "stderr",
     "output_type": "stream",
     "text": [
      "WARNING: Ignoring invalid distribution -ensorflow-gpu (c:\\users\\jackson\\appdata\\roaming\\python\\python310\\site-packages)\n",
      "WARNING: Ignoring invalid distribution -ensorflow-gpu (c:\\users\\jackson\\appdata\\roaming\\python\\python310\\site-packages)\n",
      "WARNING: Ignoring invalid distribution -ensorflow-gpu (c:\\users\\jackson\\appdata\\roaming\\python\\python310\\site-packages)\n",
      "WARNING: Ignoring invalid distribution -ensorflow-gpu (c:\\users\\jackson\\appdata\\roaming\\python\\python310\\site-packages)\n",
      "WARNING: Ignoring invalid distribution -ensorflow-gpu (c:\\users\\jackson\\appdata\\roaming\\python\\python310\\site-packages)\n",
      "WARNING: Ignoring invalid distribution -ensorflow-gpu (c:\\users\\jackson\\appdata\\roaming\\python\\python310\\site-packages)\n",
      "\n",
      "[notice] A new release of pip available: 22.2.2 -> 22.3.1\n",
      "[notice] To update, run: python.exe -m pip install --upgrade pip\n"
     ]
    }
   ],
   "source": [
    "!pip3 install tensorflow"
   ]
  },
  {
   "cell_type": "code",
   "execution_count": 45,
   "metadata": {},
   "outputs": [
    {
     "name": "stdout",
     "output_type": "stream",
     "text": [
      "False\n",
      "False\n",
      "True\n"
     ]
    }
   ],
   "source": [
    "import tensorflow as tf\n",
    "print(tf.test.is_built_with_cuda())\n",
    "print(tf.test.is_gpu_available(cuda_only=False, min_cuda_compute_capability=None))\n",
    "\n",
    "import torch\n",
    "print(torch.cuda.is_available())"
   ]
  }
 ],
 "metadata": {
  "kernelspec": {
   "display_name": "Python 3.10.7 64-bit",
   "language": "python",
   "name": "python3"
  },
  "language_info": {
   "codemirror_mode": {
    "name": "ipython",
    "version": 3
   },
   "file_extension": ".py",
   "mimetype": "text/x-python",
   "name": "python",
   "nbconvert_exporter": "python",
   "pygments_lexer": "ipython3",
   "version": "3.10.7"
  },
  "vscode": {
   "interpreter": {
    "hash": "26de051ba29f2982a8de78e945f0abaf191376122a1563185a90213a26c5da77"
   }
  }
 },
 "nbformat": 4,
 "nbformat_minor": 4
}
