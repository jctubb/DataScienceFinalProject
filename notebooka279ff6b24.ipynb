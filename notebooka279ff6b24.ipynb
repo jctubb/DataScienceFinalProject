{
 "cells": [
  {
   "cell_type": "markdown",
   "metadata": {
    "pycharm": {
     "name": "#%% md\n"
    }
   },
   "source": [
    "## Import Libraries"
   ]
  },
  {
   "cell_type": "code",
   "execution_count": 67,
   "metadata": {
    "execution": {
     "iopub.execute_input": "2022-08-01T18:12:33.855305Z",
     "iopub.status.busy": "2022-08-01T18:12:33.854987Z",
     "iopub.status.idle": "2022-08-01T18:12:35.073506Z",
     "shell.execute_reply": "2022-08-01T18:12:35.072769Z",
     "shell.execute_reply.started": "2022-08-01T18:12:33.855223Z"
    },
    "pycharm": {
     "name": "#%%\n"
    },
    "trusted": true
   },
   "outputs": [],
   "source": [
    "import glob\n",
    "import os\n",
    "\n",
    "import pandas as pd\n",
    "import numpy as np\n",
    "from numpy import zeros, newaxis\n",
    "import cv2\n",
    "\n",
    "import matplotlib.pyplot as plt\n",
    "import seaborn"
   ]
  },
  {
   "cell_type": "markdown",
   "metadata": {
    "pycharm": {
     "name": "#%% md\n"
    }
   },
   "source": [
    "## Read Data"
   ]
  },
  {
   "cell_type": "code",
   "execution_count": 68,
   "metadata": {
    "execution": {
     "iopub.execute_input": "2022-08-01T18:12:39.366043Z",
     "iopub.status.busy": "2022-08-01T18:12:39.365367Z",
     "iopub.status.idle": "2022-08-01T18:12:39.478716Z",
     "shell.execute_reply": "2022-08-01T18:12:39.477939Z",
     "shell.execute_reply.started": "2022-08-01T18:12:39.366006Z"
    },
    "pycharm": {
     "name": "#%%\n"
    },
    "trusted": true
   },
   "outputs": [],
   "source": [
    "axial_image = 'MRNet-v1.0/train/axial/0000.npy'\n",
    "coronal_image = 'MRNet-v1.0/train/coronal/0000.npy'\n",
    "saggital_image = 'MRNet-v1.0/train/sagittal/0000.npy'\n",
    "\n",
    "\n",
    "img_array_axial = np.load(axial_image)\n",
    "img_array_coronal = np.load(coronal_image)\n",
    "img_array_sagittal = np.load(saggital_image)"
   ]
  },
  {
   "cell_type": "code",
   "execution_count": 69,
   "metadata": {
    "execution": {
     "iopub.execute_input": "2022-08-01T18:12:44.018551Z",
     "iopub.status.busy": "2022-08-01T18:12:44.018272Z",
     "iopub.status.idle": "2022-08-01T18:12:44.022791Z",
     "shell.execute_reply": "2022-08-01T18:12:44.022063Z",
     "shell.execute_reply.started": "2022-08-01T18:12:44.018517Z"
    },
    "pycharm": {
     "name": "#%%\n"
    },
    "trusted": true
   },
   "outputs": [],
   "source": [
    "abnormal_path_train =  'MRNet-v1.0/train-abnormal.csv'\n",
    "acl_path_train = 'MRNet-v1.0/train-acl.csv'\n",
    "meniscus_train =  'MRNet-v1.0/train-meniscus.csv'\n",
    "\n",
    "\n",
    "abnormal_path_valid =  'MRNet-v1.0/valid-abnormal.csv'\n",
    "acl_path_valid = 'MRNet-v1.0/valid-acl.csv'\n",
    "meniscus_valid =  'MRNet-v1.0/valid-meniscus.csv'\n"
   ]
  },
  {
   "cell_type": "code",
   "execution_count": 70,
   "metadata": {
    "execution": {
     "iopub.execute_input": "2022-08-01T18:12:47.238631Z",
     "iopub.status.busy": "2022-08-01T18:12:47.238075Z",
     "iopub.status.idle": "2022-08-01T18:12:47.246725Z",
     "shell.execute_reply": "2022-08-01T18:12:47.245741Z",
     "shell.execute_reply.started": "2022-08-01T18:12:47.238595Z"
    },
    "pycharm": {
     "name": "#%%\n"
    },
    "trusted": true
   },
   "outputs": [],
   "source": [
    "def load_labels(abnormal_path, acl_path, meniscus_path):\n",
    "    \n",
    "    df_labels_abnormal =  pd.read_csv(abnormal_path, names=['Image_Name', 'Abnormal_Label'])\n",
    "    df_labels_acl = pd.read_csv(acl_path, names=['Image_Name', 'Acl_Label'])\n",
    "    df_labels_meniscus = pd.read_csv(meniscus_path, names=['Image_Name', 'Meniscus_Label'])\n",
    "    \n",
    "    df_lables_combined = pd.merge(df_labels_abnormal, df_labels_acl, how = 'left', left_on=['Image_Name'], right_on=['Image_Name'])\n",
    "    df_lables_combined = pd.merge(df_lables_combined, df_labels_meniscus, how = 'left', left_on=['Image_Name'], right_on=['Image_Name'])\n",
    "    df_lables_combined['Image_Name'] = df_lables_combined['Image_Name'].astype(str)\n",
    "    df_lables_combined['Image_Name'] = df_lables_combined['Image_Name'].apply(lambda x: x.zfill(4))\n",
    "    \n",
    "    return df_lables_combined"
   ]
  },
  {
   "cell_type": "code",
   "execution_count": 71,
   "metadata": {
    "execution": {
     "iopub.execute_input": "2022-08-01T18:12:50.034805Z",
     "iopub.status.busy": "2022-08-01T18:12:50.034263Z",
     "iopub.status.idle": "2022-08-01T18:12:50.090029Z",
     "shell.execute_reply": "2022-08-01T18:12:50.08935Z",
     "shell.execute_reply.started": "2022-08-01T18:12:50.03477Z"
    },
    "pycharm": {
     "name": "#%%\n"
    },
    "trusted": true
   },
   "outputs": [
    {
     "data": {
      "text/html": [
       "<div>\n",
       "<style scoped>\n",
       "    .dataframe tbody tr th:only-of-type {\n",
       "        vertical-align: middle;\n",
       "    }\n",
       "\n",
       "    .dataframe tbody tr th {\n",
       "        vertical-align: top;\n",
       "    }\n",
       "\n",
       "    .dataframe thead th {\n",
       "        text-align: right;\n",
       "    }\n",
       "</style>\n",
       "<table border=\"1\" class=\"dataframe\">\n",
       "  <thead>\n",
       "    <tr style=\"text-align: right;\">\n",
       "      <th></th>\n",
       "      <th>Image_Name</th>\n",
       "      <th>Abnormal_Label</th>\n",
       "      <th>Acl_Label</th>\n",
       "      <th>Meniscus_Label</th>\n",
       "    </tr>\n",
       "  </thead>\n",
       "  <tbody>\n",
       "    <tr>\n",
       "      <th>0</th>\n",
       "      <td>0000</td>\n",
       "      <td>1</td>\n",
       "      <td>0</td>\n",
       "      <td>0</td>\n",
       "    </tr>\n",
       "    <tr>\n",
       "      <th>1</th>\n",
       "      <td>0001</td>\n",
       "      <td>1</td>\n",
       "      <td>1</td>\n",
       "      <td>1</td>\n",
       "    </tr>\n",
       "    <tr>\n",
       "      <th>2</th>\n",
       "      <td>0002</td>\n",
       "      <td>1</td>\n",
       "      <td>0</td>\n",
       "      <td>0</td>\n",
       "    </tr>\n",
       "    <tr>\n",
       "      <th>3</th>\n",
       "      <td>0003</td>\n",
       "      <td>1</td>\n",
       "      <td>0</td>\n",
       "      <td>1</td>\n",
       "    </tr>\n",
       "    <tr>\n",
       "      <th>4</th>\n",
       "      <td>0004</td>\n",
       "      <td>1</td>\n",
       "      <td>0</td>\n",
       "      <td>0</td>\n",
       "    </tr>\n",
       "    <tr>\n",
       "      <th>...</th>\n",
       "      <td>...</td>\n",
       "      <td>...</td>\n",
       "      <td>...</td>\n",
       "      <td>...</td>\n",
       "    </tr>\n",
       "    <tr>\n",
       "      <th>1125</th>\n",
       "      <td>1125</td>\n",
       "      <td>1</td>\n",
       "      <td>0</td>\n",
       "      <td>1</td>\n",
       "    </tr>\n",
       "    <tr>\n",
       "      <th>1126</th>\n",
       "      <td>1126</td>\n",
       "      <td>1</td>\n",
       "      <td>0</td>\n",
       "      <td>1</td>\n",
       "    </tr>\n",
       "    <tr>\n",
       "      <th>1127</th>\n",
       "      <td>1127</td>\n",
       "      <td>0</td>\n",
       "      <td>0</td>\n",
       "      <td>0</td>\n",
       "    </tr>\n",
       "    <tr>\n",
       "      <th>1128</th>\n",
       "      <td>1128</td>\n",
       "      <td>1</td>\n",
       "      <td>0</td>\n",
       "      <td>0</td>\n",
       "    </tr>\n",
       "    <tr>\n",
       "      <th>1129</th>\n",
       "      <td>1129</td>\n",
       "      <td>1</td>\n",
       "      <td>1</td>\n",
       "      <td>0</td>\n",
       "    </tr>\n",
       "  </tbody>\n",
       "</table>\n",
       "<p>1130 rows × 4 columns</p>\n",
       "</div>"
      ],
      "text/plain": [
       "     Image_Name  Abnormal_Label  Acl_Label  Meniscus_Label\n",
       "0          0000               1          0               0\n",
       "1          0001               1          1               1\n",
       "2          0002               1          0               0\n",
       "3          0003               1          0               1\n",
       "4          0004               1          0               0\n",
       "...         ...             ...        ...             ...\n",
       "1125       1125               1          0               1\n",
       "1126       1126               1          0               1\n",
       "1127       1127               0          0               0\n",
       "1128       1128               1          0               0\n",
       "1129       1129               1          1               0\n",
       "\n",
       "[1130 rows x 4 columns]"
      ]
     },
     "execution_count": 71,
     "metadata": {},
     "output_type": "execute_result"
    }
   ],
   "source": [
    "# Load Train Labels\n",
    "df_labels_train = load_labels(abnormal_path_train, acl_path_train, meniscus_train)\n",
    "df_labels_train"
   ]
  },
  {
   "cell_type": "code",
   "execution_count": 72,
   "metadata": {
    "execution": {
     "iopub.execute_input": "2022-08-01T18:12:50.382897Z",
     "iopub.status.busy": "2022-08-01T18:12:50.382436Z",
     "iopub.status.idle": "2022-08-01T18:12:50.414066Z",
     "shell.execute_reply": "2022-08-01T18:12:50.413384Z",
     "shell.execute_reply.started": "2022-08-01T18:12:50.382861Z"
    },
    "pycharm": {
     "name": "#%%\n"
    },
    "trusted": true
   },
   "outputs": [
    {
     "data": {
      "text/html": [
       "<div>\n",
       "<style scoped>\n",
       "    .dataframe tbody tr th:only-of-type {\n",
       "        vertical-align: middle;\n",
       "    }\n",
       "\n",
       "    .dataframe tbody tr th {\n",
       "        vertical-align: top;\n",
       "    }\n",
       "\n",
       "    .dataframe thead th {\n",
       "        text-align: right;\n",
       "    }\n",
       "</style>\n",
       "<table border=\"1\" class=\"dataframe\">\n",
       "  <thead>\n",
       "    <tr style=\"text-align: right;\">\n",
       "      <th></th>\n",
       "      <th>Image_Name</th>\n",
       "      <th>Abnormal_Label</th>\n",
       "      <th>Acl_Label</th>\n",
       "      <th>Meniscus_Label</th>\n",
       "    </tr>\n",
       "  </thead>\n",
       "  <tbody>\n",
       "    <tr>\n",
       "      <th>0</th>\n",
       "      <td>1130</td>\n",
       "      <td>0</td>\n",
       "      <td>0</td>\n",
       "      <td>0</td>\n",
       "    </tr>\n",
       "    <tr>\n",
       "      <th>1</th>\n",
       "      <td>1131</td>\n",
       "      <td>0</td>\n",
       "      <td>0</td>\n",
       "      <td>0</td>\n",
       "    </tr>\n",
       "    <tr>\n",
       "      <th>2</th>\n",
       "      <td>1132</td>\n",
       "      <td>0</td>\n",
       "      <td>0</td>\n",
       "      <td>0</td>\n",
       "    </tr>\n",
       "    <tr>\n",
       "      <th>3</th>\n",
       "      <td>1133</td>\n",
       "      <td>0</td>\n",
       "      <td>0</td>\n",
       "      <td>0</td>\n",
       "    </tr>\n",
       "    <tr>\n",
       "      <th>4</th>\n",
       "      <td>1134</td>\n",
       "      <td>0</td>\n",
       "      <td>0</td>\n",
       "      <td>0</td>\n",
       "    </tr>\n",
       "    <tr>\n",
       "      <th>...</th>\n",
       "      <td>...</td>\n",
       "      <td>...</td>\n",
       "      <td>...</td>\n",
       "      <td>...</td>\n",
       "    </tr>\n",
       "    <tr>\n",
       "      <th>115</th>\n",
       "      <td>1245</td>\n",
       "      <td>1</td>\n",
       "      <td>1</td>\n",
       "      <td>1</td>\n",
       "    </tr>\n",
       "    <tr>\n",
       "      <th>116</th>\n",
       "      <td>1246</td>\n",
       "      <td>1</td>\n",
       "      <td>1</td>\n",
       "      <td>1</td>\n",
       "    </tr>\n",
       "    <tr>\n",
       "      <th>117</th>\n",
       "      <td>1247</td>\n",
       "      <td>1</td>\n",
       "      <td>0</td>\n",
       "      <td>1</td>\n",
       "    </tr>\n",
       "    <tr>\n",
       "      <th>118</th>\n",
       "      <td>1248</td>\n",
       "      <td>1</td>\n",
       "      <td>1</td>\n",
       "      <td>1</td>\n",
       "    </tr>\n",
       "    <tr>\n",
       "      <th>119</th>\n",
       "      <td>1249</td>\n",
       "      <td>1</td>\n",
       "      <td>0</td>\n",
       "      <td>1</td>\n",
       "    </tr>\n",
       "  </tbody>\n",
       "</table>\n",
       "<p>120 rows × 4 columns</p>\n",
       "</div>"
      ],
      "text/plain": [
       "    Image_Name  Abnormal_Label  Acl_Label  Meniscus_Label\n",
       "0         1130               0          0               0\n",
       "1         1131               0          0               0\n",
       "2         1132               0          0               0\n",
       "3         1133               0          0               0\n",
       "4         1134               0          0               0\n",
       "..         ...             ...        ...             ...\n",
       "115       1245               1          1               1\n",
       "116       1246               1          1               1\n",
       "117       1247               1          0               1\n",
       "118       1248               1          1               1\n",
       "119       1249               1          0               1\n",
       "\n",
       "[120 rows x 4 columns]"
      ]
     },
     "execution_count": 72,
     "metadata": {},
     "output_type": "execute_result"
    }
   ],
   "source": [
    "# Load Valid Labels\n",
    "df_labels_valid = load_labels(abnormal_path_valid, acl_path_valid, meniscus_valid)\n",
    "df_labels_valid"
   ]
  },
  {
   "cell_type": "code",
   "execution_count": 73,
   "metadata": {
    "execution": {
     "iopub.execute_input": "2022-08-01T18:12:53.82328Z",
     "iopub.status.busy": "2022-08-01T18:12:53.822763Z",
     "iopub.status.idle": "2022-08-01T18:12:53.832668Z",
     "shell.execute_reply": "2022-08-01T18:12:53.831847Z",
     "shell.execute_reply.started": "2022-08-01T18:12:53.823245Z"
    },
    "pycharm": {
     "name": "#%%\n"
    },
    "trusted": true
   },
   "outputs": [
    {
     "data": {
      "text/plain": [
       "['MRNet-v1.0\\\\train',\n",
       " 'MRNet-v1.0\\\\train-abnormal.csv',\n",
       " 'MRNet-v1.0\\\\train-acl.csv',\n",
       " 'MRNet-v1.0\\\\train-meniscus.csv',\n",
       " 'MRNet-v1.0\\\\valid',\n",
       " 'MRNet-v1.0\\\\valid-abnormal.csv',\n",
       " 'MRNet-v1.0\\\\valid-acl.csv',\n",
       " 'MRNet-v1.0\\\\valid-meniscus.csv']"
      ]
     },
     "execution_count": 73,
     "metadata": {},
     "output_type": "execute_result"
    }
   ],
   "source": [
    "glob.glob('MRNet-v1.0\\*')"
   ]
  },
  {
   "cell_type": "code",
   "execution_count": 74,
   "metadata": {
    "execution": {
     "iopub.execute_input": "2022-08-01T18:15:13.958225Z",
     "iopub.status.busy": "2022-08-01T18:15:13.957679Z",
     "iopub.status.idle": "2022-08-01T18:15:13.970992Z",
     "shell.execute_reply": "2022-08-01T18:15:13.970307Z",
     "shell.execute_reply.started": "2022-08-01T18:15:13.958189Z"
    },
    "pycharm": {
     "name": "#%%\n"
    },
    "trusted": true
   },
   "outputs": [
    {
     "name": "stdout",
     "output_type": "stream",
     "text": [
      "Total samples in data: 1130\n",
      "Loading Data From :    MRNet-v1.0\\train\\axial\n",
      "Loading Complete From :    MRNet-v1.0\\train\\axial\n",
      "\n",
      "\n",
      "\n",
      "Total samples in data: 1130\n",
      "Loading Data From :    MRNet-v1.0\\train\\coronal\n",
      "Loading Complete From :    MRNet-v1.0\\train\\coronal\n",
      "\n",
      "\n",
      "\n",
      "Total samples in data: 1130\n",
      "Loading Data From :    MRNet-v1.0\\train\\sagittal\n",
      "Loading Complete From :    MRNet-v1.0\\train\\sagittal\n",
      "\n",
      "\n",
      "\n"
     ]
    }
   ],
   "source": [
    "# Read Traning Data\n",
    "def read_data(train_path, df_labels):\n",
    "    axial_images = []\n",
    "    coronal_images = []\n",
    "    sagittal_images = []\n",
    "\n",
    "    axial_labels = []\n",
    "    coronal_labels = []\n",
    "    sagittal_labels = []\n",
    "\n",
    "    # train_path = '/kaggle/input/mrnet-v1/MRNet-v1.0/train'\n",
    "    train_folders = glob.glob(train_path + '/*')\n",
    "    \n",
    "    for folder in train_folders:\n",
    "        train_data = glob.glob(folder + '/*.npy')\n",
    "        print('Total samples in data:', len(train_data))\n",
    "        print('Loading Data From :   ', folder)\n",
    "        \n",
    "        for i in train_data:\n",
    "#             print(i)\n",
    "            img_array = np.load(i)\n",
    "            start, end = (img_array.shape[0]/2)-8, (img_array.shape[0]/2)+8\n",
    "            image_tensor = img_array[int(start):int(end),:,:].reshape(256,256,16)\n",
    "            if 'axial' in i:\n",
    "                axial_images.append(image_tensor)\n",
    "                image_name = i.rsplit('\\\\')[-1].split('.')[0]\n",
    "                axial_labels.append(df_labels[df_labels['Image_Name']==image_name].iloc[:, 1:].values[0])\n",
    "            if 'coronal' in i:\n",
    "                coronal_images.append(image_tensor)\n",
    "                image_name = i.rsplit('\\\\')[-1].split('.')[0]\n",
    "                coronal_labels.append(df_labels[df_labels['Image_Name']==image_name].iloc[:, 1:].values[0])   \n",
    "            if 'sagittal' in i:\n",
    "                sagittal_images.append(image_tensor)\n",
    "                image_name = i.rsplit('\\\\')[-1].split('.')[0]\n",
    "                sagittal_labels.append(df_labels[df_labels['Image_Name']==image_name].iloc[:, 1:].values[0])\n",
    "\n",
    "        print('Loading Complete From :   ', folder)\n",
    "        print('\\n\\n')\n",
    "    return axial_images, coronal_images, sagittal_images, axial_labels\n",
    "\n",
    "train_path =  'MRNet-v1.0\\\\train'\n",
    "valid_path =  'MRNet-v1.0\\\\valid'\n",
    "\n",
    "axial_images_train, coronal_images_train, sagittal_images_train, axial_labels_train = read_data(train_path, df_labels_train)"
   ]
  },
  {
   "cell_type": "code",
   "execution_count": 75,
   "metadata": {
    "execution": {
     "iopub.execute_input": "2022-08-01T18:16:41.674042Z",
     "iopub.status.busy": "2022-08-01T18:16:41.673833Z",
     "iopub.status.idle": "2022-08-01T18:16:41.704814Z",
     "shell.execute_reply": "2022-08-01T18:16:41.70383Z",
     "shell.execute_reply.started": "2022-08-01T18:16:41.674016Z"
    },
    "pycharm": {
     "name": "#%%\n"
    },
    "trusted": true
   },
   "outputs": [],
   "source": [
    "#As the the dimensions and memory of the data exceeed the Kaggle's allowed Limit,\n",
    "# So we Dropped the Axial Images and Train Model on the base of Coronal and Sagittal Images.\n",
    "\n",
    "del axial_images_train"
   ]
  },
  {
   "cell_type": "code",
   "execution_count": 76,
   "metadata": {
    "execution": {
     "iopub.execute_input": "2022-08-01T18:16:41.70741Z",
     "iopub.status.busy": "2022-08-01T18:16:41.706274Z",
     "iopub.status.idle": "2022-08-01T18:16:42.241847Z",
     "shell.execute_reply": "2022-08-01T18:16:42.241129Z",
     "shell.execute_reply.started": "2022-08-01T18:16:41.707373Z"
    },
    "pycharm": {
     "name": "#%%\n"
    },
    "trusted": true
   },
   "outputs": [
    {
     "name": "stdout",
     "output_type": "stream",
     "text": [
      "(1130, 256, 256, 16)\n",
      "(1130, 256, 256, 16)\n",
      "(1130, 3)\n"
     ]
    }
   ],
   "source": [
    "# print(np.array(axial_images_train).shape)\n",
    "print(np.array(coronal_images_train).shape)\n",
    "print(np.array(sagittal_images_train).shape)\n",
    "print(np.array(axial_labels_train).shape)"
   ]
  },
  {
   "cell_type": "markdown",
   "metadata": {
    "pycharm": {
     "name": "#%% md\n"
    }
   },
   "source": [
    "## Modeling"
   ]
  },
  {
   "cell_type": "code",
   "execution_count": 77,
   "metadata": {
    "execution": {
     "iopub.execute_input": "2022-08-01T18:17:23.16607Z",
     "iopub.status.busy": "2022-08-01T18:17:23.1658Z",
     "iopub.status.idle": "2022-08-01T18:17:28.705067Z",
     "shell.execute_reply": "2022-08-01T18:17:28.703859Z",
     "shell.execute_reply.started": "2022-08-01T18:17:23.166039Z"
    },
    "pycharm": {
     "name": "#%%\n"
    },
    "trusted": true
   },
   "outputs": [],
   "source": [
    "from __future__ import print_function\n",
    "import tensorflow.keras\n",
    "from tensorflow.keras.models import Model, Sequential\n",
    "from tensorflow.keras.optimizers import *\n",
    "from tensorflow.keras.layers import *\n",
    "from tensorflow.keras.activations import *\n",
    "from tensorflow.keras.callbacks import *\n",
    "from tensorflow.keras.preprocessing.image import ImageDataGenerator\n",
    "from tensorflow.keras.regularizers import l2\n",
    "from tensorflow.keras import backend as K\n"
   ]
  },
  {
   "cell_type": "code",
   "execution_count": 78,
   "metadata": {
    "execution": {
     "iopub.execute_input": "2022-08-01T18:17:28.709841Z",
     "iopub.status.busy": "2022-08-01T18:17:28.709623Z",
     "iopub.status.idle": "2022-08-01T18:17:31.248823Z",
     "shell.execute_reply": "2022-08-01T18:17:31.248124Z",
     "shell.execute_reply.started": "2022-08-01T18:17:28.709811Z"
    },
    "pycharm": {
     "name": "#%%\n"
    },
    "trusted": true
   },
   "outputs": [
    {
     "name": "stdout",
     "output_type": "stream",
     "text": [
      "Model: \"model\"\n",
      "__________________________________________________________________________________________________\n",
      " Layer (type)                   Output Shape         Param #     Connected to                     \n",
      "==================================================================================================\n",
      " input_2 (InputLayer)           [(None, 256, 256, 1  0           []                               \n",
      "                                6)]                                                               \n",
      "                                                                                                  \n",
      " input_3 (InputLayer)           [(None, 256, 256, 1  0           []                               \n",
      "                                6)]                                                               \n",
      "                                                                                                  \n",
      " conv2d_3 (Conv2D)              (None, 252, 252, 16  6416        ['input_2[0][0]']                \n",
      "                                )                                                                 \n",
      "                                                                                                  \n",
      " conv2d_6 (Conv2D)              (None, 252, 252, 16  6416        ['input_3[0][0]']                \n",
      "                                )                                                                 \n",
      "                                                                                                  \n",
      " max_pooling2d_3 (MaxPooling2D)  (None, 126, 126, 16  0          ['conv2d_3[0][0]']               \n",
      "                                )                                                                 \n",
      "                                                                                                  \n",
      " max_pooling2d_6 (MaxPooling2D)  (None, 126, 126, 16  0          ['conv2d_6[0][0]']               \n",
      "                                )                                                                 \n",
      "                                                                                                  \n",
      " conv2d_4 (Conv2D)              (None, 122, 122, 16  6416        ['max_pooling2d_3[0][0]']        \n",
      "                                )                                                                 \n",
      "                                                                                                  \n",
      " conv2d_7 (Conv2D)              (None, 122, 122, 16  6416        ['max_pooling2d_6[0][0]']        \n",
      "                                )                                                                 \n",
      "                                                                                                  \n",
      " max_pooling2d_4 (MaxPooling2D)  (None, 61, 61, 16)  0           ['conv2d_4[0][0]']               \n",
      "                                                                                                  \n",
      " max_pooling2d_7 (MaxPooling2D)  (None, 61, 61, 16)  0           ['conv2d_7[0][0]']               \n",
      "                                                                                                  \n",
      " conv2d_5 (Conv2D)              (None, 57, 57, 16)   6416        ['max_pooling2d_4[0][0]']        \n",
      "                                                                                                  \n",
      " conv2d_8 (Conv2D)              (None, 57, 57, 16)   6416        ['max_pooling2d_7[0][0]']        \n",
      "                                                                                                  \n",
      " max_pooling2d_5 (MaxPooling2D)  (None, 28, 28, 16)  0           ['conv2d_5[0][0]']               \n",
      "                                                                                                  \n",
      " max_pooling2d_8 (MaxPooling2D)  (None, 28, 28, 16)  0           ['conv2d_8[0][0]']               \n",
      "                                                                                                  \n",
      " flatten_1 (Flatten)            (None, 12544)        0           ['max_pooling2d_5[0][0]']        \n",
      "                                                                                                  \n",
      " flatten_2 (Flatten)            (None, 12544)        0           ['max_pooling2d_8[0][0]']        \n",
      "                                                                                                  \n",
      " concatenate (Concatenate)      (None, 25088)        0           ['flatten_1[0][0]',              \n",
      "                                                                  'flatten_2[0][0]']              \n",
      "                                                                                                  \n",
      " dense (Dense)                  (None, 10)           250890      ['concatenate[0][0]']            \n",
      "                                                                                                  \n",
      " dense_1 (Dense)                (None, 5)            55          ['dense[0][0]']                  \n",
      "                                                                                                  \n",
      " dense_2 (Dense)                (None, 3)            18          ['dense_1[0][0]']                \n",
      "                                                                                                  \n",
      "==================================================================================================\n",
      "Total params: 289,459\n",
      "Trainable params: 289,459\n",
      "Non-trainable params: 0\n",
      "__________________________________________________________________________________________________\n",
      "None\n"
     ]
    }
   ],
   "source": [
    "# Two Input Model\n",
    "\n",
    "def model ():\n",
    "    visible1 = Input(shape=(256,256,16))\n",
    "    \n",
    "    conv11 = Conv2D( filters=16, kernel_size=(5,5), activation=\"relu\")(visible1)\n",
    "    pool11 = MaxPool2D(pool_size=(2,2),strides=(2,2))(conv11)\n",
    "    \n",
    "    conv12 = Conv2D( filters=16, kernel_size=(5,5), activation=\"relu\")(pool11)\n",
    "    pool12 = MaxPool2D(pool_size=(2,2),strides=(2,2))(conv12)\n",
    "    \n",
    "    conv13 = Conv2D(filters=16, kernel_size=(5,5), activation='relu')(pool12)\n",
    "    pool13 = MaxPooling2D(pool_size=(2, 2),strides=(2,2))(conv13)\n",
    "    flat1 = Flatten()(pool13)\n",
    "    \n",
    "    return flat1, visible1\n",
    "model()\n",
    "\n",
    "# merge input models\n",
    "model_1, Visible_1 = model()\n",
    "model_2, Visible_2 = model()\n",
    "\n",
    "merge = concatenate([model_1, model_2])\n",
    "\n",
    "hidden1 = Dense(10, activation='relu')(merge)\n",
    "hidden2 = Dense(5, activation='relu')(hidden1)\n",
    "output = Dense(3, activation='sigmoid')(hidden2)\n",
    "model = Model(inputs=[Visible_1, Visible_2], outputs=output)\n",
    "\n",
    "print(model.summary())"
   ]
  },
  {
   "cell_type": "code",
   "execution_count": 79,
   "metadata": {
    "execution": {
     "iopub.execute_input": "2022-08-01T18:17:44.19531Z",
     "iopub.status.busy": "2022-08-01T18:17:44.195045Z",
     "iopub.status.idle": "2022-08-01T18:18:10.873209Z",
     "shell.execute_reply": "2022-08-01T18:18:10.872365Z",
     "shell.execute_reply.started": "2022-08-01T18:17:44.19528Z"
    },
    "pycharm": {
     "name": "#%%\n"
    },
    "trusted": true
   },
   "outputs": [
    {
     "name": "stdout",
     "output_type": "stream",
     "text": [
      "Epoch 1/5\n",
      "29/29 [==============================] - 292s 10s/step - loss: 1.0094 - accuracy: 0.9292 - val_loss: 0.6884 - val_accuracy: 1.0000\n",
      "Epoch 2/5\n",
      "29/29 [==============================] - 267s 9s/step - loss: 0.6855 - accuracy: 1.0000 - val_loss: 0.6817 - val_accuracy: 1.0000\n",
      "Epoch 3/5\n",
      "29/29 [==============================] - 295s 10s/step - loss: 0.6791 - accuracy: 1.0000 - val_loss: 0.6755 - val_accuracy: 1.0000\n",
      "Epoch 4/5\n",
      "29/29 [==============================] - 296s 10s/step - loss: 0.6730 - accuracy: 1.0000 - val_loss: 0.6693 - val_accuracy: 1.0000\n",
      "Epoch 5/5\n",
      "29/29 [==============================] - 231s 8s/step - loss: 0.6671 - accuracy: 1.0000 - val_loss: 0.6634 - val_accuracy: 1.0000\n"
     ]
    },
    {
     "data": {
      "text/plain": [
       "<keras.callbacks.History at 0x159161caf70>"
      ]
     },
     "execution_count": 79,
     "metadata": {},
     "output_type": "execute_result"
    }
   ],
   "source": [
    "model.compile(loss=tensorflow.keras.losses.binary_crossentropy,\n",
    "              optimizer=tensorflow.keras.optimizers.SGD( learning_rate = 0.001, momentum = 0.9),metrics=[\"accuracy\"])\n",
    "\n",
    "# Give Class Weights to Balance Results\n",
    "class_weight = {0: 1.,\n",
    "                1: 50.,\n",
    "                2: 50.}\n",
    "\n",
    "model.fit(x = [np.array(coronal_images_train), np.array(sagittal_images_train)],\n",
    "          y = np.array(axial_labels_train),\n",
    "          epochs=1,\n",
    "          batch_size=32,\n",
    "          validation_split=0.20,\n",
    "          class_weight=class_weight)\n",
    "\n",
    "# model.save_weights('model_3_Input.h5')"
   ]
  },
  {
   "cell_type": "code",
   "execution_count": 80,
   "metadata": {
    "pycharm": {
     "name": "#%%\n"
    },
    "trusted": true
   },
   "outputs": [],
   "source": [
    "# from keras.utils.vis_utils import plot_model\n",
    "# plot_model(model, to_file='model_architecture.png', show_shapes=True, show_layer_names=True)\n"
   ]
  },
  {
   "cell_type": "code",
   "execution_count": 81,
   "metadata": {
    "execution": {
     "iopub.execute_input": "2022-08-01T18:18:14.736088Z",
     "iopub.status.busy": "2022-08-01T18:18:14.735544Z",
     "iopub.status.idle": "2022-08-01T18:18:14.865938Z",
     "shell.execute_reply": "2022-08-01T18:18:14.865165Z",
     "shell.execute_reply.started": "2022-08-01T18:18:14.736053Z"
    },
    "pycharm": {
     "name": "#%%\n"
    },
    "trusted": true
   },
   "outputs": [],
   "source": [
    "del coronal_images_train, sagittal_images_train"
   ]
  },
  {
   "cell_type": "code",
   "execution_count": 82,
   "metadata": {
    "execution": {
     "iopub.execute_input": "2022-08-01T18:18:21.432219Z",
     "iopub.status.busy": "2022-08-01T18:18:21.431923Z",
     "iopub.status.idle": "2022-08-01T18:18:28.826244Z",
     "shell.execute_reply": "2022-08-01T18:18:28.825522Z",
     "shell.execute_reply.started": "2022-08-01T18:18:21.432189Z"
    },
    "pycharm": {
     "name": "#%%\n"
    },
    "trusted": true
   },
   "outputs": [
    {
     "name": "stdout",
     "output_type": "stream",
     "text": [
      "Total samples in data: 120\n",
      "Loading Data From :    MRNet-v1.0\\valid\\axial\n",
      "Loading Complete From :    MRNet-v1.0\\valid\\axial\n",
      "\n",
      "\n",
      "\n",
      "Total samples in data: 120\n",
      "Loading Data From :    MRNet-v1.0\\valid\\coronal\n",
      "Loading Complete From :    MRNet-v1.0\\valid\\coronal\n",
      "\n",
      "\n",
      "\n",
      "Total samples in data: 120\n",
      "Loading Data From :    MRNet-v1.0\\valid\\sagittal\n",
      "Loading Complete From :    MRNet-v1.0\\valid\\sagittal\n",
      "\n",
      "\n",
      "\n"
     ]
    }
   ],
   "source": [
    "axial_images_valid, coronal_images_valid, sagittal_images_valid, axial_labels_valid = read_data(valid_path, df_labels_valid)"
   ]
  },
  {
   "cell_type": "code",
   "execution_count": 83,
   "metadata": {
    "execution": {
     "iopub.execute_input": "2022-08-01T18:18:45.195528Z",
     "iopub.status.busy": "2022-08-01T18:18:45.195226Z",
     "iopub.status.idle": "2022-08-01T18:18:45.199871Z",
     "shell.execute_reply": "2022-08-01T18:18:45.19905Z",
     "shell.execute_reply.started": "2022-08-01T18:18:45.195487Z"
    },
    "pycharm": {
     "name": "#%%\n"
    },
    "trusted": true
   },
   "outputs": [],
   "source": [
    "del axial_images_valid"
   ]
  },
  {
   "cell_type": "markdown",
   "metadata": {
    "pycharm": {
     "name": "#%% md\n"
    }
   },
   "source": [
    "## Evaluate Model"
   ]
  },
  {
   "cell_type": "code",
   "execution_count": 84,
   "metadata": {
    "execution": {
     "iopub.execute_input": "2022-08-01T18:18:47.630231Z",
     "iopub.status.busy": "2022-08-01T18:18:47.629973Z",
     "iopub.status.idle": "2022-08-01T18:18:48.447761Z",
     "shell.execute_reply": "2022-08-01T18:18:48.446982Z",
     "shell.execute_reply.started": "2022-08-01T18:18:47.630201Z"
    },
    "pycharm": {
     "name": "#%%\n"
    },
    "trusted": true
   },
   "outputs": [
    {
     "name": "stdout",
     "output_type": "stream",
     "text": [
      "4/4 [==============================] - 10s 2s/step\n"
     ]
    }
   ],
   "source": [
    "y_pred = model.predict([ np.array(coronal_images_valid), np.array(sagittal_images_valid)])"
   ]
  },
  {
   "cell_type": "code",
   "execution_count": 85,
   "metadata": {
    "execution": {
     "iopub.execute_input": "2022-08-01T18:18:48.449878Z",
     "iopub.status.busy": "2022-08-01T18:18:48.449631Z",
     "iopub.status.idle": "2022-08-01T18:18:48.461336Z",
     "shell.execute_reply": "2022-08-01T18:18:48.460532Z",
     "shell.execute_reply.started": "2022-08-01T18:18:48.449844Z"
    },
    "pycharm": {
     "name": "#%%\n"
    },
    "trusted": true
   },
   "outputs": [
    {
     "data": {
      "text/plain": [
       "array([[0.53301126, 0.46640822, 0.48428705],\n",
       "       [0.53301126, 0.46640822, 0.48428705],\n",
       "       [0.53301126, 0.46640822, 0.48428705],\n",
       "       [0.53301126, 0.46640822, 0.48428705],\n",
       "       [0.53301126, 0.46640822, 0.48428705],\n",
       "       [0.53301126, 0.46640822, 0.48428705],\n",
       "       [0.53301126, 0.46640822, 0.48428705],\n",
       "       [0.53301126, 0.46640822, 0.48428705],\n",
       "       [0.53301126, 0.46640822, 0.48428705],\n",
       "       [0.53301126, 0.46640822, 0.48428705],\n",
       "       [0.53301126, 0.46640822, 0.48428705],\n",
       "       [0.53301126, 0.46640822, 0.48428705],\n",
       "       [0.53301126, 0.46640822, 0.48428705],\n",
       "       [0.53301126, 0.46640822, 0.48428705],\n",
       "       [0.53301126, 0.46640822, 0.48428705],\n",
       "       [0.53301126, 0.46640822, 0.48428705],\n",
       "       [0.53301126, 0.46640822, 0.48428705],\n",
       "       [0.53301126, 0.46640822, 0.48428705],\n",
       "       [0.53301126, 0.46640822, 0.48428705],\n",
       "       [0.53301126, 0.46640822, 0.48428705],\n",
       "       [0.53301126, 0.46640822, 0.48428705],\n",
       "       [0.53301126, 0.46640822, 0.48428705],\n",
       "       [0.53301126, 0.46640822, 0.48428705],\n",
       "       [0.53301126, 0.46640822, 0.48428705],\n",
       "       [0.53301126, 0.46640822, 0.48428705],\n",
       "       [0.53301126, 0.46640822, 0.48428705],\n",
       "       [0.53301126, 0.46640822, 0.48428705],\n",
       "       [0.53301126, 0.46640822, 0.48428705],\n",
       "       [0.53301126, 0.46640822, 0.48428705],\n",
       "       [0.53301126, 0.46640822, 0.48428705],\n",
       "       [0.53301126, 0.46640822, 0.48428705],\n",
       "       [0.53301126, 0.46640822, 0.48428705],\n",
       "       [0.53301126, 0.46640822, 0.48428705],\n",
       "       [0.53301126, 0.46640822, 0.48428705],\n",
       "       [0.53301126, 0.46640822, 0.48428705],\n",
       "       [0.53301126, 0.46640822, 0.48428705],\n",
       "       [0.53301126, 0.46640822, 0.48428705],\n",
       "       [0.53301126, 0.46640822, 0.48428705],\n",
       "       [0.53301126, 0.46640822, 0.48428705],\n",
       "       [0.53301126, 0.46640822, 0.48428705],\n",
       "       [0.53301126, 0.46640822, 0.48428705],\n",
       "       [0.53301126, 0.46640822, 0.48428705],\n",
       "       [0.53301126, 0.46640822, 0.48428705],\n",
       "       [0.53301126, 0.46640822, 0.48428705],\n",
       "       [0.53301126, 0.46640822, 0.48428705],\n",
       "       [0.53301126, 0.46640822, 0.48428705],\n",
       "       [0.53301126, 0.46640822, 0.48428705],\n",
       "       [0.53301126, 0.46640822, 0.48428705],\n",
       "       [0.53301126, 0.46640822, 0.48428705],\n",
       "       [0.53301126, 0.46640822, 0.48428705],\n",
       "       [0.53301126, 0.46640822, 0.48428705],\n",
       "       [0.53301126, 0.46640822, 0.48428705],\n",
       "       [0.53301126, 0.46640822, 0.48428705],\n",
       "       [0.53301126, 0.46640822, 0.48428705],\n",
       "       [0.53301126, 0.46640822, 0.48428705],\n",
       "       [0.53301126, 0.46640822, 0.48428705],\n",
       "       [0.53301126, 0.46640822, 0.48428705],\n",
       "       [0.53301126, 0.46640822, 0.48428705],\n",
       "       [0.53301126, 0.46640822, 0.48428705],\n",
       "       [0.53301126, 0.46640822, 0.48428705],\n",
       "       [0.53301126, 0.46640822, 0.48428705],\n",
       "       [0.53301126, 0.46640822, 0.48428705],\n",
       "       [0.53301126, 0.46640822, 0.48428705],\n",
       "       [0.53301126, 0.46640822, 0.48428705],\n",
       "       [0.53301126, 0.46640822, 0.48428705],\n",
       "       [0.53301126, 0.46640822, 0.48428705],\n",
       "       [0.53301126, 0.46640822, 0.48428705],\n",
       "       [0.53301126, 0.46640822, 0.48428705],\n",
       "       [0.53301126, 0.46640822, 0.48428705],\n",
       "       [0.53301126, 0.46640822, 0.48428705],\n",
       "       [0.53301126, 0.46640822, 0.48428705],\n",
       "       [0.53301126, 0.46640822, 0.48428705],\n",
       "       [0.53301126, 0.46640822, 0.48428705],\n",
       "       [0.53301126, 0.46640822, 0.48428705],\n",
       "       [0.53301126, 0.46640822, 0.48428705],\n",
       "       [0.53301126, 0.46640822, 0.48428705],\n",
       "       [0.53301126, 0.46640822, 0.48428705],\n",
       "       [0.53301126, 0.46640822, 0.48428705],\n",
       "       [0.53301126, 0.46640822, 0.48428705],\n",
       "       [0.53301126, 0.46640822, 0.48428705],\n",
       "       [0.53301126, 0.46640822, 0.48428705],\n",
       "       [0.53301126, 0.46640822, 0.48428705],\n",
       "       [0.53301126, 0.46640822, 0.48428705],\n",
       "       [0.53301126, 0.46640822, 0.48428705],\n",
       "       [0.53301126, 0.46640822, 0.48428705],\n",
       "       [0.53301126, 0.46640822, 0.48428705],\n",
       "       [0.53301126, 0.46640822, 0.48428705],\n",
       "       [0.53301126, 0.46640822, 0.48428705],\n",
       "       [0.53301126, 0.46640822, 0.48428705],\n",
       "       [0.53301126, 0.46640822, 0.48428705],\n",
       "       [0.53301126, 0.46640822, 0.48428705],\n",
       "       [0.53301126, 0.46640822, 0.48428705],\n",
       "       [0.53301126, 0.46640822, 0.48428705],\n",
       "       [0.53301126, 0.46640822, 0.48428705],\n",
       "       [0.53301126, 0.46640822, 0.48428705],\n",
       "       [0.53301126, 0.46640822, 0.48428705],\n",
       "       [0.53301126, 0.46640822, 0.48428705],\n",
       "       [0.53301126, 0.46640822, 0.48428705],\n",
       "       [0.53301126, 0.46640822, 0.48428705],\n",
       "       [0.53301126, 0.46640822, 0.48428705],\n",
       "       [0.53301126, 0.46640822, 0.48428705],\n",
       "       [0.53301126, 0.46640822, 0.48428705],\n",
       "       [0.53301126, 0.46640822, 0.48428705],\n",
       "       [0.53301126, 0.46640822, 0.48428705],\n",
       "       [0.53301126, 0.46640822, 0.48428705],\n",
       "       [0.53301126, 0.46640822, 0.48428705],\n",
       "       [0.53301126, 0.46640822, 0.48428705],\n",
       "       [0.53301126, 0.46640822, 0.48428705],\n",
       "       [0.53301126, 0.46640822, 0.48428705],\n",
       "       [0.53301126, 0.46640822, 0.48428705],\n",
       "       [0.53301126, 0.46640822, 0.48428705],\n",
       "       [0.53301126, 0.46640822, 0.48428705],\n",
       "       [0.53301126, 0.46640822, 0.48428705],\n",
       "       [0.53301126, 0.46640822, 0.48428705],\n",
       "       [0.53301126, 0.46640822, 0.48428705],\n",
       "       [0.53301126, 0.46640822, 0.48428705],\n",
       "       [0.53301126, 0.46640822, 0.48428705],\n",
       "       [0.53301126, 0.46640822, 0.48428705],\n",
       "       [0.53301126, 0.46640822, 0.48428705],\n",
       "       [0.53301126, 0.46640822, 0.48428705]], dtype=float32)"
      ]
     },
     "execution_count": 85,
     "metadata": {},
     "output_type": "execute_result"
    }
   ],
   "source": [
    "y_pred"
   ]
  },
  {
   "cell_type": "code",
   "execution_count": 86,
   "metadata": {
    "execution": {
     "iopub.execute_input": "2022-08-01T18:18:48.515707Z",
     "iopub.status.busy": "2022-08-01T18:18:48.51548Z",
     "iopub.status.idle": "2022-08-01T18:18:48.700652Z",
     "shell.execute_reply": "2022-08-01T18:18:48.699916Z",
     "shell.execute_reply.started": "2022-08-01T18:18:48.515679Z"
    },
    "pycharm": {
     "name": "#%%\n"
    },
    "trusted": true
   },
   "outputs": [
    {
     "name": "stdout",
     "output_type": "stream",
     "text": [
      "              precision    recall  f1-score   support\n",
      "\n",
      "           0       1.00      0.79      0.88       120\n",
      "           1       0.00      0.00      0.00         0\n",
      "           2       0.00      0.00      0.00         0\n",
      "\n",
      "   micro avg       0.47      0.79      0.59       120\n",
      "   macro avg       0.33      0.26      0.29       120\n",
      "weighted avg       1.00      0.79      0.88       120\n",
      " samples avg       0.44      0.79      0.54       120\n",
      "\n"
     ]
    },
    {
     "name": "stderr",
     "output_type": "stream",
     "text": [
      "c:\\Users\\jctub\\AppData\\Local\\Programs\\Python\\Python39\\lib\\site-packages\\sklearn\\metrics\\_classification.py:1334: UndefinedMetricWarning: Recall and F-score are ill-defined and being set to 0.0 in labels with no true samples. Use `zero_division` parameter to control this behavior.\n",
      "  _warn_prf(average, modifier, msg_start, len(result))\n",
      "c:\\Users\\jctub\\AppData\\Local\\Programs\\Python\\Python39\\lib\\site-packages\\sklearn\\metrics\\_classification.py:1334: UndefinedMetricWarning: Precision and F-score are ill-defined and being set to 0.0 in samples with no predicted labels. Use `zero_division` parameter to control this behavior.\n",
      "  _warn_prf(average, modifier, msg_start, len(result))\n"
     ]
    }
   ],
   "source": [
    "from sklearn.metrics import classification_report\n",
    "# \n",
    "print(classification_report(y_pred.round(), axial_labels_valid))"
   ]
  },
  {
   "cell_type": "code",
   "execution_count": 91,
   "metadata": {
    "pycharm": {
     "name": "#%%\n"
    }
   },
   "outputs": [
    {
     "ename": "ValueError",
     "evalue": "Only one class present in y_true. ROC AUC score is not defined in that case.",
     "output_type": "error",
     "traceback": [
      "\u001b[1;31m---------------------------------------------------------------------------\u001b[0m",
      "\u001b[1;31mValueError\u001b[0m                                Traceback (most recent call last)",
      "Cell \u001b[1;32mIn[91], line 3\u001b[0m\n\u001b[0;32m      1\u001b[0m \u001b[39mfrom\u001b[39;00m \u001b[39msklearn\u001b[39;00m\u001b[39m.\u001b[39;00m\u001b[39mmetrics\u001b[39;00m \u001b[39mimport\u001b[39;00m roc_auc_score\n\u001b[1;32m----> 3\u001b[0m \u001b[39mprint\u001b[39m(roc_auc_score(y_pred\u001b[39m.\u001b[39;49mround(), axial_labels_valid))\n",
      "File \u001b[1;32mc:\\Users\\jctub\\AppData\\Local\\Programs\\Python\\Python39\\lib\\site-packages\\sklearn\\metrics\\_ranking.py:579\u001b[0m, in \u001b[0;36mroc_auc_score\u001b[1;34m(y_true, y_score, average, sample_weight, max_fpr, multi_class, labels)\u001b[0m\n\u001b[0;32m    571\u001b[0m     \u001b[39mreturn\u001b[39;00m _average_binary_score(\n\u001b[0;32m    572\u001b[0m         partial(_binary_roc_auc_score, max_fpr\u001b[39m=\u001b[39mmax_fpr),\n\u001b[0;32m    573\u001b[0m         y_true,\n\u001b[1;32m   (...)\u001b[0m\n\u001b[0;32m    576\u001b[0m         sample_weight\u001b[39m=\u001b[39msample_weight,\n\u001b[0;32m    577\u001b[0m     )\n\u001b[0;32m    578\u001b[0m \u001b[39melse\u001b[39;00m:  \u001b[39m# multilabel-indicator\u001b[39;00m\n\u001b[1;32m--> 579\u001b[0m     \u001b[39mreturn\u001b[39;00m _average_binary_score(\n\u001b[0;32m    580\u001b[0m         partial(_binary_roc_auc_score, max_fpr\u001b[39m=\u001b[39;49mmax_fpr),\n\u001b[0;32m    581\u001b[0m         y_true,\n\u001b[0;32m    582\u001b[0m         y_score,\n\u001b[0;32m    583\u001b[0m         average,\n\u001b[0;32m    584\u001b[0m         sample_weight\u001b[39m=\u001b[39;49msample_weight,\n\u001b[0;32m    585\u001b[0m     )\n",
      "File \u001b[1;32mc:\\Users\\jctub\\AppData\\Local\\Programs\\Python\\Python39\\lib\\site-packages\\sklearn\\metrics\\_base.py:118\u001b[0m, in \u001b[0;36m_average_binary_score\u001b[1;34m(binary_metric, y_true, y_score, average, sample_weight)\u001b[0m\n\u001b[0;32m    116\u001b[0m     y_true_c \u001b[39m=\u001b[39m y_true\u001b[39m.\u001b[39mtake([c], axis\u001b[39m=\u001b[39mnot_average_axis)\u001b[39m.\u001b[39mravel()\n\u001b[0;32m    117\u001b[0m     y_score_c \u001b[39m=\u001b[39m y_score\u001b[39m.\u001b[39mtake([c], axis\u001b[39m=\u001b[39mnot_average_axis)\u001b[39m.\u001b[39mravel()\n\u001b[1;32m--> 118\u001b[0m     score[c] \u001b[39m=\u001b[39m binary_metric(y_true_c, y_score_c, sample_weight\u001b[39m=\u001b[39;49mscore_weight)\n\u001b[0;32m    120\u001b[0m \u001b[39m# Average the results\u001b[39;00m\n\u001b[0;32m    121\u001b[0m \u001b[39mif\u001b[39;00m average \u001b[39mis\u001b[39;00m \u001b[39mnot\u001b[39;00m \u001b[39mNone\u001b[39;00m:\n",
      "File \u001b[1;32mc:\\Users\\jctub\\AppData\\Local\\Programs\\Python\\Python39\\lib\\site-packages\\sklearn\\metrics\\_ranking.py:339\u001b[0m, in \u001b[0;36m_binary_roc_auc_score\u001b[1;34m(y_true, y_score, sample_weight, max_fpr)\u001b[0m\n\u001b[0;32m    337\u001b[0m \u001b[39m\"\"\"Binary roc auc score.\"\"\"\u001b[39;00m\n\u001b[0;32m    338\u001b[0m \u001b[39mif\u001b[39;00m \u001b[39mlen\u001b[39m(np\u001b[39m.\u001b[39munique(y_true)) \u001b[39m!=\u001b[39m \u001b[39m2\u001b[39m:\n\u001b[1;32m--> 339\u001b[0m     \u001b[39mraise\u001b[39;00m \u001b[39mValueError\u001b[39;00m(\n\u001b[0;32m    340\u001b[0m         \u001b[39m\"\u001b[39m\u001b[39mOnly one class present in y_true. ROC AUC score \u001b[39m\u001b[39m\"\u001b[39m\n\u001b[0;32m    341\u001b[0m         \u001b[39m\"\u001b[39m\u001b[39mis not defined in that case.\u001b[39m\u001b[39m\"\u001b[39m\n\u001b[0;32m    342\u001b[0m     )\n\u001b[0;32m    344\u001b[0m fpr, tpr, _ \u001b[39m=\u001b[39m roc_curve(y_true, y_score, sample_weight\u001b[39m=\u001b[39msample_weight)\n\u001b[0;32m    345\u001b[0m \u001b[39mif\u001b[39;00m max_fpr \u001b[39mis\u001b[39;00m \u001b[39mNone\u001b[39;00m \u001b[39mor\u001b[39;00m max_fpr \u001b[39m==\u001b[39m \u001b[39m1\u001b[39m:\n",
      "\u001b[1;31mValueError\u001b[0m: Only one class present in y_true. ROC AUC score is not defined in that case."
     ]
    }
   ],
   "source": [
    "from sklearn.metrics import roc_auc_score\n",
    "\n",
    "print(roc_auc_score(y_pred.round(), axial_labels_valid))"
   ]
  },
  {
   "cell_type": "code",
   "execution_count": 90,
   "metadata": {},
   "outputs": [
    {
     "data": {
      "text/plain": [
       "array([[0.53301126, 0.46640822, 0.48428705],\n",
       "       [0.53301126, 0.46640822, 0.48428705],\n",
       "       [0.53301126, 0.46640822, 0.48428705],\n",
       "       [0.53301126, 0.46640822, 0.48428705],\n",
       "       [0.53301126, 0.46640822, 0.48428705],\n",
       "       [0.53301126, 0.46640822, 0.48428705],\n",
       "       [0.53301126, 0.46640822, 0.48428705],\n",
       "       [0.53301126, 0.46640822, 0.48428705],\n",
       "       [0.53301126, 0.46640822, 0.48428705],\n",
       "       [0.53301126, 0.46640822, 0.48428705],\n",
       "       [0.53301126, 0.46640822, 0.48428705],\n",
       "       [0.53301126, 0.46640822, 0.48428705],\n",
       "       [0.53301126, 0.46640822, 0.48428705],\n",
       "       [0.53301126, 0.46640822, 0.48428705],\n",
       "       [0.53301126, 0.46640822, 0.48428705],\n",
       "       [0.53301126, 0.46640822, 0.48428705],\n",
       "       [0.53301126, 0.46640822, 0.48428705],\n",
       "       [0.53301126, 0.46640822, 0.48428705],\n",
       "       [0.53301126, 0.46640822, 0.48428705],\n",
       "       [0.53301126, 0.46640822, 0.48428705],\n",
       "       [0.53301126, 0.46640822, 0.48428705],\n",
       "       [0.53301126, 0.46640822, 0.48428705],\n",
       "       [0.53301126, 0.46640822, 0.48428705],\n",
       "       [0.53301126, 0.46640822, 0.48428705],\n",
       "       [0.53301126, 0.46640822, 0.48428705],\n",
       "       [0.53301126, 0.46640822, 0.48428705],\n",
       "       [0.53301126, 0.46640822, 0.48428705],\n",
       "       [0.53301126, 0.46640822, 0.48428705],\n",
       "       [0.53301126, 0.46640822, 0.48428705],\n",
       "       [0.53301126, 0.46640822, 0.48428705],\n",
       "       [0.53301126, 0.46640822, 0.48428705],\n",
       "       [0.53301126, 0.46640822, 0.48428705],\n",
       "       [0.53301126, 0.46640822, 0.48428705],\n",
       "       [0.53301126, 0.46640822, 0.48428705],\n",
       "       [0.53301126, 0.46640822, 0.48428705],\n",
       "       [0.53301126, 0.46640822, 0.48428705],\n",
       "       [0.53301126, 0.46640822, 0.48428705],\n",
       "       [0.53301126, 0.46640822, 0.48428705],\n",
       "       [0.53301126, 0.46640822, 0.48428705],\n",
       "       [0.53301126, 0.46640822, 0.48428705],\n",
       "       [0.53301126, 0.46640822, 0.48428705],\n",
       "       [0.53301126, 0.46640822, 0.48428705],\n",
       "       [0.53301126, 0.46640822, 0.48428705],\n",
       "       [0.53301126, 0.46640822, 0.48428705],\n",
       "       [0.53301126, 0.46640822, 0.48428705],\n",
       "       [0.53301126, 0.46640822, 0.48428705],\n",
       "       [0.53301126, 0.46640822, 0.48428705],\n",
       "       [0.53301126, 0.46640822, 0.48428705],\n",
       "       [0.53301126, 0.46640822, 0.48428705],\n",
       "       [0.53301126, 0.46640822, 0.48428705],\n",
       "       [0.53301126, 0.46640822, 0.48428705],\n",
       "       [0.53301126, 0.46640822, 0.48428705],\n",
       "       [0.53301126, 0.46640822, 0.48428705],\n",
       "       [0.53301126, 0.46640822, 0.48428705],\n",
       "       [0.53301126, 0.46640822, 0.48428705],\n",
       "       [0.53301126, 0.46640822, 0.48428705],\n",
       "       [0.53301126, 0.46640822, 0.48428705],\n",
       "       [0.53301126, 0.46640822, 0.48428705],\n",
       "       [0.53301126, 0.46640822, 0.48428705],\n",
       "       [0.53301126, 0.46640822, 0.48428705],\n",
       "       [0.53301126, 0.46640822, 0.48428705],\n",
       "       [0.53301126, 0.46640822, 0.48428705],\n",
       "       [0.53301126, 0.46640822, 0.48428705],\n",
       "       [0.53301126, 0.46640822, 0.48428705],\n",
       "       [0.53301126, 0.46640822, 0.48428705],\n",
       "       [0.53301126, 0.46640822, 0.48428705],\n",
       "       [0.53301126, 0.46640822, 0.48428705],\n",
       "       [0.53301126, 0.46640822, 0.48428705],\n",
       "       [0.53301126, 0.46640822, 0.48428705],\n",
       "       [0.53301126, 0.46640822, 0.48428705],\n",
       "       [0.53301126, 0.46640822, 0.48428705],\n",
       "       [0.53301126, 0.46640822, 0.48428705],\n",
       "       [0.53301126, 0.46640822, 0.48428705],\n",
       "       [0.53301126, 0.46640822, 0.48428705],\n",
       "       [0.53301126, 0.46640822, 0.48428705],\n",
       "       [0.53301126, 0.46640822, 0.48428705],\n",
       "       [0.53301126, 0.46640822, 0.48428705],\n",
       "       [0.53301126, 0.46640822, 0.48428705],\n",
       "       [0.53301126, 0.46640822, 0.48428705],\n",
       "       [0.53301126, 0.46640822, 0.48428705],\n",
       "       [0.53301126, 0.46640822, 0.48428705],\n",
       "       [0.53301126, 0.46640822, 0.48428705],\n",
       "       [0.53301126, 0.46640822, 0.48428705],\n",
       "       [0.53301126, 0.46640822, 0.48428705],\n",
       "       [0.53301126, 0.46640822, 0.48428705],\n",
       "       [0.53301126, 0.46640822, 0.48428705],\n",
       "       [0.53301126, 0.46640822, 0.48428705],\n",
       "       [0.53301126, 0.46640822, 0.48428705],\n",
       "       [0.53301126, 0.46640822, 0.48428705],\n",
       "       [0.53301126, 0.46640822, 0.48428705],\n",
       "       [0.53301126, 0.46640822, 0.48428705],\n",
       "       [0.53301126, 0.46640822, 0.48428705],\n",
       "       [0.53301126, 0.46640822, 0.48428705],\n",
       "       [0.53301126, 0.46640822, 0.48428705],\n",
       "       [0.53301126, 0.46640822, 0.48428705],\n",
       "       [0.53301126, 0.46640822, 0.48428705],\n",
       "       [0.53301126, 0.46640822, 0.48428705],\n",
       "       [0.53301126, 0.46640822, 0.48428705],\n",
       "       [0.53301126, 0.46640822, 0.48428705],\n",
       "       [0.53301126, 0.46640822, 0.48428705],\n",
       "       [0.53301126, 0.46640822, 0.48428705],\n",
       "       [0.53301126, 0.46640822, 0.48428705],\n",
       "       [0.53301126, 0.46640822, 0.48428705],\n",
       "       [0.53301126, 0.46640822, 0.48428705],\n",
       "       [0.53301126, 0.46640822, 0.48428705],\n",
       "       [0.53301126, 0.46640822, 0.48428705],\n",
       "       [0.53301126, 0.46640822, 0.48428705],\n",
       "       [0.53301126, 0.46640822, 0.48428705],\n",
       "       [0.53301126, 0.46640822, 0.48428705],\n",
       "       [0.53301126, 0.46640822, 0.48428705],\n",
       "       [0.53301126, 0.46640822, 0.48428705],\n",
       "       [0.53301126, 0.46640822, 0.48428705],\n",
       "       [0.53301126, 0.46640822, 0.48428705],\n",
       "       [0.53301126, 0.46640822, 0.48428705],\n",
       "       [0.53301126, 0.46640822, 0.48428705],\n",
       "       [0.53301126, 0.46640822, 0.48428705],\n",
       "       [0.53301126, 0.46640822, 0.48428705],\n",
       "       [0.53301126, 0.46640822, 0.48428705],\n",
       "       [0.53301126, 0.46640822, 0.48428705],\n",
       "       [0.53301126, 0.46640822, 0.48428705]], dtype=float32)"
      ]
     },
     "execution_count": 90,
     "metadata": {},
     "output_type": "execute_result"
    }
   ],
   "source": [
    "y_pred"
   ]
  },
  {
   "cell_type": "code",
   "execution_count": 92,
   "metadata": {},
   "outputs": [
    {
     "data": {
      "text/plain": [
       "[array([0, 0, 0], dtype=int64),\n",
       " array([0, 0, 0], dtype=int64),\n",
       " array([0, 0, 0], dtype=int64),\n",
       " array([0, 0, 0], dtype=int64),\n",
       " array([0, 0, 0], dtype=int64),\n",
       " array([0, 0, 0], dtype=int64),\n",
       " array([0, 0, 0], dtype=int64),\n",
       " array([0, 0, 0], dtype=int64),\n",
       " array([0, 0, 0], dtype=int64),\n",
       " array([0, 0, 0], dtype=int64),\n",
       " array([0, 0, 0], dtype=int64),\n",
       " array([0, 0, 0], dtype=int64),\n",
       " array([0, 0, 0], dtype=int64),\n",
       " array([0, 0, 0], dtype=int64),\n",
       " array([0, 0, 0], dtype=int64),\n",
       " array([0, 0, 0], dtype=int64),\n",
       " array([0, 0, 0], dtype=int64),\n",
       " array([0, 0, 0], dtype=int64),\n",
       " array([0, 0, 0], dtype=int64),\n",
       " array([0, 0, 0], dtype=int64),\n",
       " array([0, 0, 0], dtype=int64),\n",
       " array([0, 0, 0], dtype=int64),\n",
       " array([0, 0, 0], dtype=int64),\n",
       " array([0, 0, 0], dtype=int64),\n",
       " array([1, 0, 0], dtype=int64),\n",
       " array([1, 0, 0], dtype=int64),\n",
       " array([1, 0, 0], dtype=int64),\n",
       " array([1, 0, 0], dtype=int64),\n",
       " array([1, 0, 0], dtype=int64),\n",
       " array([1, 0, 0], dtype=int64),\n",
       " array([1, 0, 0], dtype=int64),\n",
       " array([1, 0, 0], dtype=int64),\n",
       " array([1, 0, 0], dtype=int64),\n",
       " array([1, 0, 0], dtype=int64),\n",
       " array([1, 0, 0], dtype=int64),\n",
       " array([1, 0, 0], dtype=int64),\n",
       " array([1, 0, 0], dtype=int64),\n",
       " array([1, 0, 0], dtype=int64),\n",
       " array([1, 0, 0], dtype=int64),\n",
       " array([1, 0, 0], dtype=int64),\n",
       " array([1, 0, 0], dtype=int64),\n",
       " array([1, 0, 0], dtype=int64),\n",
       " array([1, 1, 1], dtype=int64),\n",
       " array([1, 1, 1], dtype=int64),\n",
       " array([1, 1, 1], dtype=int64),\n",
       " array([1, 1, 0], dtype=int64),\n",
       " array([1, 1, 1], dtype=int64),\n",
       " array([1, 1, 0], dtype=int64),\n",
       " array([1, 1, 0], dtype=int64),\n",
       " array([1, 1, 0], dtype=int64),\n",
       " array([1, 0, 0], dtype=int64),\n",
       " array([1, 1, 0], dtype=int64),\n",
       " array([1, 1, 0], dtype=int64),\n",
       " array([1, 1, 0], dtype=int64),\n",
       " array([1, 1, 1], dtype=int64),\n",
       " array([1, 1, 0], dtype=int64),\n",
       " array([1, 1, 1], dtype=int64),\n",
       " array([1, 1, 0], dtype=int64),\n",
       " array([1, 1, 1], dtype=int64),\n",
       " array([1, 0, 0], dtype=int64),\n",
       " array([1, 1, 0], dtype=int64),\n",
       " array([1, 1, 1], dtype=int64),\n",
       " array([1, 1, 1], dtype=int64),\n",
       " array([1, 1, 0], dtype=int64),\n",
       " array([1, 1, 1], dtype=int64),\n",
       " array([1, 1, 1], dtype=int64),\n",
       " array([1, 1, 1], dtype=int64),\n",
       " array([1, 1, 1], dtype=int64),\n",
       " array([1, 1, 0], dtype=int64),\n",
       " array([1, 1, 1], dtype=int64),\n",
       " array([1, 1, 0], dtype=int64),\n",
       " array([1, 1, 1], dtype=int64),\n",
       " array([1, 1, 1], dtype=int64),\n",
       " array([1, 1, 1], dtype=int64),\n",
       " array([1, 1, 0], dtype=int64),\n",
       " array([1, 1, 1], dtype=int64),\n",
       " array([1, 1, 0], dtype=int64),\n",
       " array([1, 1, 1], dtype=int64),\n",
       " array([1, 1, 0], dtype=int64),\n",
       " array([1, 1, 0], dtype=int64),\n",
       " array([1, 1, 0], dtype=int64),\n",
       " array([1, 1, 1], dtype=int64),\n",
       " array([1, 1, 0], dtype=int64),\n",
       " array([1, 1, 1], dtype=int64),\n",
       " array([1, 1, 0], dtype=int64),\n",
       " array([1, 1, 0], dtype=int64),\n",
       " array([1, 1, 1], dtype=int64),\n",
       " array([0, 0, 0], dtype=int64),\n",
       " array([1, 1, 0], dtype=int64),\n",
       " array([1, 1, 0], dtype=int64),\n",
       " array([1, 1, 1], dtype=int64),\n",
       " array([1, 0, 1], dtype=int64),\n",
       " array([1, 0, 1], dtype=int64),\n",
       " array([1, 0, 1], dtype=int64),\n",
       " array([1, 1, 1], dtype=int64),\n",
       " array([1, 1, 1], dtype=int64),\n",
       " array([1, 0, 1], dtype=int64),\n",
       " array([1, 0, 1], dtype=int64),\n",
       " array([1, 1, 1], dtype=int64),\n",
       " array([1, 1, 1], dtype=int64),\n",
       " array([1, 0, 1], dtype=int64),\n",
       " array([1, 0, 1], dtype=int64),\n",
       " array([1, 0, 1], dtype=int64),\n",
       " array([1, 0, 1], dtype=int64),\n",
       " array([1, 0, 1], dtype=int64),\n",
       " array([1, 0, 1], dtype=int64),\n",
       " array([1, 0, 1], dtype=int64),\n",
       " array([1, 1, 1], dtype=int64),\n",
       " array([1, 0, 1], dtype=int64),\n",
       " array([1, 0, 1], dtype=int64),\n",
       " array([1, 0, 1], dtype=int64),\n",
       " array([1, 0, 1], dtype=int64),\n",
       " array([1, 0, 1], dtype=int64),\n",
       " array([1, 0, 1], dtype=int64),\n",
       " array([1, 0, 1], dtype=int64),\n",
       " array([1, 1, 1], dtype=int64),\n",
       " array([1, 1, 1], dtype=int64),\n",
       " array([1, 0, 1], dtype=int64),\n",
       " array([1, 1, 1], dtype=int64),\n",
       " array([1, 0, 1], dtype=int64)]"
      ]
     },
     "execution_count": 92,
     "metadata": {},
     "output_type": "execute_result"
    }
   ],
   "source": [
    "axial_labels_valid"
   ]
  }
 ],
 "metadata": {
  "kernelspec": {
   "display_name": "Python 3.9.0 64-bit",
   "language": "python",
   "name": "python3"
  },
  "language_info": {
   "codemirror_mode": {
    "name": "ipython",
    "version": 3
   },
   "file_extension": ".py",
   "mimetype": "text/x-python",
   "name": "python",
   "nbconvert_exporter": "python",
   "pygments_lexer": "ipython3",
   "version": "3.9.0"
  },
  "vscode": {
   "interpreter": {
    "hash": "d94c30e0e1491bc1311a2b99889a1cbb8d1d3420a9d7675a2a02d2080eb1cad5"
   }
  }
 },
 "nbformat": 4,
 "nbformat_minor": 4
}
